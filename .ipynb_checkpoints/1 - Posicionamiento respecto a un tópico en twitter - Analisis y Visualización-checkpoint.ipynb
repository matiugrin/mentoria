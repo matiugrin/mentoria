{
 "cells": [
  {
   "cell_type": "markdown",
   "metadata": {},
   "source": [
    "# Segmentación de los datos"
   ]
  },
  {
   "cell_type": "markdown",
   "metadata": {},
   "source": [
    "A mi me gusta poner todos los imports arriba de todo"
   ]
  },
  {
   "cell_type": "code",
   "execution_count": 1,
   "metadata": {},
   "outputs": [],
   "source": [
    "import pandas as pd"
   ]
  },
  {
   "cell_type": "code",
   "execution_count": 62,
   "metadata": {},
   "outputs": [],
   "source": [
    "# -1 muestra el texto completo\n",
    "# set_option('display.max_colwidth', -1) "
   ]
  },
  {
   "cell_type": "markdown",
   "metadata": {},
   "source": [
    "## Levantamos los datos etiquetados"
   ]
  },
  {
   "cell_type": "markdown",
   "metadata": {},
   "source": [
    "Para que tengan un poco de contexto, los datos fueron sacados de una competencia internacional, la SemEval 2016 Task 6. Les dejo acá la página por si quieren ver qué hicieron los competidores con estos datos, los análisis de los dataset y los resultados (busquen el paper de la competencia) y información general: http://alt.qcri.org/semeval2016/task6/"
   ]
  },
  {
   "cell_type": "code",
   "execution_count": 38,
   "metadata": {},
   "outputs": [],
   "source": [
    "train = pd.read_csv(\"train.csv\", sep=\",\", encoding=\"latin1\").fillna(method=\"ffill\")\n",
    "test = pd.read_csv(\"test.csv\", sep=\",\", encoding=\"latin1\").fillna(method=\"ffill\")"
   ]
  },
  {
   "cell_type": "markdown",
   "metadata": {},
   "source": [
    "Vemos los datos que levantamos. Yo lo dejo hecho para Train y ustedes hacen lo mismo para Test:"
   ]
  },
  {
   "cell_type": "code",
   "execution_count": 64,
   "metadata": {},
   "outputs": [
    {
     "data": {
      "text/html": [
       "<div>\n",
       "<style scoped>\n",
       "    .dataframe tbody tr th:only-of-type {\n",
       "        vertical-align: middle;\n",
       "    }\n",
       "\n",
       "    .dataframe tbody tr th {\n",
       "        vertical-align: top;\n",
       "    }\n",
       "\n",
       "    .dataframe thead th {\n",
       "        text-align: right;\n",
       "    }\n",
       "</style>\n",
       "<table border=\"1\" class=\"dataframe\">\n",
       "  <thead>\n",
       "    <tr style=\"text-align: right;\">\n",
       "      <th></th>\n",
       "      <th>Tweet</th>\n",
       "      <th>Target</th>\n",
       "      <th>Stance</th>\n",
       "      <th>Opinion Towards</th>\n",
       "      <th>Sentiment</th>\n",
       "    </tr>\n",
       "  </thead>\n",
       "  <tbody>\n",
       "    <tr>\n",
       "      <th>0</th>\n",
       "      <td>@tedcruz And, #HandOverTheServer she wiped clean + 30k deleted emails, explains dereliction of duty/lies re #Benghazi,etc #tcot</td>\n",
       "      <td>Hillary Clinton</td>\n",
       "      <td>AGAINST</td>\n",
       "      <td>1.  The tweet explicitly expresses opinion about the target, a part of the target, or an aspect of the target.</td>\n",
       "      <td>neg</td>\n",
       "    </tr>\n",
       "    <tr>\n",
       "      <th>1</th>\n",
       "      <td>Hillary is our best choice if we truly want to continue being a progressive nation. #Ohio</td>\n",
       "      <td>Hillary Clinton</td>\n",
       "      <td>FAVOR</td>\n",
       "      <td>1.  The tweet explicitly expresses opinion about the target, a part of the target, or an aspect of the target.</td>\n",
       "      <td>pos</td>\n",
       "    </tr>\n",
       "    <tr>\n",
       "      <th>2</th>\n",
       "      <td>@TheView I think our country is ready for a female pres, it can't ever be Hillary</td>\n",
       "      <td>Hillary Clinton</td>\n",
       "      <td>AGAINST</td>\n",
       "      <td>1.  The tweet explicitly expresses opinion about the target, a part of the target, or an aspect of the target.</td>\n",
       "      <td>neg</td>\n",
       "    </tr>\n",
       "    <tr>\n",
       "      <th>3</th>\n",
       "      <td>I just gave an unhealthy amount of my hard-earned money away to the big gov't &amp; untrustworthy IRS. #WhyImNotVotingForHillary</td>\n",
       "      <td>Hillary Clinton</td>\n",
       "      <td>AGAINST</td>\n",
       "      <td>1.  The tweet explicitly expresses opinion about the target, a part of the target, or an aspect of the target.</td>\n",
       "      <td>neg</td>\n",
       "    </tr>\n",
       "    <tr>\n",
       "      <th>4</th>\n",
       "      <td>@PortiaABoulger Thank you for adding me to your list</td>\n",
       "      <td>Hillary Clinton</td>\n",
       "      <td>NONE</td>\n",
       "      <td>3.  The tweet is not explicitly expressing opinion. (For example, the tweet is simply giving information.)</td>\n",
       "      <td>pos</td>\n",
       "    </tr>\n",
       "  </tbody>\n",
       "</table>\n",
       "</div>"
      ],
      "text/plain": [
       "                                                                                                                             Tweet  \\\n",
       "0  @tedcruz And, #HandOverTheServer she wiped clean + 30k deleted emails, explains dereliction of duty/lies re #Benghazi,etc #tcot   \n",
       "1  Hillary is our best choice if we truly want to continue being a progressive nation. #Ohio                                         \n",
       "2  @TheView I think our country is ready for a female pres, it can't ever be Hillary                                                 \n",
       "3  I just gave an unhealthy amount of my hard-earned money away to the big gov't & untrustworthy IRS. #WhyImNotVotingForHillary      \n",
       "4  @PortiaABoulger Thank you for adding me to your list                                                                              \n",
       "\n",
       "            Target   Stance  \\\n",
       "0  Hillary Clinton  AGAINST   \n",
       "1  Hillary Clinton  FAVOR     \n",
       "2  Hillary Clinton  AGAINST   \n",
       "3  Hillary Clinton  AGAINST   \n",
       "4  Hillary Clinton  NONE      \n",
       "\n",
       "                                                                                                  Opinion Towards  \\\n",
       "0  1.  The tweet explicitly expresses opinion about the target, a part of the target, or an aspect of the target.   \n",
       "1  1.  The tweet explicitly expresses opinion about the target, a part of the target, or an aspect of the target.   \n",
       "2  1.  The tweet explicitly expresses opinion about the target, a part of the target, or an aspect of the target.   \n",
       "3  1.  The tweet explicitly expresses opinion about the target, a part of the target, or an aspect of the target.   \n",
       "4  3.  The tweet is not explicitly expressing opinion. (For example, the tweet is simply giving information.)       \n",
       "\n",
       "  Sentiment  \n",
       "0  neg       \n",
       "1  pos       \n",
       "2  neg       \n",
       "3  neg       \n",
       "4  pos       "
      ]
     },
     "execution_count": 64,
     "metadata": {},
     "output_type": "execute_result"
    }
   ],
   "source": [
    "train.head(5) #Si quieren ver mas cambian el parametro de 5 a lo que quieran"
   ]
  },
  {
   "cell_type": "markdown",
   "metadata": {},
   "source": [
    "Contamos cuantos tweets hay para cada stance y para cada target. Es importante ver si las clases están balanceadas y si hay desbalance cuan pronunciado es y hacia qué clase. Notar qué sucede por ejemplo con Climate Change, que vamos a usar después."
   ]
  },
  {
   "cell_type": "code",
   "execution_count": 79,
   "metadata": {},
   "outputs": [
    {
     "data": {
      "text/plain": [
       "Target                            Stance \n",
       "Atheism                           AGAINST    304\n",
       "                                  FAVOR       92\n",
       "                                  NONE       117\n",
       "Climate Change is a Real Concern  AGAINST     15\n",
       "                                  FAVOR      212\n",
       "                                  NONE       168\n",
       "Feminist Movement                 AGAINST    328\n",
       "                                  FAVOR      210\n",
       "                                  NONE       126\n",
       "Hillary Clinton                   AGAINST    393\n",
       "                                  FAVOR      118\n",
       "                                  NONE       178\n",
       "Legalization of Abortion          AGAINST    355\n",
       "                                  FAVOR      121\n",
       "                                  NONE       177\n",
       "dtype: int64"
      ]
     },
     "execution_count": 79,
     "metadata": {},
     "output_type": "execute_result"
    }
   ],
   "source": [
    "stances = train.groupby([\"Target\", \"Stance\"]).size()\n",
    "stances"
   ]
  },
  {
   "cell_type": "markdown",
   "metadata": {},
   "source": [
    "La función describe nos da estadísticas generales del dataset"
   ]
  },
  {
   "cell_type": "code",
   "execution_count": 66,
   "metadata": {},
   "outputs": [
    {
     "data": {
      "text/html": [
       "<div>\n",
       "<style scoped>\n",
       "    .dataframe tbody tr th:only-of-type {\n",
       "        vertical-align: middle;\n",
       "    }\n",
       "\n",
       "    .dataframe tbody tr th {\n",
       "        vertical-align: top;\n",
       "    }\n",
       "\n",
       "    .dataframe thead th {\n",
       "        text-align: right;\n",
       "    }\n",
       "</style>\n",
       "<table border=\"1\" class=\"dataframe\">\n",
       "  <thead>\n",
       "    <tr style=\"text-align: right;\">\n",
       "      <th></th>\n",
       "      <th>Tweet</th>\n",
       "      <th>Target</th>\n",
       "      <th>Stance</th>\n",
       "      <th>Opinion Towards</th>\n",
       "      <th>Sentiment</th>\n",
       "    </tr>\n",
       "  </thead>\n",
       "  <tbody>\n",
       "    <tr>\n",
       "      <th>count</th>\n",
       "      <td>2914</td>\n",
       "      <td>2914</td>\n",
       "      <td>2914</td>\n",
       "      <td>2914</td>\n",
       "      <td>2914</td>\n",
       "    </tr>\n",
       "    <tr>\n",
       "      <th>unique</th>\n",
       "      <td>2914</td>\n",
       "      <td>5</td>\n",
       "      <td>3</td>\n",
       "      <td>3</td>\n",
       "      <td>3</td>\n",
       "    </tr>\n",
       "    <tr>\n",
       "      <th>top</th>\n",
       "      <td>@HillaryClinton @WomenintheWorld we need to re-establish a #global system dominated by love and affection have #moral_humane RT</td>\n",
       "      <td>Hillary Clinton</td>\n",
       "      <td>AGAINST</td>\n",
       "      <td>1.  The tweet explicitly expresses opinion about the target, a part of the target, or an aspect of the target.</td>\n",
       "      <td>neg</td>\n",
       "    </tr>\n",
       "    <tr>\n",
       "      <th>freq</th>\n",
       "      <td>1</td>\n",
       "      <td>689</td>\n",
       "      <td>1395</td>\n",
       "      <td>1716</td>\n",
       "      <td>1762</td>\n",
       "    </tr>\n",
       "  </tbody>\n",
       "</table>\n",
       "</div>"
      ],
      "text/plain": [
       "                                                                                                                                  Tweet  \\\n",
       "count   2914                                                                                                                              \n",
       "unique  2914                                                                                                                              \n",
       "top     @HillaryClinton @WomenintheWorld we need to re-establish a #global system dominated by love and affection have #moral_humane RT   \n",
       "freq    1                                                                                                                                 \n",
       "\n",
       "                 Target   Stance  \\\n",
       "count   2914             2914      \n",
       "unique  5                3         \n",
       "top     Hillary Clinton  AGAINST   \n",
       "freq    689              1395      \n",
       "\n",
       "                                                                                                       Opinion Towards  \\\n",
       "count   2914                                                                                                             \n",
       "unique  3                                                                                                                \n",
       "top     1.  The tweet explicitly expresses opinion about the target, a part of the target, or an aspect of the target.   \n",
       "freq    1716                                                                                                             \n",
       "\n",
       "       Sentiment  \n",
       "count   2914      \n",
       "unique  3         \n",
       "top     neg       \n",
       "freq    1762      "
      ]
     },
     "execution_count": 66,
     "metadata": {},
     "output_type": "execute_result"
    }
   ],
   "source": [
    "train.describe(include = 'all')"
   ]
  },
  {
   "cell_type": "markdown",
   "metadata": {},
   "source": [
    "Nosotros vamos a trabajar sobre todo con la columna \"Stance\" como nuestra etiqueta, pero exploremos las otras dos (Opinion y Sentiment) para ver qué información tienen..."
   ]
  },
  {
   "cell_type": "code",
   "execution_count": 67,
   "metadata": {},
   "outputs": [
    {
     "data": {
      "text/plain": [
       "array(['1.  The tweet explicitly expresses opinion about the target, a part of the target, or an aspect of the target.',\n",
       "       '3.  The tweet is not explicitly expressing opinion. (For example, the tweet is simply giving information.)',\n",
       "       '2. The tweet does NOT expresses opinion about the target but it HAS opinion about something or someone other than the target.'],\n",
       "      dtype=object)"
      ]
     },
     "execution_count": 67,
     "metadata": {},
     "output_type": "execute_result"
    }
   ],
   "source": [
    "train[\"Opinion Towards\"].unique()"
   ]
  },
  {
   "cell_type": "code",
   "execution_count": 68,
   "metadata": {},
   "outputs": [
    {
     "data": {
      "text/plain": [
       "1.  The tweet explicitly expresses opinion about the target, a part of the target, or an aspect of the target.                   0.588881\n",
       "2. The tweet does NOT expresses opinion about the target but it HAS opinion about something or someone other than the target.    0.351407\n",
       "3.  The tweet is not explicitly expressing opinion. (For example, the tweet is simply giving information.)                       0.059712\n",
       "Name: Opinion Towards, dtype: float64"
      ]
     },
     "execution_count": 68,
     "metadata": {},
     "output_type": "execute_result"
    }
   ],
   "source": [
    "train[\"Opinion Towards\"].value_counts(normalize = True)"
   ]
  },
  {
   "cell_type": "code",
   "execution_count": 69,
   "metadata": {},
   "outputs": [
    {
     "data": {
      "text/plain": [
       "1.  The tweet explicitly expresses opinion about the target, a part of the target, or an aspect of the target.                   1716\n",
       "2. The tweet does NOT expresses opinion about the target but it HAS opinion about something or someone other than the target.    1024\n",
       "3.  The tweet is not explicitly expressing opinion. (For example, the tweet is simply giving information.)                       174 \n",
       "Name: Opinion Towards, dtype: int64"
      ]
     },
     "execution_count": 69,
     "metadata": {},
     "output_type": "execute_result"
    }
   ],
   "source": [
    "train[\"Opinion Towards\"].value_counts()"
   ]
  },
  {
   "cell_type": "markdown",
   "metadata": {},
   "source": [
    "Prueben filtrar por valores y buscar combinaciones que les puedan parecer interesantes. Por ejemplo, acá buscamos tweets que no tengan un posicionamiento definido respecto al tópico pero que sin embargo expresen opinion"
   ]
  },
  {
   "cell_type": "code",
   "execution_count": 78,
   "metadata": {},
   "outputs": [
    {
     "name": "stderr",
     "output_type": "stream",
     "text": [
      "/home/matias/anaconda3/lib/python3.7/site-packages/ipykernel_launcher.py:1: UserWarning: Boolean Series key will be reindexed to match DataFrame index.\n",
      "  \"\"\"Entry point for launching an IPython kernel.\n"
     ]
    },
    {
     "data": {
      "text/html": [
       "<div>\n",
       "<style scoped>\n",
       "    .dataframe tbody tr th:only-of-type {\n",
       "        vertical-align: middle;\n",
       "    }\n",
       "\n",
       "    .dataframe tbody tr th {\n",
       "        vertical-align: top;\n",
       "    }\n",
       "\n",
       "    .dataframe thead th {\n",
       "        text-align: right;\n",
       "    }\n",
       "</style>\n",
       "<table border=\"1\" class=\"dataframe\">\n",
       "  <thead>\n",
       "    <tr style=\"text-align: right;\">\n",
       "      <th></th>\n",
       "      <th>Tweet</th>\n",
       "      <th>Target</th>\n",
       "      <th>Stance</th>\n",
       "      <th>Opinion Towards</th>\n",
       "      <th>Sentiment</th>\n",
       "    </tr>\n",
       "  </thead>\n",
       "  <tbody>\n",
       "    <tr>\n",
       "      <th>346</th>\n",
       "      <td>atheism involves what a person does or does not believe, agnosticism involves what a person does or does not know.  #Waterford #SemST</td>\n",
       "      <td>Atheism</td>\n",
       "      <td>NONE</td>\n",
       "      <td>1.  The tweet explicitly expresses opinion about the target, a part of the target, or an aspect of the target.</td>\n",
       "      <td>other</td>\n",
       "    </tr>\n",
       "    <tr>\n",
       "      <th>762</th>\n",
       "      <td>@realDonaldTrump - You are not very smart Donald #SemST</td>\n",
       "      <td>Climate Change is a Real Concern</td>\n",
       "      <td>NONE</td>\n",
       "      <td>1.  The tweet explicitly expresses opinion about the target, a part of the target, or an aspect of the target.</td>\n",
       "      <td>neg</td>\n",
       "    </tr>\n",
       "    <tr>\n",
       "      <th>816</th>\n",
       "      <td>We need to work with confidence, transparence and guided by consensus @manupulgarvidal at @UN_PGA event on #action2015 #SemST</td>\n",
       "      <td>Climate Change is a Real Concern</td>\n",
       "      <td>NONE</td>\n",
       "      <td>1.  The tweet explicitly expresses opinion about the target, a part of the target, or an aspect of the target.</td>\n",
       "      <td>pos</td>\n",
       "    </tr>\n",
       "    <tr>\n",
       "      <th>1129</th>\n",
       "      <td>Hey, all you #prolife-ers, if Socrates was born mortal, and his mother thus doomed him to die, is she a murderer? #SemST</td>\n",
       "      <td>Feminist Movement</td>\n",
       "      <td>NONE</td>\n",
       "      <td>1.  The tweet explicitly expresses opinion about the target, a part of the target, or an aspect of the target.</td>\n",
       "      <td>neg</td>\n",
       "    </tr>\n",
       "    <tr>\n",
       "      <th>1174</th>\n",
       "      <td>.@cooImemegirl @TC_Stompa So what? It is a man's choice whether he wants to breast feed his children. #SemST</td>\n",
       "      <td>Feminist Movement</td>\n",
       "      <td>NONE</td>\n",
       "      <td>1.  The tweet explicitly expresses opinion about the target, a part of the target, or an aspect of the target.</td>\n",
       "      <td>neg</td>\n",
       "    </tr>\n",
       "    <tr>\n",
       "      <th>1410</th>\n",
       "      <td>@E__Strobel @rsmccain @instapundit @CHSommers @CathyYoung63 @AsheSchow @mensrightsrdt @Anneeliz1 That's right. All sex is rape. #SemST</td>\n",
       "      <td>Feminist Movement</td>\n",
       "      <td>NONE</td>\n",
       "      <td>1.  The tweet explicitly expresses opinion about the target, a part of the target, or an aspect of the target.</td>\n",
       "      <td>neg</td>\n",
       "    </tr>\n",
       "    <tr>\n",
       "      <th>1626</th>\n",
       "      <td>@orange_kae a lot of people get indoctrinated in a movement by reading comments and articles. For example #meinkamp. #equality #SemST</td>\n",
       "      <td>Feminist Movement</td>\n",
       "      <td>NONE</td>\n",
       "      <td>1.  The tweet explicitly expresses opinion about the target, a part of the target, or an aspect of the target.</td>\n",
       "      <td>other</td>\n",
       "    </tr>\n",
       "    <tr>\n",
       "      <th>2510</th>\n",
       "      <td>@charlescwcooke @HillaryClinton Once they're born, that is. #SemST</td>\n",
       "      <td>Legalization of Abortion</td>\n",
       "      <td>NONE</td>\n",
       "      <td>1.  The tweet explicitly expresses opinion about the target, a part of the target, or an aspect of the target.</td>\n",
       "      <td>other</td>\n",
       "    </tr>\n",
       "    <tr>\n",
       "      <th>2752</th>\n",
       "      <td>RT @modernwerewolf: Why doesn't anyone congratulate me for NOT getting knocked up? Throw me a damn shower #ReproJustice #SemST</td>\n",
       "      <td>Legalization of Abortion</td>\n",
       "      <td>NONE</td>\n",
       "      <td>1.  The tweet explicitly expresses opinion about the target, a part of the target, or an aspect of the target.</td>\n",
       "      <td>neg</td>\n",
       "    </tr>\n",
       "  </tbody>\n",
       "</table>\n",
       "</div>"
      ],
      "text/plain": [
       "                                                                                                                                       Tweet  \\\n",
       "346   atheism involves what a person does or does not believe, agnosticism involves what a person does or does not know.  #Waterford #SemST    \n",
       "762   @realDonaldTrump - You are not very smart Donald #SemST                                                                                  \n",
       "816   We need to work with confidence, transparence and guided by consensus @manupulgarvidal at @UN_PGA event on #action2015 #SemST            \n",
       "1129  Hey, all you #prolife-ers, if Socrates was born mortal, and his mother thus doomed him to die, is she a murderer? #SemST                 \n",
       "1174  .@cooImemegirl @TC_Stompa So what? It is a man's choice whether he wants to breast feed his children. #SemST                             \n",
       "1410  @E__Strobel @rsmccain @instapundit @CHSommers @CathyYoung63 @AsheSchow @mensrightsrdt @Anneeliz1 That's right. All sex is rape. #SemST   \n",
       "1626  @orange_kae a lot of people get indoctrinated in a movement by reading comments and articles. For example #meinkamp. #equality #SemST    \n",
       "2510  @charlescwcooke @HillaryClinton Once they're born, that is. #SemST                                                                       \n",
       "2752  RT @modernwerewolf: Why doesn't anyone congratulate me for NOT getting knocked up? Throw me a damn shower #ReproJustice #SemST           \n",
       "\n",
       "                                Target Stance  \\\n",
       "346   Atheism                           NONE    \n",
       "762   Climate Change is a Real Concern  NONE    \n",
       "816   Climate Change is a Real Concern  NONE    \n",
       "1129  Feminist Movement                 NONE    \n",
       "1174  Feminist Movement                 NONE    \n",
       "1410  Feminist Movement                 NONE    \n",
       "1626  Feminist Movement                 NONE    \n",
       "2510  Legalization of Abortion          NONE    \n",
       "2752  Legalization of Abortion          NONE    \n",
       "\n",
       "                                                                                                     Opinion Towards  \\\n",
       "346   1.  The tweet explicitly expresses opinion about the target, a part of the target, or an aspect of the target.   \n",
       "762   1.  The tweet explicitly expresses opinion about the target, a part of the target, or an aspect of the target.   \n",
       "816   1.  The tweet explicitly expresses opinion about the target, a part of the target, or an aspect of the target.   \n",
       "1129  1.  The tweet explicitly expresses opinion about the target, a part of the target, or an aspect of the target.   \n",
       "1174  1.  The tweet explicitly expresses opinion about the target, a part of the target, or an aspect of the target.   \n",
       "1410  1.  The tweet explicitly expresses opinion about the target, a part of the target, or an aspect of the target.   \n",
       "1626  1.  The tweet explicitly expresses opinion about the target, a part of the target, or an aspect of the target.   \n",
       "2510  1.  The tweet explicitly expresses opinion about the target, a part of the target, or an aspect of the target.   \n",
       "2752  1.  The tweet explicitly expresses opinion about the target, a part of the target, or an aspect of the target.   \n",
       "\n",
       "     Sentiment  \n",
       "346   other     \n",
       "762   neg       \n",
       "816   pos       \n",
       "1129  neg       \n",
       "1174  neg       \n",
       "1410  neg       \n",
       "1626  other     \n",
       "2510  other     \n",
       "2752  neg       "
      ]
     },
     "execution_count": 78,
     "metadata": {},
     "output_type": "execute_result"
    }
   ],
   "source": [
    "train[(train[\"Stance\"] == \"NONE\")][train[\"Opinion Towards\"] == \"1.  The tweet explicitly expresses opinion about the target, a part of the target, or an aspect of the target.\"]"
   ]
  },
  {
   "cell_type": "markdown",
   "metadata": {},
   "source": [
    "Tweets que tengan un posicionamiento definido pero que el Tweet no exprese opinion. "
   ]
  },
  {
   "cell_type": "code",
   "execution_count": 87,
   "metadata": {},
   "outputs": [
    {
     "name": "stderr",
     "output_type": "stream",
     "text": [
      "/home/matias/anaconda3/lib/python3.7/site-packages/ipykernel_launcher.py:1: UserWarning: Boolean Series key will be reindexed to match DataFrame index.\n",
      "  \"\"\"Entry point for launching an IPython kernel.\n"
     ]
    },
    {
     "data": {
      "text/html": [
       "<div>\n",
       "<style scoped>\n",
       "    .dataframe tbody tr th:only-of-type {\n",
       "        vertical-align: middle;\n",
       "    }\n",
       "\n",
       "    .dataframe tbody tr th {\n",
       "        vertical-align: top;\n",
       "    }\n",
       "\n",
       "    .dataframe thead th {\n",
       "        text-align: right;\n",
       "    }\n",
       "</style>\n",
       "<table border=\"1\" class=\"dataframe\">\n",
       "  <thead>\n",
       "    <tr style=\"text-align: right;\">\n",
       "      <th></th>\n",
       "      <th>Tweet</th>\n",
       "      <th>Target</th>\n",
       "      <th>Stance</th>\n",
       "      <th>Opinion Towards</th>\n",
       "      <th>Sentiment</th>\n",
       "    </tr>\n",
       "  </thead>\n",
       "  <tbody>\n",
       "    <tr>\n",
       "      <th>230</th>\n",
       "      <td>Faithful God, we #pray that we may learn to trust the uncertainty &amp; mystery of walking on water toward you #SemST</td>\n",
       "      <td>Atheism</td>\n",
       "      <td>AGAINST</td>\n",
       "      <td>3.  The tweet is not explicitly expressing opinion. (For example, the tweet is simply giving information.)</td>\n",
       "      <td>pos</td>\n",
       "    </tr>\n",
       "    <tr>\n",
       "      <th>257</th>\n",
       "      <td>Zubair Ibn Awwam accepted #Islam at the age of 15 and dedicated his #life to protecting and promoting the #BlessedTen #SemST</td>\n",
       "      <td>Atheism</td>\n",
       "      <td>AGAINST</td>\n",
       "      <td>3.  The tweet is not explicitly expressing opinion. (For example, the tweet is simply giving information.)</td>\n",
       "      <td>pos</td>\n",
       "    </tr>\n",
       "    <tr>\n",
       "      <th>505</th>\n",
       "      <td>Faith is being in the impossibilities that we don't believe will happen #SemST</td>\n",
       "      <td>Atheism</td>\n",
       "      <td>AGAINST</td>\n",
       "      <td>3.  The tweet is not explicitly expressing opinion. (For example, the tweet is simply giving information.)</td>\n",
       "      <td>pos</td>\n",
       "    </tr>\n",
       "    <tr>\n",
       "      <th>529</th>\n",
       "      <td>You can have everything in this life, but as long as you are not pleasing #God, there will always be a void in your heart. #SemST</td>\n",
       "      <td>Atheism</td>\n",
       "      <td>AGAINST</td>\n",
       "      <td>3.  The tweet is not explicitly expressing opinion. (For example, the tweet is simply giving information.)</td>\n",
       "      <td>pos</td>\n",
       "    </tr>\n",
       "    <tr>\n",
       "      <th>601</th>\n",
       "      <td>Romans 15:1 We who are powerful need to be patient with the weakness of those who don't have power, and not please ourselves. CEB  #SemST</td>\n",
       "      <td>Atheism</td>\n",
       "      <td>AGAINST</td>\n",
       "      <td>3.  The tweet is not explicitly expressing opinion. (For example, the tweet is simply giving information.)</td>\n",
       "      <td>pos</td>\n",
       "    </tr>\n",
       "    <tr>\n",
       "      <th>617</th>\n",
       "      <td>@davidswann says he wants carbon fund to be spent on public transportation and renewable energy. #ejlive #ableg #SemST</td>\n",
       "      <td>Climate Change is a Real Concern</td>\n",
       "      <td>FAVOR</td>\n",
       "      <td>3.  The tweet is not explicitly expressing opinion. (For example, the tweet is simply giving information.)</td>\n",
       "      <td>other</td>\n",
       "    </tr>\n",
       "    <tr>\n",
       "      <th>786</th>\n",
       "      <td>RT @abhinav_khanal: 700 people dead in Pakistan due to heatwave. #SemST</td>\n",
       "      <td>Climate Change is a Real Concern</td>\n",
       "      <td>FAVOR</td>\n",
       "      <td>3.  The tweet is not explicitly expressing opinion. (For example, the tweet is simply giving information.)</td>\n",
       "      <td>neg</td>\n",
       "    </tr>\n",
       "    <tr>\n",
       "      <th>791</th>\n",
       "      <td>Inland so cal has been hot and humid all day. This seems to be our summers - muggy. So strange. #SemST</td>\n",
       "      <td>Climate Change is a Real Concern</td>\n",
       "      <td>FAVOR</td>\n",
       "      <td>3.  The tweet is not explicitly expressing opinion. (For example, the tweet is simply giving information.)</td>\n",
       "      <td>neg</td>\n",
       "    </tr>\n",
       "    <tr>\n",
       "      <th>810</th>\n",
       "      <td>All eyes on China, reports @ClimateNexus -  plan building on agreement with US re: #emissions expected soon #cop21 #ghg #SemST</td>\n",
       "      <td>Climate Change is a Real Concern</td>\n",
       "      <td>FAVOR</td>\n",
       "      <td>3.  The tweet is not explicitly expressing opinion. (For example, the tweet is simply giving information.)</td>\n",
       "      <td>other</td>\n",
       "    </tr>\n",
       "    <tr>\n",
       "      <th>811</th>\n",
       "      <td>Reading: \"The Whale and the Supercomputer. On the Northern Front of Climate Change\" by Charles Wohlforth #arctic #SemST</td>\n",
       "      <td>Climate Change is a Real Concern</td>\n",
       "      <td>FAVOR</td>\n",
       "      <td>3.  The tweet is not explicitly expressing opinion. (For example, the tweet is simply giving information.)</td>\n",
       "      <td>pos</td>\n",
       "    </tr>\n",
       "    <tr>\n",
       "      <th>1197</th>\n",
       "      <td>@VirginRadioTO @MauraGrierson how about \"Maura &amp; Tucker in the morning\" #equality #seniority #SemST</td>\n",
       "      <td>Feminist Movement</td>\n",
       "      <td>FAVOR</td>\n",
       "      <td>3.  The tweet is not explicitly expressing opinion. (For example, the tweet is simply giving information.)</td>\n",
       "      <td>other</td>\n",
       "    </tr>\n",
       "    <tr>\n",
       "      <th>1575</th>\n",
       "      <td>DEAR FEMINISTS &amp; SJWs  I am a proud Troll. Make sure I am not proud of what you want to shame me for.  #GamerGate  #SemST</td>\n",
       "      <td>Feminist Movement</td>\n",
       "      <td>AGAINST</td>\n",
       "      <td>3.  The tweet is not explicitly expressing opinion. (For example, the tweet is simply giving information.)</td>\n",
       "      <td>neg</td>\n",
       "    </tr>\n",
       "    <tr>\n",
       "      <th>1792</th>\n",
       "      <td>Before leaving my dad's I took the liberty in framing and put up the pictures he has meeting Hillary and Bill Clinton in '92 #SemST</td>\n",
       "      <td>Hillary Clinton</td>\n",
       "      <td>FAVOR</td>\n",
       "      <td>3.  The tweet is not explicitly expressing opinion. (For example, the tweet is simply giving information.)</td>\n",
       "      <td>pos</td>\n",
       "    </tr>\n",
       "    <tr>\n",
       "      <th>2362</th>\n",
       "      <td>UB Students for Life and @createdequalorg are currently on North Campus by the Student Union speaking out against #SemST</td>\n",
       "      <td>Legalization of Abortion</td>\n",
       "      <td>AGAINST</td>\n",
       "      <td>3.  The tweet is not explicitly expressing opinion. (For example, the tweet is simply giving information.)</td>\n",
       "      <td>other</td>\n",
       "    </tr>\n",
       "    <tr>\n",
       "      <th>2849</th>\n",
       "      <td>In so many ways, to so many people around the world, America really IS the \"Great Satan\" #GayMarriage #Drugs #WakeUpAmerica #SemST</td>\n",
       "      <td>Legalization of Abortion</td>\n",
       "      <td>AGAINST</td>\n",
       "      <td>3.  The tweet is not explicitly expressing opinion. (For example, the tweet is simply giving information.)</td>\n",
       "      <td>neg</td>\n",
       "    </tr>\n",
       "  </tbody>\n",
       "</table>\n",
       "</div>"
      ],
      "text/plain": [
       "                                                                                                                                          Tweet  \\\n",
       "230   Faithful God, we #pray that we may learn to trust the uncertainty & mystery of walking on water toward you #SemST                           \n",
       "257   Zubair Ibn Awwam accepted #Islam at the age of 15 and dedicated his #life to protecting and promoting the #BlessedTen #SemST                \n",
       "505   Faith is being in the impossibilities that we don't believe will happen #SemST                                                              \n",
       "529   You can have everything in this life, but as long as you are not pleasing #God, there will always be a void in your heart. #SemST           \n",
       "601   Romans 15:1 We who are powerful need to be patient with the weakness of those who don't have power, and not please ourselves. CEB  #SemST   \n",
       "617   @davidswann says he wants carbon fund to be spent on public transportation and renewable energy. #ejlive #ableg #SemST                      \n",
       "786   RT @abhinav_khanal: 700 people dead in Pakistan due to heatwave. #SemST                                                                     \n",
       "791   Inland so cal has been hot and humid all day. This seems to be our summers - muggy. So strange. #SemST                                      \n",
       "810   All eyes on China, reports @ClimateNexus -  plan building on agreement with US re: #emissions expected soon #cop21 #ghg #SemST              \n",
       "811   Reading: \"The Whale and the Supercomputer. On the Northern Front of Climate Change\" by Charles Wohlforth #arctic #SemST                     \n",
       "1197  @VirginRadioTO @MauraGrierson how about \"Maura & Tucker in the morning\" #equality #seniority #SemST                                         \n",
       "1575  DEAR FEMINISTS & SJWs  I am a proud Troll. Make sure I am not proud of what you want to shame me for.  #GamerGate  #SemST                   \n",
       "1792  Before leaving my dad's I took the liberty in framing and put up the pictures he has meeting Hillary and Bill Clinton in '92 #SemST         \n",
       "2362  UB Students for Life and @createdequalorg are currently on North Campus by the Student Union speaking out against #SemST                    \n",
       "2849  In so many ways, to so many people around the world, America really IS the \"Great Satan\" #GayMarriage #Drugs #WakeUpAmerica #SemST          \n",
       "\n",
       "                                Target   Stance  \\\n",
       "230   Atheism                           AGAINST   \n",
       "257   Atheism                           AGAINST   \n",
       "505   Atheism                           AGAINST   \n",
       "529   Atheism                           AGAINST   \n",
       "601   Atheism                           AGAINST   \n",
       "617   Climate Change is a Real Concern  FAVOR     \n",
       "786   Climate Change is a Real Concern  FAVOR     \n",
       "791   Climate Change is a Real Concern  FAVOR     \n",
       "810   Climate Change is a Real Concern  FAVOR     \n",
       "811   Climate Change is a Real Concern  FAVOR     \n",
       "1197  Feminist Movement                 FAVOR     \n",
       "1575  Feminist Movement                 AGAINST   \n",
       "1792  Hillary Clinton                   FAVOR     \n",
       "2362  Legalization of Abortion          AGAINST   \n",
       "2849  Legalization of Abortion          AGAINST   \n",
       "\n",
       "                                                                                                 Opinion Towards  \\\n",
       "230   3.  The tweet is not explicitly expressing opinion. (For example, the tweet is simply giving information.)   \n",
       "257   3.  The tweet is not explicitly expressing opinion. (For example, the tweet is simply giving information.)   \n",
       "505   3.  The tweet is not explicitly expressing opinion. (For example, the tweet is simply giving information.)   \n",
       "529   3.  The tweet is not explicitly expressing opinion. (For example, the tweet is simply giving information.)   \n",
       "601   3.  The tweet is not explicitly expressing opinion. (For example, the tweet is simply giving information.)   \n",
       "617   3.  The tweet is not explicitly expressing opinion. (For example, the tweet is simply giving information.)   \n",
       "786   3.  The tweet is not explicitly expressing opinion. (For example, the tweet is simply giving information.)   \n",
       "791   3.  The tweet is not explicitly expressing opinion. (For example, the tweet is simply giving information.)   \n",
       "810   3.  The tweet is not explicitly expressing opinion. (For example, the tweet is simply giving information.)   \n",
       "811   3.  The tweet is not explicitly expressing opinion. (For example, the tweet is simply giving information.)   \n",
       "1197  3.  The tweet is not explicitly expressing opinion. (For example, the tweet is simply giving information.)   \n",
       "1575  3.  The tweet is not explicitly expressing opinion. (For example, the tweet is simply giving information.)   \n",
       "1792  3.  The tweet is not explicitly expressing opinion. (For example, the tweet is simply giving information.)   \n",
       "2362  3.  The tweet is not explicitly expressing opinion. (For example, the tweet is simply giving information.)   \n",
       "2849  3.  The tweet is not explicitly expressing opinion. (For example, the tweet is simply giving information.)   \n",
       "\n",
       "     Sentiment  \n",
       "230   pos       \n",
       "257   pos       \n",
       "505   pos       \n",
       "529   pos       \n",
       "601   pos       \n",
       "617   other     \n",
       "786   neg       \n",
       "791   neg       \n",
       "810   other     \n",
       "811   pos       \n",
       "1197  other     \n",
       "1575  neg       \n",
       "1792  pos       \n",
       "2362  other     \n",
       "2849  neg       "
      ]
     },
     "execution_count": 87,
     "metadata": {},
     "output_type": "execute_result"
    }
   ],
   "source": [
    "train[(train[\"Stance\"] != 'NONE')][train[\"Opinion Towards\"] == \"3.  The tweet is not explicitly expressing opinion. (For example, the tweet is simply giving information.)\"]\n",
    "# train[(train[\"Stance\"] == \"NONE\")][train[\"Opinion Towards\"] == \"1.  The tweet explicitly expresses opinion about the target, a part of the target, or an aspect of the target.\"]"
   ]
  },
  {
   "cell_type": "markdown",
   "metadata": {},
   "source": [
    "## Ejercicio 1"
   ]
  },
  {
   "cell_type": "markdown",
   "metadata": {},
   "source": [
    "Hacer todo lo que está hecho arriba pero para el dataset de test. Observar bien la distribución de las clases en el dataset (especialmente para el Target Climate Change) y calcular los porcentajes de cada clase. Escribir un parrafito mencionando cuales son los targets con mayor y menor desbalanceo, cómo piensan que esto puede afectar futuros experimentos e ideas que tengan para solucionar posibles problemas"
   ]
  },
  {
   "cell_type": "code",
   "execution_count": 39,
   "metadata": {},
   "outputs": [
    {
     "data": {
      "text/html": [
       "<div>\n",
       "<style scoped>\n",
       "    .dataframe tbody tr th:only-of-type {\n",
       "        vertical-align: middle;\n",
       "    }\n",
       "\n",
       "    .dataframe tbody tr th {\n",
       "        vertical-align: top;\n",
       "    }\n",
       "\n",
       "    .dataframe thead th {\n",
       "        text-align: right;\n",
       "    }\n",
       "</style>\n",
       "<table border=\"1\" class=\"dataframe\">\n",
       "  <thead>\n",
       "    <tr style=\"text-align: right;\">\n",
       "      <th></th>\n",
       "      <th>Tweet</th>\n",
       "      <th>Target</th>\n",
       "      <th>Stance</th>\n",
       "      <th>Opinion Towards</th>\n",
       "      <th>Sentiment</th>\n",
       "    </tr>\n",
       "  </thead>\n",
       "  <tbody>\n",
       "    <tr>\n",
       "      <th>0</th>\n",
       "      <td>He who exalts himself shall      be humbled; a...</td>\n",
       "      <td>Atheism</td>\n",
       "      <td>AGAINST</td>\n",
       "      <td>1.  The tweet explicitly expresses opinion abo...</td>\n",
       "      <td>pos</td>\n",
       "    </tr>\n",
       "    <tr>\n",
       "      <th>1</th>\n",
       "      <td>RT @prayerbullets: I remove Nehushtan -previou...</td>\n",
       "      <td>Atheism</td>\n",
       "      <td>AGAINST</td>\n",
       "      <td>1.  The tweet explicitly expresses opinion abo...</td>\n",
       "      <td>other</td>\n",
       "    </tr>\n",
       "    <tr>\n",
       "      <th>2</th>\n",
       "      <td>@Brainman365 @heidtjj @BenjaminLives I have so...</td>\n",
       "      <td>Atheism</td>\n",
       "      <td>AGAINST</td>\n",
       "      <td>1.  The tweet explicitly expresses opinion abo...</td>\n",
       "      <td>pos</td>\n",
       "    </tr>\n",
       "    <tr>\n",
       "      <th>3</th>\n",
       "      <td>#God is utterly powerless without Human interv...</td>\n",
       "      <td>Atheism</td>\n",
       "      <td>AGAINST</td>\n",
       "      <td>1.  The tweet explicitly expresses opinion abo...</td>\n",
       "      <td>neg</td>\n",
       "    </tr>\n",
       "    <tr>\n",
       "      <th>4</th>\n",
       "      <td>@David_Cameron   Miracles of #Multiculturalism...</td>\n",
       "      <td>Atheism</td>\n",
       "      <td>AGAINST</td>\n",
       "      <td>2. The tweet does NOT expresses opinion about ...</td>\n",
       "      <td>neg</td>\n",
       "    </tr>\n",
       "  </tbody>\n",
       "</table>\n",
       "</div>"
      ],
      "text/plain": [
       "                                               Tweet   Target   Stance  \\\n",
       "0  He who exalts himself shall      be humbled; a...  Atheism  AGAINST   \n",
       "1  RT @prayerbullets: I remove Nehushtan -previou...  Atheism  AGAINST   \n",
       "2  @Brainman365 @heidtjj @BenjaminLives I have so...  Atheism  AGAINST   \n",
       "3  #God is utterly powerless without Human interv...  Atheism  AGAINST   \n",
       "4  @David_Cameron   Miracles of #Multiculturalism...  Atheism  AGAINST   \n",
       "\n",
       "                                     Opinion Towards Sentiment  \n",
       "0  1.  The tweet explicitly expresses opinion abo...       pos  \n",
       "1  1.  The tweet explicitly expresses opinion abo...     other  \n",
       "2  1.  The tweet explicitly expresses opinion abo...       pos  \n",
       "3  1.  The tweet explicitly expresses opinion abo...       neg  \n",
       "4  2. The tweet does NOT expresses opinion about ...       neg  "
      ]
     },
     "execution_count": 39,
     "metadata": {},
     "output_type": "execute_result"
    }
   ],
   "source": [
    "test.head(5)"
   ]
  },
  {
   "cell_type": "code",
   "execution_count": 40,
   "metadata": {},
   "outputs": [
    {
     "data": {
      "text/html": [
       "<div>\n",
       "<style scoped>\n",
       "    .dataframe tbody tr th:only-of-type {\n",
       "        vertical-align: middle;\n",
       "    }\n",
       "\n",
       "    .dataframe tbody tr th {\n",
       "        vertical-align: top;\n",
       "    }\n",
       "\n",
       "    .dataframe thead th {\n",
       "        text-align: right;\n",
       "    }\n",
       "</style>\n",
       "<table border=\"1\" class=\"dataframe\">\n",
       "  <thead>\n",
       "    <tr style=\"text-align: right;\">\n",
       "      <th></th>\n",
       "      <th>Tweet</th>\n",
       "      <th>Target</th>\n",
       "      <th>Stance</th>\n",
       "      <th>Opinion Towards</th>\n",
       "      <th>Sentiment</th>\n",
       "    </tr>\n",
       "  </thead>\n",
       "  <tbody>\n",
       "    <tr>\n",
       "      <th>count</th>\n",
       "      <td>1956</td>\n",
       "      <td>1956</td>\n",
       "      <td>1956</td>\n",
       "      <td>1956</td>\n",
       "      <td>1956</td>\n",
       "    </tr>\n",
       "    <tr>\n",
       "      <th>unique</th>\n",
       "      <td>1956</td>\n",
       "      <td>6</td>\n",
       "      <td>3</td>\n",
       "      <td>3</td>\n",
       "      <td>3</td>\n",
       "    </tr>\n",
       "    <tr>\n",
       "      <th>top</th>\n",
       "      <td>@_Holly_Renee I want to fav this tweet....caus...</td>\n",
       "      <td>Donald Trump</td>\n",
       "      <td>AGAINST</td>\n",
       "      <td>1.  The tweet explicitly expresses opinion abo...</td>\n",
       "      <td>neg</td>\n",
       "    </tr>\n",
       "    <tr>\n",
       "      <th>freq</th>\n",
       "      <td>1</td>\n",
       "      <td>707</td>\n",
       "      <td>1014</td>\n",
       "      <td>1148</td>\n",
       "      <td>1272</td>\n",
       "    </tr>\n",
       "  </tbody>\n",
       "</table>\n",
       "</div>"
      ],
      "text/plain": [
       "                                                    Tweet        Target  \\\n",
       "count                                                1956          1956   \n",
       "unique                                               1956             6   \n",
       "top     @_Holly_Renee I want to fav this tweet....caus...  Donald Trump   \n",
       "freq                                                    1           707   \n",
       "\n",
       "         Stance                                    Opinion Towards Sentiment  \n",
       "count      1956                                               1956      1956  \n",
       "unique        3                                                  3         3  \n",
       "top     AGAINST  1.  The tweet explicitly expresses opinion abo...       neg  \n",
       "freq       1014                                               1148      1272  "
      ]
     },
     "execution_count": 40,
     "metadata": {},
     "output_type": "execute_result"
    }
   ],
   "source": [
    "test.describe(include = 'all')"
   ]
  },
  {
   "cell_type": "code",
   "execution_count": 80,
   "metadata": {},
   "outputs": [
    {
     "data": {
      "text/plain": [
       "Target                            Stance \n",
       "Atheism                           AGAINST    160\n",
       "                                  FAVOR       32\n",
       "                                  NONE        28\n",
       "Climate Change is a Real Concern  AGAINST     11\n",
       "                                  FAVOR      123\n",
       "                                  NONE        35\n",
       "Donald Trump                      AGAINST    299\n",
       "                                  FAVOR      148\n",
       "                                  NONE       260\n",
       "Feminist Movement                 AGAINST    183\n",
       "                                  FAVOR       58\n",
       "                                  NONE        44\n",
       "Hillary Clinton                   AGAINST    172\n",
       "                                  FAVOR       45\n",
       "                                  NONE        78\n",
       "Legalization of Abortion          AGAINST    189\n",
       "                                  FAVOR       46\n",
       "                                  NONE        45\n",
       "dtype: int64"
      ]
     },
     "execution_count": 80,
     "metadata": {},
     "output_type": "execute_result"
    }
   ],
   "source": [
    "# podria usar count() en lugar de size(), pero me muestra todas las columnas.\n",
    "test_stances = test.groupby([\"Target\", \"Stance\"]).size()\n",
    "test_stances"
   ]
  },
  {
   "cell_type": "code",
   "execution_count": 83,
   "metadata": {},
   "outputs": [
    {
     "data": {
      "text/html": [
       "<div>\n",
       "<style scoped>\n",
       "    .dataframe tbody tr th:only-of-type {\n",
       "        vertical-align: middle;\n",
       "    }\n",
       "\n",
       "    .dataframe tbody tr th {\n",
       "        vertical-align: top;\n",
       "    }\n",
       "\n",
       "    .dataframe thead th {\n",
       "        text-align: right;\n",
       "    }\n",
       "</style>\n",
       "<table border=\"1\" class=\"dataframe\">\n",
       "  <thead>\n",
       "    <tr style=\"text-align: right;\">\n",
       "      <th></th>\n",
       "      <th>Target</th>\n",
       "      <th>Stance</th>\n",
       "      <th>Test</th>\n",
       "      <th>Train</th>\n",
       "    </tr>\n",
       "  </thead>\n",
       "  <tbody>\n",
       "    <tr>\n",
       "      <th>0</th>\n",
       "      <td>Atheism</td>\n",
       "      <td>AGAINST</td>\n",
       "      <td>160</td>\n",
       "      <td>304.0</td>\n",
       "    </tr>\n",
       "    <tr>\n",
       "      <th>1</th>\n",
       "      <td>Atheism</td>\n",
       "      <td>FAVOR</td>\n",
       "      <td>32</td>\n",
       "      <td>92.0</td>\n",
       "    </tr>\n",
       "    <tr>\n",
       "      <th>2</th>\n",
       "      <td>Atheism</td>\n",
       "      <td>NONE</td>\n",
       "      <td>28</td>\n",
       "      <td>117.0</td>\n",
       "    </tr>\n",
       "    <tr>\n",
       "      <th>3</th>\n",
       "      <td>Climate Change is a Real Concern</td>\n",
       "      <td>AGAINST</td>\n",
       "      <td>11</td>\n",
       "      <td>15.0</td>\n",
       "    </tr>\n",
       "    <tr>\n",
       "      <th>4</th>\n",
       "      <td>Climate Change is a Real Concern</td>\n",
       "      <td>FAVOR</td>\n",
       "      <td>123</td>\n",
       "      <td>212.0</td>\n",
       "    </tr>\n",
       "    <tr>\n",
       "      <th>5</th>\n",
       "      <td>Climate Change is a Real Concern</td>\n",
       "      <td>NONE</td>\n",
       "      <td>35</td>\n",
       "      <td>168.0</td>\n",
       "    </tr>\n",
       "    <tr>\n",
       "      <th>6</th>\n",
       "      <td>Donald Trump</td>\n",
       "      <td>AGAINST</td>\n",
       "      <td>299</td>\n",
       "      <td>NaN</td>\n",
       "    </tr>\n",
       "    <tr>\n",
       "      <th>7</th>\n",
       "      <td>Donald Trump</td>\n",
       "      <td>FAVOR</td>\n",
       "      <td>148</td>\n",
       "      <td>NaN</td>\n",
       "    </tr>\n",
       "    <tr>\n",
       "      <th>8</th>\n",
       "      <td>Donald Trump</td>\n",
       "      <td>NONE</td>\n",
       "      <td>260</td>\n",
       "      <td>NaN</td>\n",
       "    </tr>\n",
       "    <tr>\n",
       "      <th>9</th>\n",
       "      <td>Feminist Movement</td>\n",
       "      <td>AGAINST</td>\n",
       "      <td>183</td>\n",
       "      <td>328.0</td>\n",
       "    </tr>\n",
       "    <tr>\n",
       "      <th>10</th>\n",
       "      <td>Feminist Movement</td>\n",
       "      <td>FAVOR</td>\n",
       "      <td>58</td>\n",
       "      <td>210.0</td>\n",
       "    </tr>\n",
       "    <tr>\n",
       "      <th>11</th>\n",
       "      <td>Feminist Movement</td>\n",
       "      <td>NONE</td>\n",
       "      <td>44</td>\n",
       "      <td>126.0</td>\n",
       "    </tr>\n",
       "    <tr>\n",
       "      <th>12</th>\n",
       "      <td>Hillary Clinton</td>\n",
       "      <td>AGAINST</td>\n",
       "      <td>172</td>\n",
       "      <td>393.0</td>\n",
       "    </tr>\n",
       "    <tr>\n",
       "      <th>13</th>\n",
       "      <td>Hillary Clinton</td>\n",
       "      <td>FAVOR</td>\n",
       "      <td>45</td>\n",
       "      <td>118.0</td>\n",
       "    </tr>\n",
       "    <tr>\n",
       "      <th>14</th>\n",
       "      <td>Hillary Clinton</td>\n",
       "      <td>NONE</td>\n",
       "      <td>78</td>\n",
       "      <td>178.0</td>\n",
       "    </tr>\n",
       "    <tr>\n",
       "      <th>15</th>\n",
       "      <td>Legalization of Abortion</td>\n",
       "      <td>AGAINST</td>\n",
       "      <td>189</td>\n",
       "      <td>355.0</td>\n",
       "    </tr>\n",
       "    <tr>\n",
       "      <th>16</th>\n",
       "      <td>Legalization of Abortion</td>\n",
       "      <td>FAVOR</td>\n",
       "      <td>46</td>\n",
       "      <td>121.0</td>\n",
       "    </tr>\n",
       "    <tr>\n",
       "      <th>17</th>\n",
       "      <td>Legalization of Abortion</td>\n",
       "      <td>NONE</td>\n",
       "      <td>45</td>\n",
       "      <td>177.0</td>\n",
       "    </tr>\n",
       "  </tbody>\n",
       "</table>\n",
       "</div>"
      ],
      "text/plain": [
       "                              Target   Stance  Test  Train\n",
       "0                            Atheism  AGAINST   160  304.0\n",
       "1                            Atheism    FAVOR    32   92.0\n",
       "2                            Atheism     NONE    28  117.0\n",
       "3   Climate Change is a Real Concern  AGAINST    11   15.0\n",
       "4   Climate Change is a Real Concern    FAVOR   123  212.0\n",
       "5   Climate Change is a Real Concern     NONE    35  168.0\n",
       "6                       Donald Trump  AGAINST   299    NaN\n",
       "7                       Donald Trump    FAVOR   148    NaN\n",
       "8                       Donald Trump     NONE   260    NaN\n",
       "9                  Feminist Movement  AGAINST   183  328.0\n",
       "10                 Feminist Movement    FAVOR    58  210.0\n",
       "11                 Feminist Movement     NONE    44  126.0\n",
       "12                   Hillary Clinton  AGAINST   172  393.0\n",
       "13                   Hillary Clinton    FAVOR    45  118.0\n",
       "14                   Hillary Clinton     NONE    78  178.0\n",
       "15          Legalization of Abortion  AGAINST   189  355.0\n",
       "16          Legalization of Abortion    FAVOR    46  121.0\n",
       "17          Legalization of Abortion     NONE    45  177.0"
      ]
     },
     "execution_count": 83,
     "metadata": {},
     "output_type": "execute_result"
    }
   ],
   "source": [
    "pd.concat([test_stances.rename('Test'), stances.rename('Train')], axis=1).reset_index()"
   ]
  },
  {
   "cell_type": "markdown",
   "metadata": {},
   "source": [
    "Porque tenemos Donald Trump en test y no en train??"
   ]
  },
  {
   "cell_type": "markdown",
   "metadata": {},
   "source": [
    "En el dataset Train, la clase mas balanceada es \"Feminism Movement\", y la mas desbalanceada, \"Climate Change\"\n",
    "\n",
    "\"Donald Trump\" es la clase mas balanceada, y las mas desbalanceadas son \"Atheism\" y \"Climate Change\".\n",
    "\n",
    "Entiendo que mientras mas datos tengamos para test o para train, vamos a lograr mejores resultados, (o por lo menos tendriamos un mejor entrenamiento y posterior test.) \n",
    "\n",
    "Pero como afectara eso???"
   ]
  },
  {
   "cell_type": "markdown",
   "metadata": {},
   "source": [
    "#### Calculamos los % de cada Clase"
   ]
  },
  {
   "cell_type": "code",
   "execution_count": 61,
   "metadata": {},
   "outputs": [
    {
     "data": {
      "text/html": [
       "<div>\n",
       "<style scoped>\n",
       "    .dataframe tbody tr th:only-of-type {\n",
       "        vertical-align: middle;\n",
       "    }\n",
       "\n",
       "    .dataframe tbody tr th {\n",
       "        vertical-align: top;\n",
       "    }\n",
       "\n",
       "    .dataframe thead th {\n",
       "        text-align: right;\n",
       "    }\n",
       "</style>\n",
       "<table border=\"1\" class=\"dataframe\">\n",
       "  <thead>\n",
       "    <tr style=\"text-align: right;\">\n",
       "      <th></th>\n",
       "      <th>index</th>\n",
       "      <th>%</th>\n",
       "      <th>size</th>\n",
       "    </tr>\n",
       "  </thead>\n",
       "  <tbody>\n",
       "    <tr>\n",
       "      <th>0</th>\n",
       "      <td>Donald Trump</td>\n",
       "      <td>0.361452</td>\n",
       "      <td>707</td>\n",
       "    </tr>\n",
       "    <tr>\n",
       "      <th>1</th>\n",
       "      <td>Hillary Clinton</td>\n",
       "      <td>0.150818</td>\n",
       "      <td>295</td>\n",
       "    </tr>\n",
       "    <tr>\n",
       "      <th>2</th>\n",
       "      <td>Feminist Movement</td>\n",
       "      <td>0.145706</td>\n",
       "      <td>285</td>\n",
       "    </tr>\n",
       "    <tr>\n",
       "      <th>3</th>\n",
       "      <td>Legalization of Abortion</td>\n",
       "      <td>0.143149</td>\n",
       "      <td>280</td>\n",
       "    </tr>\n",
       "    <tr>\n",
       "      <th>4</th>\n",
       "      <td>Atheism</td>\n",
       "      <td>0.112474</td>\n",
       "      <td>220</td>\n",
       "    </tr>\n",
       "    <tr>\n",
       "      <th>5</th>\n",
       "      <td>Climate Change is a Real Concern</td>\n",
       "      <td>0.086401</td>\n",
       "      <td>169</td>\n",
       "    </tr>\n",
       "  </tbody>\n",
       "</table>\n",
       "</div>"
      ],
      "text/plain": [
       "                              index         %  size\n",
       "0                      Donald Trump  0.361452   707\n",
       "1                   Hillary Clinton  0.150818   295\n",
       "2                 Feminist Movement  0.145706   285\n",
       "3          Legalization of Abortion  0.143149   280\n",
       "4                           Atheism  0.112474   220\n",
       "5  Climate Change is a Real Concern  0.086401   169"
      ]
     },
     "execution_count": 61,
     "metadata": {},
     "output_type": "execute_result"
    }
   ],
   "source": [
    "target_percentage = test[\"Target\"].value_counts(normalize = True)\n",
    "target_counts = test[\"Target\"].value_counts()\n",
    "\n",
    "pd.concat([target_percentage.rename('%'), target_counts.rename('size')], axis=1).reset_index()"
   ]
  },
  {
   "cell_type": "markdown",
   "metadata": {},
   "source": [
    "### Yapa del Ejercicio 1"
   ]
  },
  {
   "cell_type": "markdown",
   "metadata": {},
   "source": [
    "Observen esto... qué opinan?"
   ]
  },
  {
   "cell_type": "code",
   "execution_count": 105,
   "metadata": {},
   "outputs": [
    {
     "name": "stdout",
     "output_type": "stream",
     "text": [
      "Those who deny women who've been raped abortion are the same ppl who tell rape victims they asked for it. #rape #SemST AGAINST\n"
     ]
    }
   ],
   "source": [
    "abortion = test[test[\"Target\"] == \"Legalization of Abortion\"]\n",
    "print(abortion.loc[982][\"Tweet\"], abortion.loc[982][\"Stance\"])"
   ]
  },
  {
   "cell_type": "markdown",
   "metadata": {},
   "source": [
    "Anécdota: cuando empezamos a trabajar con este dataset descubrimos que había un 28% del dataset de test de aborto, un 10% del dataset de train de feminismo y un 16% del dataset de test de feminismo que estaban obsenamente mal clasificados. Todos los que compitieron en la competencia internacional lo hicieron con este dataset incorrecto y nadie lo notó... Nadie se tomó el trabajo de leer los tweets o ver por qué les daban mal las clasificaciones. En la carpeta \"Para después del ejercicio 1\" van a encontrar tres archivos con los datasets de train y test para feminismo corregidos y test para aborto corregidos. En esta notebook yo voy a seguir trabajando con los datasets originales ya que no debería cambiar mucho los resultados a los efectos de este trabajo. Pero para los siguientes trabajos, les va a cambiar el resultado de sus clasificadores si usan o no usan los datasets corregidos."
   ]
  },
  {
   "cell_type": "markdown",
   "metadata": {},
   "source": [
    "# Un poquito twitter pelado"
   ]
  },
  {
   "cell_type": "markdown",
   "metadata": {},
   "source": [
    "Vamos a empezar a trabajar con los datos de twitter sin etiquetar. Vamos a usar los archivos .csv que compartió Matías levantados del mongo (así no tienen que pelearse con mongo). Si son muy pesados y les vuelven lenta la máquina pueden eliminar la mitad, tres cuartos o la cantidad que necesiten de tweets y trabajar con un dataset más chico. También pueden eliminar campos una vez que hayan importado el archivo (ahora vamos a ver como) dado que en principio vamos a trabajar sólo con tweet.full_text, tweet.retweeted_status.full_text, tweet.user.id_str, y tweet.retweeted_status.user.id_str. Para esta parte, peguen los archivos que mandó Matías en la misma carpeta que esta notebook"
   ]
  },
  {
   "cell_type": "code",
   "execution_count": 2,
   "metadata": {},
   "outputs": [
    {
     "name": "stderr",
     "output_type": "stream",
     "text": [
      "/home/matias/anaconda3/lib/python3.7/site-packages/IPython/core/interactiveshell.py:3063: DtypeWarning: Columns (5,6,20,24,39) have mixed types.Specify dtype option on import or set low_memory=False.\n",
      "  interactivity=interactivity, compiler=compiler, result=result)\n"
     ]
    }
   ],
   "source": [
    "abortion = pd.read_csv(\"../data/abortion2_tweets.csv\")"
   ]
  },
  {
   "cell_type": "code",
   "execution_count": 32,
   "metadata": {},
   "outputs": [
    {
     "data": {
      "text/plain": [
       "613550"
      ]
     },
     "execution_count": 32,
     "metadata": {},
     "output_type": "execute_result"
    }
   ],
   "source": [
    "len(abortion)"
   ]
  },
  {
   "cell_type": "code",
   "execution_count": 4,
   "metadata": {},
   "outputs": [
    {
     "data": {
      "text/plain": [
       "95887"
      ]
     },
     "execution_count": 4,
     "metadata": {},
     "output_type": "execute_result"
    }
   ],
   "source": [
    "len(abortion[\"tweet.full_text\"].unique())"
   ]
  },
  {
   "cell_type": "markdown",
   "metadata": {},
   "source": [
    "Hay tweets repetidos! Por supuesto, muchos son retweets y aunque estén repetidos los vamos a usar para construir un grafo de usuarios. Sin embargo... todos los tweets tienen valores validos?"
   ]
  },
  {
   "cell_type": "code",
   "execution_count": 5,
   "metadata": {},
   "outputs": [
    {
     "name": "stdout",
     "output_type": "stream",
     "text": [
      "613550\n",
      "318860\n"
     ]
    }
   ],
   "source": [
    "print(len(abortion[\"tweet.full_text\"]))\n",
    "print(len(abortion[\"tweet.full_text\"].dropna())) #Elimina los tweets que tienen valor NaN (not a number a.k.a. valor inválido) en la columna tweet.full_text"
   ]
  },
  {
   "cell_type": "markdown",
   "metadata": {},
   "source": [
    "Los tweets pueden aparecer en distintas columnas. A veces están en la columna \"tweet.full_text\" y a veces en otras, como por ejemplo \"tweet.retweeted_status.text\". Necesitamos que estén en una misma columna sino va a ser muy dificil trabajar con el dataset. Vamos a definir una función que busque donde está el texto del tweet y lo agregue en una columna nueva (que le puse de nombre \"full_text\", no es muy original, pero es lo que se me ocurrió)"
   ]
  },
  {
   "cell_type": "code",
   "execution_count": 27,
   "metadata": {},
   "outputs": [],
   "source": [
    "import json\n",
    "import numpy\n",
    "def get_text(tweet):\n",
    "    if tweet[\"tweet.retweeted_status.text\"] == tweet[\"tweet.retweeted_status.text\"]:\n",
    "        return tweet[\"tweet.retweeted_status.text\"]\n",
    "    else:\n",
    "        if tweet[\"tweet.extended_tweet.full_text\"] == tweet[\"tweet.extended_tweet.full_text\"]:\n",
    "            return tweet[\"tweet.extended_tweet.full_text\"]\n",
    "        else:\n",
    "            if tweet[\"tweet.text\"] == tweet[\"tweet.text\"]:\n",
    "                return tweet[\"tweet.text\"]\n",
    "            else:\n",
    "                return tweet[\"tweet.full_text\"]"
   ]
  },
  {
   "cell_type": "code",
   "execution_count": 28,
   "metadata": {},
   "outputs": [],
   "source": [
    "abortion[\"full_text\"] = abortion.apply(get_text, axis=1)"
   ]
  },
  {
   "cell_type": "markdown",
   "metadata": {},
   "source": [
    "Muchos tweets están repetidos! Esto es porque muchos retwitean el mismo tweet. Igualmente necesitamos los repetidos porque los vamos a usar luego para armar el grafo de usuarios."
   ]
  },
  {
   "cell_type": "markdown",
   "metadata": {},
   "source": [
    "Vamos a ver si mejoramos la cobertura viendo cuantas filas hay que no estén vacías"
   ]
  },
  {
   "cell_type": "code",
   "execution_count": 29,
   "metadata": {},
   "outputs": [
    {
     "data": {
      "text/plain": [
       "613550"
      ]
     },
     "execution_count": 29,
     "metadata": {},
     "output_type": "execute_result"
    }
   ],
   "source": [
    "len(abortion[\"full_text\"].dropna())"
   ]
  },
  {
   "cell_type": "code",
   "execution_count": 30,
   "metadata": {},
   "outputs": [
    {
     "data": {
      "text/html": [
       "<div>\n",
       "<style scoped>\n",
       "    .dataframe tbody tr th:only-of-type {\n",
       "        vertical-align: middle;\n",
       "    }\n",
       "\n",
       "    .dataframe tbody tr th {\n",
       "        vertical-align: top;\n",
       "    }\n",
       "\n",
       "    .dataframe thead th {\n",
       "        text-align: right;\n",
       "    }\n",
       "</style>\n",
       "<table border=\"1\" class=\"dataframe\">\n",
       "  <thead>\n",
       "    <tr style=\"text-align: right;\">\n",
       "      <th></th>\n",
       "      <th>tweet.full_text</th>\n",
       "      <th>tweet.text</th>\n",
       "      <th>full_text</th>\n",
       "      <th>tweet.retweeted_status.text</th>\n",
       "      <th>tweet.extended_tweet.full_text</th>\n",
       "    </tr>\n",
       "  </thead>\n",
       "  <tbody>\n",
       "    <tr>\n",
       "      <th>0</th>\n",
       "      <td>RT @MikeH_PR: The fictitious Labour account ap...</td>\n",
       "      <td>NaN</td>\n",
       "      <td>RT @MikeH_PR: The fictitious Labour account ap...</td>\n",
       "      <td>NaN</td>\n",
       "      <td>NaN</td>\n",
       "    </tr>\n",
       "    <tr>\n",
       "      <th>1</th>\n",
       "      <td>RT @NARAL: This week, the U.S. Ambassador to t...</td>\n",
       "      <td>NaN</td>\n",
       "      <td>RT @NARAL: This week, the U.S. Ambassador to t...</td>\n",
       "      <td>NaN</td>\n",
       "      <td>NaN</td>\n",
       "    </tr>\n",
       "    <tr>\n",
       "      <th>2</th>\n",
       "      <td>RT @letthemliveorg: URGENT: Help us cancel an ...</td>\n",
       "      <td>NaN</td>\n",
       "      <td>RT @letthemliveorg: URGENT: Help us cancel an ...</td>\n",
       "      <td>NaN</td>\n",
       "      <td>NaN</td>\n",
       "    </tr>\n",
       "    <tr>\n",
       "      <th>3</th>\n",
       "      <td>Writing an essay on what philosophers have to ...</td>\n",
       "      <td>NaN</td>\n",
       "      <td>Writing an essay on what philosophers have to ...</td>\n",
       "      <td>NaN</td>\n",
       "      <td>NaN</td>\n",
       "    </tr>\n",
       "    <tr>\n",
       "      <th>4</th>\n",
       "      <td>@rn_gal @OpalescentMoon @realDonaldTrump Killi...</td>\n",
       "      <td>NaN</td>\n",
       "      <td>@rn_gal @OpalescentMoon @realDonaldTrump Killi...</td>\n",
       "      <td>NaN</td>\n",
       "      <td>NaN</td>\n",
       "    </tr>\n",
       "    <tr>\n",
       "      <th>...</th>\n",
       "      <td>...</td>\n",
       "      <td>...</td>\n",
       "      <td>...</td>\n",
       "      <td>...</td>\n",
       "      <td>...</td>\n",
       "    </tr>\n",
       "    <tr>\n",
       "      <th>613545</th>\n",
       "      <td>NaN</td>\n",
       "      <td>If you're interested in seeing how fake women'...</td>\n",
       "      <td>If you're interested in seeing how fake women'...</td>\n",
       "      <td>NaN</td>\n",
       "      <td>If you're interested in seeing how fake women'...</td>\n",
       "    </tr>\n",
       "    <tr>\n",
       "      <th>613546</th>\n",
       "      <td>NaN</td>\n",
       "      <td>RT @PPMO_Advocates: @GovMikeParson @DocMcnick ...</td>\n",
       "      <td>@GovMikeParson @DocMcnick - (Shout-out to @PPS...</td>\n",
       "      <td>@GovMikeParson @DocMcnick - (Shout-out to @PPS...</td>\n",
       "      <td>NaN</td>\n",
       "    </tr>\n",
       "    <tr>\n",
       "      <th>613547</th>\n",
       "      <td>NaN</td>\n",
       "      <td>RT @ilyseh: ....Aaaaannnnnddd, Matt Bevin conc...</td>\n",
       "      <td>....Aaaaannnnnddd, Matt Bevin concedes. Kentuc...</td>\n",
       "      <td>....Aaaaannnnnddd, Matt Bevin concedes. Kentuc...</td>\n",
       "      <td>NaN</td>\n",
       "    </tr>\n",
       "    <tr>\n",
       "      <th>613548</th>\n",
       "      <td>NaN</td>\n",
       "      <td>Leana Wen really have the anti-abortion moveme...</td>\n",
       "      <td>Leana Wen really have the anti-abortion moveme...</td>\n",
       "      <td>NaN</td>\n",
       "      <td>NaN</td>\n",
       "    </tr>\n",
       "    <tr>\n",
       "      <th>613549</th>\n",
       "      <td>NaN</td>\n",
       "      <td>@TEHam87 \"If they survive the abortion stage, ...</td>\n",
       "      <td>@TEHam87 \"If they survive the abortion stage, ...</td>\n",
       "      <td>NaN</td>\n",
       "      <td>NaN</td>\n",
       "    </tr>\n",
       "  </tbody>\n",
       "</table>\n",
       "<p>613550 rows × 5 columns</p>\n",
       "</div>"
      ],
      "text/plain": [
       "                                          tweet.full_text  \\\n",
       "0       RT @MikeH_PR: The fictitious Labour account ap...   \n",
       "1       RT @NARAL: This week, the U.S. Ambassador to t...   \n",
       "2       RT @letthemliveorg: URGENT: Help us cancel an ...   \n",
       "3       Writing an essay on what philosophers have to ...   \n",
       "4       @rn_gal @OpalescentMoon @realDonaldTrump Killi...   \n",
       "...                                                   ...   \n",
       "613545                                                NaN   \n",
       "613546                                                NaN   \n",
       "613547                                                NaN   \n",
       "613548                                                NaN   \n",
       "613549                                                NaN   \n",
       "\n",
       "                                               tweet.text  \\\n",
       "0                                                     NaN   \n",
       "1                                                     NaN   \n",
       "2                                                     NaN   \n",
       "3                                                     NaN   \n",
       "4                                                     NaN   \n",
       "...                                                   ...   \n",
       "613545  If you're interested in seeing how fake women'...   \n",
       "613546  RT @PPMO_Advocates: @GovMikeParson @DocMcnick ...   \n",
       "613547  RT @ilyseh: ....Aaaaannnnnddd, Matt Bevin conc...   \n",
       "613548  Leana Wen really have the anti-abortion moveme...   \n",
       "613549  @TEHam87 \"If they survive the abortion stage, ...   \n",
       "\n",
       "                                                full_text  \\\n",
       "0       RT @MikeH_PR: The fictitious Labour account ap...   \n",
       "1       RT @NARAL: This week, the U.S. Ambassador to t...   \n",
       "2       RT @letthemliveorg: URGENT: Help us cancel an ...   \n",
       "3       Writing an essay on what philosophers have to ...   \n",
       "4       @rn_gal @OpalescentMoon @realDonaldTrump Killi...   \n",
       "...                                                   ...   \n",
       "613545  If you're interested in seeing how fake women'...   \n",
       "613546  @GovMikeParson @DocMcnick - (Shout-out to @PPS...   \n",
       "613547  ....Aaaaannnnnddd, Matt Bevin concedes. Kentuc...   \n",
       "613548  Leana Wen really have the anti-abortion moveme...   \n",
       "613549  @TEHam87 \"If they survive the abortion stage, ...   \n",
       "\n",
       "                              tweet.retweeted_status.text  \\\n",
       "0                                                     NaN   \n",
       "1                                                     NaN   \n",
       "2                                                     NaN   \n",
       "3                                                     NaN   \n",
       "4                                                     NaN   \n",
       "...                                                   ...   \n",
       "613545                                                NaN   \n",
       "613546  @GovMikeParson @DocMcnick - (Shout-out to @PPS...   \n",
       "613547  ....Aaaaannnnnddd, Matt Bevin concedes. Kentuc...   \n",
       "613548                                                NaN   \n",
       "613549                                                NaN   \n",
       "\n",
       "                           tweet.extended_tweet.full_text  \n",
       "0                                                     NaN  \n",
       "1                                                     NaN  \n",
       "2                                                     NaN  \n",
       "3                                                     NaN  \n",
       "4                                                     NaN  \n",
       "...                                                   ...  \n",
       "613545  If you're interested in seeing how fake women'...  \n",
       "613546                                                NaN  \n",
       "613547                                                NaN  \n",
       "613548                                                NaN  \n",
       "613549                                                NaN  \n",
       "\n",
       "[613550 rows x 5 columns]"
      ]
     },
     "execution_count": 30,
     "metadata": {},
     "output_type": "execute_result"
    }
   ],
   "source": [
    "abortion[['tweet.full_text','tweet.text','full_text','tweet.retweeted_status.text','tweet.extended_tweet.full_text']]"
   ]
  },
  {
   "cell_type": "code",
   "execution_count": 33,
   "metadata": {},
   "outputs": [
    {
     "data": {
      "text/plain": [
       "189222"
      ]
     },
     "execution_count": 33,
     "metadata": {},
     "output_type": "execute_result"
    }
   ],
   "source": [
    "len(abortion[\"full_text\"].unique())"
   ]
  },
  {
   "cell_type": "code",
   "execution_count": 35,
   "metadata": {},
   "outputs": [
    {
     "name": "stdout",
     "output_type": "stream",
     "text": [
      "613550\n",
      "318860\n",
      "216632\n",
      "294690\n",
      "42950\n"
     ]
    }
   ],
   "source": [
    "print(len(abortion[\"full_text\"].dropna()))\n",
    "print(len(abortion[\"tweet.full_text\"].dropna()))\n",
    "print(len(abortion[\"tweet.retweeted_status.text\"].dropna()))\n",
    "print(len(abortion[\"tweet.text\"].dropna()))\n",
    "print(len(abortion[\"tweet.extended_tweet.full_text\"].dropna()))"
   ]
  },
  {
   "cell_type": "markdown",
   "metadata": {},
   "source": [
    "Evidentemente mejoró, pero se puede hacer mejor?"
   ]
  },
  {
   "cell_type": "markdown",
   "metadata": {},
   "source": [
    "## Ejercicio 2"
   ]
  },
  {
   "cell_type": "markdown",
   "metadata": {},
   "source": [
    "Traten de mejorar la cobertura. No hace falta que todas todas las filas tengan el texto del tweet en la columna \"full_text\" pero traten de mejorar el valor que encontramos acá arriba."
   ]
  },
  {
   "cell_type": "markdown",
   "metadata": {},
   "source": [
    "NOTA: e modifico el set de datos, encontre que los Json de los tweets no tienen la misma estructura y hay algunos que el texto del tweet vienen en diferentes campos.\n",
    "\n",
    "tweet.full_text / tweet.retweeted_status.text / tweet.text / tweet.extended_tweet.full_text\n",
    "\n"
   ]
  },
  {
   "cell_type": "code",
   "execution_count": 84,
   "metadata": {},
   "outputs": [
    {
     "data": {
      "text/plain": [
       "Series([], dtype: int64)"
      ]
     },
     "execution_count": 84,
     "metadata": {},
     "output_type": "execute_result"
    }
   ],
   "source": [
    "abortion[abortion[\"full_text\"].isnull()].groupby(['query']).size()"
   ]
  },
  {
   "cell_type": "markdown",
   "metadata": {},
   "source": [
    "## Ejercicio 3"
   ]
  },
  {
   "cell_type": "markdown",
   "metadata": {},
   "source": [
    "Hacer todo lo mismo pero para los otros dos datasets"
   ]
  },
  {
   "cell_type": "markdown",
   "metadata": {},
   "source": [
    "# Armemos el grafo"
   ]
  },
  {
   "cell_type": "markdown",
   "metadata": {},
   "source": [
    "La idea va a ser la siguiente. Queremos usar la metadata de los tweets para estructurar de alguna manera los datos y después ver qué podemos hacer con eso. La manera más natural de hacer eso parecería ser armar un grafo. El grafo que vamos a armar va a tener a los usuarios de los tweets como nodos. Dos nodos van a estar conectados si alguno de los dos usuarios retweeteo algo del otro"
   ]
  },
  {
   "cell_type": "markdown",
   "metadata": {},
   "source": [
    "Primero queremos quedarnos solamente con los tweets que sean retweets..."
   ]
  },
  {
   "cell_type": "code",
   "execution_count": 156,
   "metadata": {},
   "outputs": [
    {
     "data": {
      "text/plain": [
       "462991"
      ]
     },
     "execution_count": 156,
     "metadata": {},
     "output_type": "execute_result"
    }
   ],
   "source": [
    "retweets = abortion.dropna(subset=[\"tweet.retweeted_status.user.id_str\"]) #Subset lo que hace es me elimina la fila si el nan está en la columna que le paso como parámetro\n",
    "len(retweets[\"tweet.retweeted_status.user.id_str\"])"
   ]
  },
  {
   "cell_type": "markdown",
   "metadata": {},
   "source": [
    "Este es el código para armar un grafo. Como ven no es taaaan complicado. Lo que hacemos es agregar un eje entre dos usuarios si uno retwitea del otro. Cuando agregamos un eje entre dos usuarios el nodo del usuario se agrega automáticamente"
   ]
  },
  {
   "cell_type": "code",
   "execution_count": 164,
   "metadata": {},
   "outputs": [],
   "source": [
    "import networkx as nx\n",
    "\n",
    "full_g = nx.Graph()\n",
    "vertex_ids = set()\n",
    "\n",
    "\n",
    "for user1, user2 in zip(retweets[\"tweet.user.id_str\"], retweets[\"tweet.retweeted_status.user.id_str\"]):\n",
    "    full_g.add_edge(user1, user2)"
   ]
  },
  {
   "cell_type": "markdown",
   "metadata": {},
   "source": [
    "#### Un poco de estadística sobre el grafo"
   ]
  },
  {
   "cell_type": "code",
   "execution_count": 167,
   "metadata": {},
   "outputs": [
    {
     "name": "stdout",
     "output_type": "stream",
     "text": [
      "Nodos: 234656\n",
      "Ejes: 399283\n"
     ]
    }
   ],
   "source": [
    "n = len(full_g.nodes)\n",
    "m = len(full_g.edges)\n",
    "complete = n * (n-1) / 2\n",
    "\n",
    "print(\"Nodos: {:.0f}\".format(n))\n",
    "print(\"Ejes: {:.0f}\".format(m))"
   ]
  },
  {
   "cell_type": "markdown",
   "metadata": {},
   "source": [
    "Este es un gráfico de nodos de acuerdo a su grado. El grado de un nodo es la cantidad de aristas que llegan/salen de él. Lo que nos dice el gráfico es la proporción de usuarios que son \"\"influencers\"\" ponele"
   ]
  },
  {
   "cell_type": "code",
   "execution_count": 168,
   "metadata": {
    "scrolled": true
   },
   "outputs": [
    {
     "data": {
      "image/png": "[encoded data removed]",
      "text/plain": [
       "<Figure size 432x288 with 1 Axes>"
      ]
     },
     "metadata": {
      "needs_background": "light"
     },
     "output_type": "display_data"
    }
   ],
   "source": [
    "%matplotlib inline\n",
    "import numpy as np\n",
    "from matplotlib import pyplot as plt\n",
    "\n",
    "degrees = np.array([full_g.degree(node) for node in full_g.nodes()])\n",
    "\n",
    "plt.hist(degrees, range=(0, 200), bins=100);\n",
    "plt.semilogy();"
   ]
  },
  {
   "cell_type": "markdown",
   "metadata": {},
   "source": [
    "Por ejemplo, acá lo que vemos es que hay 10 usuarios con 200 aristas, es decir, que fueron retwiteados o retwitearon por/de otros 200 usuarios. A la vez, vemos que hay 100000 usuarios (10^5) que no retwitearon ni fueron retwiteados por nadie (al menos por nadie que esté en nuestro dataset)"
   ]
  },
  {
   "cell_type": "markdown",
   "metadata": {},
   "source": [
    "Ahora vamos a recortar un poco el grafo porque sino va a ser imposible trabajar con algo de semejante tamaño"
   ]
  },
  {
   "cell_type": "code",
   "execution_count": 170,
   "metadata": {},
   "outputs": [],
   "source": [
    "def subgraph_strong_nodes(g, n):\n",
    "    \"\"\"\n",
    "    Devuelve subgrafo con nodos de grado mayor a n\n",
    "    \"\"\"\n",
    "    good_nodes = [node for node in g.nodes() if g.degree(node) >= n]\n",
    "    \n",
    "    return g.subgraph(good_nodes)"
   ]
  },
  {
   "cell_type": "markdown",
   "metadata": {},
   "source": [
    "Esta función se queda con los nodos del grafo que tienen grado mayor a n. Es decir, que fueron retwiteados (o retwitearon) por más de 5 personas. La idea es quedarnos con los que más influenciaron."
   ]
  },
  {
   "cell_type": "code",
   "execution_count": 171,
   "metadata": {},
   "outputs": [
    {
     "name": "stdout",
     "output_type": "stream",
     "text": [
      "Nos quedan 0.02M nodos (antes eran 0.23M)\n",
      "Componentes conexas = 901\n"
     ]
    }
   ],
   "source": [
    "g = subgraph_strong_nodes(full_g, 5)\n",
    "\n",
    "print(\"Nos quedan {:.2f}M nodos (antes eran {:.2f}M)\".format(\n",
    "    len(g.nodes) / 1e6,\n",
    "    len(full_g.nodes) / 1e6\n",
    "))\n",
    "print(\"Componentes conexas = {}\".format(len(list(nx.connected_components(g)))))"
   ]
  },
  {
   "cell_type": "markdown",
   "metadata": {},
   "source": [
    "Que es esto de \"componentes conexas\"? Un grafo puede no tener todas sus partes conectadas entre sí. Esto puede ser un problema, veamos cuantos usuarios hay en cada componente:"
   ]
  },
  {
   "cell_type": "code",
   "execution_count": 172,
   "metadata": {},
   "outputs": [
    {
     "name": "stdout",
     "output_type": "stream",
     "text": [
      "Componentes conexas = 901\n",
      "Componente 0  --> 18969  usuarios\n",
      "Restantes     --> 948    usuarios\n"
     ]
    }
   ],
   "source": [
    "components = list(nx.connected_components(g))\n",
    "\n",
    "print(\"Componentes conexas = {}\".format(len(components)))\n",
    "\n",
    "print(\"Componente 0  --> {:<6} usuarios\".format(len(components[0])))\n",
    "\n",
    "resto = [len(components[i]) for i in range(1, len(components))]\n",
    "print(\"Restantes     --> {:<6} usuarios\".format(sum(resto)))"
   ]
  },
  {
   "cell_type": "markdown",
   "metadata": {},
   "source": [
    "O sea que hay una componente con 18969 usuarios y entre todas las otras hay 948 usuarios... Capaz me conviene quedarme sólo con la primera y tirar el resto, así me queda un grafo totalmente conexo con el que puede ser más fácil trabajar"
   ]
  },
  {
   "cell_type": "code",
   "execution_count": 173,
   "metadata": {},
   "outputs": [],
   "source": [
    "g = g.subgraph(components[0])"
   ]
  },
  {
   "cell_type": "markdown",
   "metadata": {},
   "source": [
    "## Ejercicio 4"
   ]
  },
  {
   "cell_type": "markdown",
   "metadata": {},
   "source": [
    "Armar los grafos para los otros corpus"
   ]
  },
  {
   "cell_type": "markdown",
   "metadata": {},
   "source": [
    "## Ejercicio 5"
   ]
  },
  {
   "cell_type": "markdown",
   "metadata": {},
   "source": [
    "Un grafo se arma estableciendo una relación entre dos cosas y representando esa relación con un eje. Nosotros elegimos relacionar usuarios según si se retwitean entre sí. Pero se pueden elegir otros criterios. Incluso se pueden elegir otras cosas para relacionar entre sí (como por ejemplo, los mismos tweets en si!). Les dejo una función que toma dos tweets y devuelve verdader si los tweets tienen más de n palabras en común y falso si no. Se animan a armar un grafo con esta función? Qué información pueden sacar de este grafo? Escriban un texto no muy extenso contando qué hicieron y cualquier cosa que les parezca interesante del resultado o del proceso"
   ]
  },
  {
   "cell_type": "code",
   "execution_count": 174,
   "metadata": {},
   "outputs": [],
   "source": [
    "def tienenMasDeNEnComun(tweet1, tweet2, n):\n",
    "    t1 = set(tweet1.split(\" \"))\n",
    "    t2 = set(tweet2.split(\" \"))\n",
    "    return len(t1.intersection(t2)) > n"
   ]
  },
  {
   "cell_type": "code",
   "execution_count": 177,
   "metadata": {},
   "outputs": [
    {
     "data": {
      "text/plain": [
       "True"
      ]
     },
     "execution_count": 177,
     "metadata": {},
     "output_type": "execute_result"
    }
   ],
   "source": [
    "tienenMasDeNEnComun(\"Juanita tiene un lorito que se llama Pepito\", \"Pepito es un lorito que tiene plumas\", 4)"
   ]
  },
  {
   "cell_type": "markdown",
   "metadata": {},
   "source": [
    "# Graficando"
   ]
  },
  {
   "cell_type": "markdown",
   "metadata": {},
   "source": [
    "Esta parte la idea es que sea **optativa** según cómo lleguen con el resto. Si lo llegan a hacer mejor! Si no, no hay drama. Para graficar la idea es usar un programita que se llama Gephi: https://gephi.org/.\n",
    "***Warning*** GEPHI CONSUME MUCHA MEMORIA ***Warning***\n",
    "Así que poden bien sus grafos"
   ]
  },
  {
   "cell_type": "markdown",
   "metadata": {},
   "source": [
    "La libreria que usamos para generar el grafo (networkx) tiene un comando que exporta un archivo para ser importado en Gephi:"
   ]
  },
  {
   "cell_type": "code",
   "execution_count": null,
   "metadata": {},
   "outputs": [],
   "source": [
    "nx.write_gexf(g, \"test.gexf\")"
   ]
  },
  {
   "cell_type": "markdown",
   "metadata": {},
   "source": [
    "Apenas cargen su grafo van a ver todos los nodos apelotonados en forma de cuadrado en el medio. A la izquierda pueden elegir algún algoritmo de distribución y ejecutarlo. Este algoritmo les va a esparcir los nodos de distintas formas y según distintos criterios. También a la izquierda pero arriba pueden elegir cambiar la apariencia de los nodos y/o las aristas. A mi algo que me parece que siempre queda bien es setear el tamaño de los nodos según el PageRank. El PageRank indica muy a grandes razgos, la centralidad de un nodo (cuantos caminos entre dos nodos distintos tienen que pasar sí o sí por ahi). Por lo tanto, si están graficando usuarios, por ejemplo, el PageRank es cuan central (o \"influencer\" ponele) es el usuario. Si el tamaño depende del PageRank, los nodos más grandes van a ser los \"influencers\". En el Gephi tienen mil cosas para explorar, jueguen un poco y vean qué les gusta y muestrenlo!"
   ]
  }
 ],
 "metadata": {
  "kernelspec": {
   "display_name": "Python 3",
   "language": "python",
   "name": "python3"
  },
  "language_info": {
   "codemirror_mode": {
    "name": "ipython",
    "version": 3
   },
   "file_extension": ".py",
   "mimetype": "text/x-python",
   "name": "python",
   "nbconvert_exporter": "python",
   "pygments_lexer": "ipython3",
   "version": "3.7.6"
  }
 },
 "nbformat": 4,
 "nbformat_minor": 4
}
