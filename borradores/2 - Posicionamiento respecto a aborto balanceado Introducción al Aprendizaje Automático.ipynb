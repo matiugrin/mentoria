{
 "cells": [
  {
   "cell_type": "markdown",
   "metadata": {},
   "source": [
    "# Introducción"
   ]
  },
  {
   "cell_type": "markdown",
   "metadata": {},
   "source": [
    "En la siguiente notebook se presentará la consigna a seguir para el tercer práctico del proyecto, correspondiente a la materia Introducción al Aprendizaje Automático. El objetivo consiste en explorar la aplicación de diferentes métodos de aprendizaje supervisado aprendidos en el curso, a través de experimentos reproducibles, y evaluando a su vez la conveniencia de uno u otro, así como la selección de diferentes hiperparámetros a partir del cálculo de las métricas pertinentes.\n",
    "\n",
    "En este caso, enfrentamos un problema de clasificación binario de posicionamiento respecto de un tópico. Para este práctico vamos a utilizar únicamente los datos etiquetados, que ya vienen divididos en train y test. Buscamos analizar distintos problemas que puedan surgir como el desbalanceo de clases\n",
    "\n",
    "\n",
    "## Organización\n",
    "\n",
    "El trabajo va a estar organizado en dos grandes secciones: preprocesamiento y aplicación de los clasificadores.\n",
    "\n",
    "#### Preprocesamiento\n",
    "En la parte de preprocesamiento lo que vamos a hacer va a ser:\n",
    "\n",
    "1 - Obtener el dataset\n",
    "\n",
    "2 - Tokenizar\n",
    "\n",
    "3 - Aplicar alguna curación\n",
    "\n",
    "4 - Balanceo de clases\n",
    "\n",
    "5 - Representar el texto como vector: CountVectorizer\n",
    "\n",
    "6 - Optativo: se puede representar el texto de otras maneras? Embeddings!\n",
    "\n",
    "#### Clasificadores\n",
    "\n",
    "1 - Perceptron\n",
    "\n",
    "2 - K-NN\n",
    "\n",
    "3 - Regresión Logística\n",
    "\n",
    "4 - Evaluación de los clasificadores\n",
    "\n",
    "5 - Optimización de Hiperparámetros\n",
    "\n",
    "Esto para los tres datasets CON y SIN balanceo de clases\n"
   ]
  },
  {
   "cell_type": "code",
   "execution_count": 1,
   "metadata": {},
   "outputs": [],
   "source": [
    "import pandas as pd\n",
    "from nltk.tokenize import TweetTokenizer\n",
    "from sklearn.feature_extraction.text import CountVectorizer\n",
    "from sklearn.linear_model import LogisticRegression, Perceptron\n",
    "from sklearn.metrics import accuracy_score, f1_score, make_scorer, classification_report\n",
    "from sklearn.model_selection import GridSearchCV"
   ]
  },
  {
   "cell_type": "code",
   "execution_count": 2,
   "metadata": {},
   "outputs": [],
   "source": [
    "pd.set_option('display.max_rows', 10)\n",
    "import warnings\n",
    "warnings.filterwarnings(\"ignore\")"
   ]
  },
  {
   "cell_type": "code",
   "execution_count": 3,
   "metadata": {},
   "outputs": [],
   "source": [
    "from IPython.core.interactiveshell import InteractiveShell\n",
    "InteractiveShell.ast_node_interactivity = 'all'\n",
    "pd.set_option('display.max_rows', 20000)\n",
    "pd.set_option('display.max_columns', 20000)\n",
    "pd.set_option('display.max_colwidth', -1)"
   ]
  },
  {
   "cell_type": "markdown",
   "metadata": {},
   "source": [
    "# Preprocesamiento"
   ]
  },
  {
   "cell_type": "markdown",
   "metadata": {},
   "source": [
    "### Cargamos los datos"
   ]
  },
  {
   "cell_type": "code",
   "execution_count": 4,
   "metadata": {},
   "outputs": [],
   "source": [
    "train = pd.read_csv(\"train.csv\", sep=',', encoding=\"latin1\").fillna(method=\"ffill\")\n",
    "test = pd.read_csv(\"test.csv\", sep=',', encoding=\"latin1\").fillna(method=\"ffill\")"
   ]
  },
  {
   "cell_type": "code",
   "execution_count": 5,
   "metadata": {},
   "outputs": [],
   "source": [
    "abortion_train = train[train[\"Target\"] == \"Legalization of Abortion\"]\n",
    "abortion_test = test[test[\"Target\"] == \"Legalization of Abortion\"]"
   ]
  },
  {
   "cell_type": "code",
   "execution_count": 6,
   "metadata": {},
   "outputs": [
    {
     "name": "stdout",
     "output_type": "stream",
     "text": [
      "653\n",
      "280\n"
     ]
    }
   ],
   "source": [
    "print(abortion_train.shape[0])\n",
    "print(abortion_test.shape[0])"
   ]
  },
  {
   "cell_type": "markdown",
   "metadata": {},
   "source": [
    "Sólo vamos a usar el tweet y el stance. Como encima ya tenemos dividido el corpus según el target, vamos a eliminar todas las columnas excepto tweet y stance"
   ]
  },
  {
   "cell_type": "code",
   "execution_count": 7,
   "metadata": {},
   "outputs": [],
   "source": [
    "abortion_train.drop(columns = [\"Target\", \"Opinion Towards\", \"Sentiment\"], inplace=True)\n",
    "abortion_test.drop(columns = [\"Target\", \"Opinion Towards\", \"Sentiment\"], inplace=True)"
   ]
  },
  {
   "cell_type": "markdown",
   "metadata": {},
   "source": [
    "### Tokenizamos"
   ]
  },
  {
   "cell_type": "markdown",
   "metadata": {},
   "source": [
    "En principio como mínimo para realizar algún tipo de preprocesamiento y luego transformar nuestros datos en algo que pueda ser tomado como input por los clasificadores que vamos a probar necesitamos dividir nuestro tweet en formato string en una lista de palabras. La división requiere tomar decisiones sobre cómo tratar anomalías. En especial en twitter donde abundan las abreviaciones, errores ortográficos, puntuaciones raras, emojis, lo que se le ocurra al usuario.\n",
    "\n",
    "Hay muchas formas distintas de tokenizar y hay clasificadores que vienen con tokenizadores especiales incorporados al punto tal de que no pueden funcionar con otra tokenización (fastText y BERT por ejemplo separan la raíz de las parabras de sus prefijos y sufijos para poder relacionar palabras similares, como asociar todas las conjugaciones de un verbo a una misma raíz).\n",
    "\n",
    "Nosotros vamos a usar uno bien simple que tiene pocas funciones pero tiene algunas funciones pensadas especialmente para redes sociales, como por ejemplo detectar emojis o separar una palabra de sus signos de puntuación o asociar muchos signos de puntuación iguales y seguidos como si fueran uno solo (por ejemplo, !!!!!).\n",
    "\n",
    "https://www.nltk.org/api/nltk.tokenize.html\n",
    "\n",
    "Hay tres parámetros que pueden explorar leyendo la documentación (los que están escritos). Prueben ver qué pasa cuando cambian cada uno"
   ]
  },
  {
   "cell_type": "code",
   "execution_count": 8,
   "metadata": {},
   "outputs": [],
   "source": [
    "tokenizer = TweetTokenizer(preserve_case=False, reduce_len=False, strip_handles=True)"
   ]
  },
  {
   "cell_type": "markdown",
   "metadata": {},
   "source": [
    "- preserve_case = False ---> pasa a minúscula\n",
    "- reduce_len = False ---> detecta cuando un carácter está repetido más de tres veces y lo corta en a lo sumo 3 repeticiones\n",
    "- strip_handles = True ---> elimina las palabras que comienzan con @"
   ]
  },
  {
   "cell_type": "code",
   "execution_count": 9,
   "metadata": {},
   "outputs": [
    {
     "name": "stdout",
     "output_type": "stream",
     "text": [
      "Tweet: @tooprettyclub Are you OK with #GOP males telling you what you can and can't do with your own body?\n",
      "Tweet tokenizado: \n"
     ]
    },
    {
     "data": {
      "text/plain": [
       "['are',\n",
       " 'you',\n",
       " 'ok',\n",
       " 'with',\n",
       " '#gop',\n",
       " 'males',\n",
       " 'telling',\n",
       " 'you',\n",
       " 'what',\n",
       " 'you',\n",
       " 'can',\n",
       " 'and',\n",
       " \"can't\",\n",
       " 'do',\n",
       " 'with',\n",
       " 'your',\n",
       " 'own',\n",
       " 'body',\n",
       " '?']"
      ]
     },
     "execution_count": 9,
     "metadata": {},
     "output_type": "execute_result"
    }
   ],
   "source": [
    "# Ejemplo\n",
    "print('Tweet: '+ abortion_train[\"Tweet\"].iloc[1])\n",
    "print('Tweet tokenizado: ') \n",
    "tokenizer.tokenize(abortion_train[\"Tweet\"].iloc[1])"
   ]
  },
  {
   "cell_type": "markdown",
   "metadata": {},
   "source": [
    "### Preprocesamiento"
   ]
  },
  {
   "cell_type": "markdown",
   "metadata": {},
   "source": [
    "El preprocesamiento para twitter requiere tomar varias decisiones. Recomiendo que vean un poco el dataset y piensen con qué palabras quieren trabajar y cuales quieren remover. Les dejo el esqueleto de una función de preprocesamiento que sólo tokeniza pero que puede tomar dos parámetros optativos para remover hashtags y números.\n",
    "\n",
    "#### Ejercicio 1\n",
    "\n",
    "Agregarle a la función de preprocesamiento que borre las urls (palabras que empiecen con http). Agregarle código para que agregue o saque texto de acuerdo con al menos un criterio propuesto por ustedes (menciones a los usuarios, caritas/emojis, puntuación)."
   ]
  },
  {
   "cell_type": "code",
   "execution_count": 11,
   "metadata": {},
   "outputs": [
    {
     "name": "stderr",
     "output_type": "stream",
     "text": [
      "[nltk_data] Downloading package stopwords to\n",
      "[nltk_data]     C:\\Users\\Manuela\\AppData\\Roaming\\nltk_data...\n",
      "[nltk_data]   Package stopwords is already up-to-date!\n"
     ]
    },
    {
     "data": {
      "text/plain": [
       "True"
      ]
     },
     "execution_count": 11,
     "metadata": {},
     "output_type": "execute_result"
    }
   ],
   "source": [
    "#import emoji\n",
    "import string\n",
    "import nltk\n",
    "from nltk.corpus import stopwords\n",
    "nltk.download('stopwords')"
   ]
  },
  {
   "cell_type": "code",
   "execution_count": 12,
   "metadata": {},
   "outputs": [
    {
     "name": "stdout",
     "output_type": "stream",
     "text": [
      "['i', 'me', 'my', 'myself', 'we', 'our', 'ours', 'ourselves', 'you', \"you're\", \"you've\", \"you'll\", \"you'd\", 'your', 'yours', 'yourself', 'yourselves', 'he', 'him', 'his', 'himself', 'she', \"she's\", 'her', 'hers', 'herself', 'it', \"it's\", 'its', 'itself', 'they', 'them', 'their', 'theirs', 'themselves', 'what', 'which', 'who', 'whom', 'this', 'that', \"that'll\", 'these', 'those', 'am', 'is', 'are', 'was', 'were', 'be', 'been', 'being', 'have', 'has', 'had', 'having', 'do', 'does', 'did', 'doing', 'a', 'an', 'the', 'and', 'but', 'if', 'or', 'because', 'as', 'until', 'while', 'of', 'at', 'by', 'for', 'with', 'about', 'against', 'between', 'into', 'through', 'during', 'before', 'after', 'above', 'below', 'to', 'from', 'up', 'down', 'in', 'out', 'on', 'off', 'over', 'under', 'again', 'further', 'then', 'once', 'here', 'there', 'when', 'where', 'why', 'how', 'all', 'any', 'both', 'each', 'few', 'more', 'most', 'other', 'some', 'such', 'no', 'nor', 'not', 'only', 'own', 'same', 'so', 'than', 'too', 'very', 's', 't', 'can', 'will', 'just', 'don', \"don't\", 'should', \"should've\", 'now', 'd', 'll', 'm', 'o', 're', 've', 'y', 'ain', 'aren', \"aren't\", 'couldn', \"couldn't\", 'didn', \"didn't\", 'doesn', \"doesn't\", 'hadn', \"hadn't\", 'hasn', \"hasn't\", 'haven', \"haven't\", 'isn', \"isn't\", 'ma', 'mightn', \"mightn't\", 'mustn', \"mustn't\", 'needn', \"needn't\", 'shan', \"shan't\", 'shouldn', \"shouldn't\", 'wasn', \"wasn't\", 'weren', \"weren't\", 'won', \"won't\", 'wouldn', \"wouldn't\"]\n"
     ]
    }
   ],
   "source": [
    "print(stopwords.words('english'))"
   ]
  },
  {
   "cell_type": "code",
   "execution_count": 13,
   "metadata": {},
   "outputs": [],
   "source": [
    "stop_words = set(stopwords.words('english')) "
   ]
  },
  {
   "cell_type": "code",
   "execution_count": 38,
   "metadata": {},
   "outputs": [],
   "source": [
    "def preprocesar(text, remove_hashtags=True, remove_numbers=True, remove_http=True, remove_punctuation=True, remove_stopwords=True):\n",
    "    toks = tokenizer.tokenize(text) # Arma lista de palabras\n",
    "    ret = []\n",
    "    for tok in toks:\n",
    "        if tok[0] == \"#\" and remove_hashtags:  # Removemos hashtag si remove_hashtags = True\n",
    "            continue    \n",
    "        if tok.isnumeric() and remove_numbers:   # Removemos los números si remove_numbers = True\n",
    "            continue \n",
    "        if tok[:4] == \"https\" and remove_http:  # Removemos los url si remove_http = True\n",
    "            continue  \n",
    "        if tok in string.punctuation and remove_punctuation: # Removemos !\"#$%&'()*+, -./:;<=>?@[\\]^_`{|}~ si remove_punctuation=True\n",
    "            continue \n",
    "        if tok in stop_words and remove_stopwords:  # Removemos los stopwords si remove_stopwords = True\n",
    "            continue   \n",
    "        ret.append(tok) \n",
    "    return \" \".join(ret)"
   ]
  },
  {
   "cell_type": "code",
   "execution_count": 39,
   "metadata": {},
   "outputs": [
    {
     "data": {
      "text/plain": [
       "'wordl'"
      ]
     },
     "execution_count": 39,
     "metadata": {},
     "output_type": "execute_result"
    }
   ],
   "source": [
    "# Ejemplo\n",
    "w = '@donald are you in the wordl??? #genial;'\n",
    "\n",
    "preprocesar(w, remove_hashtags = True,\n",
    "               remove_numbers=True, \n",
    "               remove_http=True, \n",
    "               remove_punctuation=True,\n",
    "               remove_stopwords=True)"
   ]
  },
  {
   "cell_type": "markdown",
   "metadata": {},
   "source": [
    "Falta eliminar los emoji:\n",
    "- https://towardsdatascience.com/a-beginners-guide-to-preprocessing-text-data-using-nlp-tools-5cb52a8d3cd"
   ]
  },
  {
   "cell_type": "code",
   "execution_count": 40,
   "metadata": {},
   "outputs": [],
   "source": [
    "# Hacer esto para todos los datasets, train y test de los 3 tópicos\n",
    "abortion_train[\"Tweet_procesado\"] = abortion_train[\"Tweet\"].apply(lambda x: preprocesar(x))\n",
    "abortion_test[\"Tweet_procesado\"] = abortion_test[\"Tweet\"].apply(lambda x: preprocesar(x))"
   ]
  },
  {
   "cell_type": "code",
   "execution_count": 41,
   "metadata": {},
   "outputs": [
    {
     "data": {
      "text/plain": [
       "<matplotlib.axes._subplots.AxesSubplot at 0x1b5b9dcb148>"
      ]
     },
     "execution_count": 41,
     "metadata": {},
     "output_type": "execute_result"
    },
    {
     "data": {
      "image/png": "[encoded data removed]",
      "text/plain": [
       "<Figure size 432x288 with 1 Axes>"
      ]
     },
     "metadata": {
      "needs_background": "light"
     },
     "output_type": "display_data"
    }
   ],
   "source": [
    "import seaborn as sns\n",
    "sns.countplot(abortion_train.Stance)"
   ]
  },
  {
   "cell_type": "code",
   "execution_count": 42,
   "metadata": {},
   "outputs": [
    {
     "data": {
      "text/plain": [
       "<matplotlib.axes._subplots.AxesSubplot at 0x1b5b9d3b7c8>"
      ]
     },
     "execution_count": 42,
     "metadata": {},
     "output_type": "execute_result"
    },
    {
     "data": {
      "image/png": "[encoded data removed]",
      "text/plain": [
       "<Figure size 432x288 with 1 Axes>"
      ]
     },
     "metadata": {
      "needs_background": "light"
     },
     "output_type": "display_data"
    }
   ],
   "source": [
    "sns.countplot(abortion_test.Stance)"
   ]
  },
  {
   "cell_type": "markdown",
   "metadata": {},
   "source": [
    "### Balanceo de clases"
   ]
  },
  {
   "cell_type": "markdown",
   "metadata": {},
   "source": [
    "En el práctico anterior ya analizaron la distribución de las clases según cada target (tópico) del dataset. Queremos explorar la posibilidad de hacer un balanceo de clases. Para eso, analizamos tópico por tópico si esto es posible y las dificultades que tiene.\n",
    "\n",
    "Para el dataset de feminismo, tenemos dos versiones de train, una con correcciones y otra sin. En la versión con correcciones cambia el balanceo de las clases a algo más equitativo que en su version original. Por este motivo, vamos a descartar hacer un balanceo de clases en este dataset.  ## dónde está la segunda versión???\n",
    "\n",
    "Para el dataset de cambio climático tenemos un desbalanceo tan grande que, por ejemplo, sólo tenemos 11 ejemplos de la clase Against (el 6,5% del corpus). El problema que tiene una distribución tan desigual es que resulta dificil aplicar técnicas como el subsampling porque nos quedaríamos con 33 tweets de entrenamiento, o el oversampling porque para que las clases queden parejas, deberíamos repetir un mismo tweet muchas veces.\n",
    "\n",
    "Por lo tanto, nos queda el corpus de aborto:\n",
    "\n",
    "#### Ejercicio 2\n",
    "\n",
    "Hacer subsampling del corpus de aborto y guardarlo como un nuevo dataset. A partir de ahora, todos los experimentos que corran deberán correrlos además de para los tres corpus respectivos a cada tópico, también para este nuevo corpus de aborto con sus clases balanceadas. Luego vamos a comparar los resultados obtenidos con y sin balanceo de clases"
   ]
  },
  {
   "cell_type": "code",
   "execution_count": 43,
   "metadata": {},
   "outputs": [],
   "source": [
    "df1 = abortion_train[abortion_train.Stance == 'AGAINST'].sample(n=175, random_state=1)\n",
    "df2 = abortion_train[(abortion_train.Stance == 'FAVOR') | (abortion_train.Stance == 'NONE')]"
   ]
  },
  {
   "cell_type": "code",
   "execution_count": 44,
   "metadata": {},
   "outputs": [
    {
     "name": "stdout",
     "output_type": "stream",
     "text": [
      "(175, 3)\n",
      "(298, 3)\n"
     ]
    }
   ],
   "source": [
    "print(df1.shape)\n",
    "print(df2.shape)"
   ]
  },
  {
   "cell_type": "code",
   "execution_count": 45,
   "metadata": {},
   "outputs": [],
   "source": [
    "abortion_train_balanced = pd.concat([df1,df2])"
   ]
  },
  {
   "cell_type": "code",
   "execution_count": 46,
   "metadata": {},
   "outputs": [
    {
     "data": {
      "text/plain": [
       "(473, 3)"
      ]
     },
     "execution_count": 46,
     "metadata": {},
     "output_type": "execute_result"
    }
   ],
   "source": [
    "abortion_train_balanced.shape"
   ]
  },
  {
   "cell_type": "code",
   "execution_count": 47,
   "metadata": {},
   "outputs": [
    {
     "data": {
      "text/plain": [
       "280"
      ]
     },
     "execution_count": 47,
     "metadata": {},
     "output_type": "execute_result"
    }
   ],
   "source": [
    "abortion_test.shape[0]"
   ]
  },
  {
   "cell_type": "code",
   "execution_count": 48,
   "metadata": {},
   "outputs": [
    {
     "data": {
      "text/plain": [
       "<matplotlib.axes._subplots.AxesSubplot at 0x1b5b9eac848>"
      ]
     },
     "execution_count": 48,
     "metadata": {},
     "output_type": "execute_result"
    },
    {
     "data": {
      "image/png": "[encoded data removed]",
      "text/plain": [
       "<Figure size 432x288 with 1 Axes>"
      ]
     },
     "metadata": {
      "needs_background": "light"
     },
     "output_type": "display_data"
    }
   ],
   "source": [
    "sns.countplot(abortion_train_balanced.Stance)"
   ]
  },
  {
   "cell_type": "code",
   "execution_count": 49,
   "metadata": {},
   "outputs": [
    {
     "data": {
      "text/plain": [
       "<matplotlib.axes._subplots.AxesSubplot at 0x1b5b8f12708>"
      ]
     },
     "execution_count": 49,
     "metadata": {},
     "output_type": "execute_result"
    },
    {
     "data": {
      "image/png": "[encoded data removed]",
      "text/plain": [
       "<Figure size 432x288 with 1 Axes>"
      ]
     },
     "metadata": {
      "needs_background": "light"
     },
     "output_type": "display_data"
    }
   ],
   "source": [
    "sns.countplot(abortion_test.Stance)"
   ]
  },
  {
   "cell_type": "code",
   "execution_count": 50,
   "metadata": {},
   "outputs": [],
   "source": [
    "abortion_train_balanced[\"Tweet_procesado\"] = abortion_train_balanced[\"Tweet\"].apply(lambda x: preprocesar(x))\n",
    "abortion_test[\"Tweet_procesado\"] = abortion_test[\"Tweet\"].apply(lambda x: preprocesar(x))"
   ]
  },
  {
   "cell_type": "markdown",
   "metadata": {},
   "source": [
    "### Representación como vector"
   ]
  },
  {
   "cell_type": "markdown",
   "metadata": {},
   "source": [
    "Los algoritmos de Machine Learning trabajan con espacios vectoriales. Entonces siempre que trabajemos con Procesamiento de Lenguaje Natural, como es nuestro caso, se plantea la cuestión de cómo representar texto con números. Hay muchas maneras de hacer esto y es un campo que sigue evolucionando con el tiempo. Una opción muy básica es asignarle a cada palabra que aparece en nuestro dataset un número según el orden en el que aparecen. Luego, una oración es un vector de índices de esas palabras. Pero el problema que tiene esto es que los algoritmos de Machine Learning también requieren que los vectores tengan una longitud fija, con lo cual hay que recortar la oración o agregarle ceros al final. Por eso un enfoque clásico para representar texto es el Bag Of Words: un vector de bits del tamaño de todo nuestro vocabulario que tiene un uno si la palabra está en la oración y un 0 si no está.\n",
    "\n",
    "- https://es.wikipedia.org/wiki/Modelo_bolsa_de_palabras\n",
    "- https://scikit-learn.org/stable/modules/feature_extraction.html#text-feature-extraction\n",
    "\n",
    "En particular, vamos a usar la libreria CountVectorizer que implementa el Bag Of Words de manera esparsa (eficiente) y le agrega varios features que van a sernos muy útiles:\n",
    "\n",
    "https://scikit-learn.org/stable/modules/generated/sklearn.feature_extraction.text.CountVectorizer.html\n",
    "\n",
    "En particular, vamos a usar los parámetros min_df y max_df que se corresponden con min y max document frequency. Ámbos toman valores entre 0 y 1 y estipulan el rango de frecuencia de aparición de una palabra dentro de un documento que vamos a aceptar. Es decir, si min_df es 0.005, todas las palabras que representen menos de un 0,5% de las palabras totales serán descartadas. Por el otro lado, si max_df es 0.35, todas las palabras que representen más de un 35% del total de palabras serán descartadas. Nos interesa descartar las palabras con demasiada frecuencia porque probablemente no tengan valor en términos de la entropía que aportan (es decir, no aportan información: pueden ser conectores, artículos, etc.) y las que tienen muy poca frecuencia porque pueden ser outliers, palabras demasiado específicas que no aportan a la tarea que queremos desarrollar.\n",
    "\n",
    "Las Bag Of Words, sin embargo, tienen un problema importante: no preservan el contexto y la relación semántica de las palabras entre sí. Este problema dio lugar a otros enfoques como los embeddings sobre los cuales les voy a dejar algunas cosas para que lean al final de manera optativa por si les da curiosidad. Incluso, luego de los embeddings, surgieron recientemente los contextualized embeddings que además de considerar la relación semántica, consideran el orden puntual dentro de la oración.\n",
    "\n",
    "Pero volviendo a las Bag Of Words, se puede hacer un pequeño \"truco\" para tener en cuenta, al menos parcialmente, algunas frases o expresiones con el orden en el que aparecen: el parámetro ngram_range calcula la frecuencia de ngramas. Resulta muy útil para descubrir frases o expresiones comunes (además de las palabras comunes). Además, en combinación con el parámetro \"analyzer\" se pueden usar como ngramas de palabras o de caracteres.\n",
    "\n",
    "#### Ejercicio 3\n",
    "\n",
    "Explorar los hiperparámetros de CountVectorizer. Ir modificando los valores de min_df, max_df y ngram-range. Observar cómo cambia el tamaño del vector.\n",
    "\n",
    "NOTA: Como el tamaño del vector (es decir, el vocabulario) debe ser igual para el entrenamiento como para el test, tenemos que vectorizar al mismo tiempo el dataset de train y de test"
   ]
  },
  {
   "cell_type": "code",
   "execution_count": 51,
   "metadata": {},
   "outputs": [],
   "source": [
    "text_train_abortion_balanced = abortion_train_balanced[\"Tweet_procesado\"]\n",
    "text_test_abortion = abortion_test[\"Tweet_procesado\"]\n",
    "\n",
    "vectorizer = CountVectorizer(\n",
    "    binary=True, min_df=0.0075, max_df=0.75, ngram_range=(1, 10),\n",
    "    #stop_words=stopwords.words('spanish')\n",
    ")\n",
    "\n",
    "X_abortion_balanced = vectorizer.fit_transform([*text_train_abortion_balanced, *text_test_abortion])"
   ]
  },
  {
   "cell_type": "code",
   "execution_count": 52,
   "metadata": {},
   "outputs": [],
   "source": [
    "VEC_train_abortion_balanced = X_abortion_balanced[:len(text_train_abortion_balanced)]\n",
    "VEC_test_abortion = X_abortion_balanced[len(text_train_abortion_balanced):]"
   ]
  },
  {
   "cell_type": "code",
   "execution_count": 53,
   "metadata": {},
   "outputs": [
    {
     "name": "stdout",
     "output_type": "stream",
     "text": [
      "(753, 186)\n",
      "{'pregnancy': 121, 'time': 159, 'without': 175, 'can': 26, 'force': 53, 'someone': 140, 'mean': 101, 'many': 97, 'hope': 70, 'choose': 32, 'life': 85, 'rt': 134, 'unborn': 162, 'children': 30, 'rights': 133, 'world': 181, 'law': 81, 'god': 61, 'men': 103, 'think': 158, 'women': 178, 'yes': 185, 'right': 132, 'get': 57, 'little': 87, 'ones': 115, 'even': 47, 'nothing': 113, 'medical': 102, 'care': 27, 'support': 144, 'human': 71, 'lives': 89, 'alive': 2, 'conception': 34, 'abortion': 0, 'issue': 75, 'that': 152, 'like': 86, 'work': 180, 'day': 37, 'love': 92, 'wrong': 183, 'mother': 105, 'texas': 149, 'anti': 8, 'call': 25, 'babies': 13, 'responsible': 131, 'enough': 44, 'take': 146, 'baby': 14, 'sex': 139, 'something': 141, 'must': 108, 'dead': 39, 'know': 80, 'womb': 177, 'human life': 72, 'new': 112, 'thank': 150, 'another': 7, 'equal': 45, 'freedom': 54, 'stop': 143, 'killing': 79, 'say': 137, 'choice': 31, 'legal': 83, 'way': 168, 'pro': 124, 'away': 12, 'pro life': 126, 'body': 23, 'innocent': 74, 'people': 116, 'safe': 135, 'kill': 77, 'we': 169, 're': 128, 'going': 62, 'we re': 170, 'well': 171, 'abortions': 1, 'would': 182, 'always': 5, 'truth': 161, 'illegal': 73, 'fetus': 52, 'child': 29, 'murder': 107, 'made': 93, 'go': 60, 'best': 17, 'mom': 104, 'fucking': 56, 'killed': 78, 'women rights': 179, 'one': 114, 'change': 28, 'never': 111, 'need': 110, 'marriage': 98, 'make': 94, 'woman': 176, 'bodily': 21, 'autonomy': 11, 'bodily autonomy': 22, 'heart': 68, 'please': 118, 'still': 142, 'nation': 109, 'today': 160, 'let': 84, 'want': 166, 'could': 36, 'come': 33, 'laws': 82, 'born': 24, 'person': 117, 'matter': 99, 'live': 88, 'see': 138, 'much': 106, 'really': 129, 'believe': 16, 'pray': 120, 'every': 49, 'll': 91, 'put': 127, 'said': 136, 'thing': 156, 'pregnant': 122, 'there': 153, 'black': 20, 'taking': 147, 'whole': 174, 'already': 3, 'death': 41, 'us': 164, 'give': 59, 'tell': 148, 'ppl': 119, 'pro choice': 125, 'good': 63, 'great': 65, 'days': 38, 'sure': 145, 'man': 96, 'help': 69, 'dear': 40, 'government': 64, 'happy': 66, 'control': 35, 'america': 6, 'year': 184, 'religious': 130, 'may': 100, 'effect': 43, 'birth': 18, 'thanks': 151, 'wants': 167, 'they': 154, 'they re': 155, 'living': 90, 'family': 51, 'pregnant people': 123, 'health': 67, 'kids': 76, 'decisions': 42, 'back': 15, 'also': 4, 'making': 95, 'what': 172, 'what best': 173, 'ur': 163, 'ever': 48, 'anything': 10, 'use': 165, 'fuck': 55, 'everyone': 50, 'getting': 58, 'anti choice': 9, 'things': 157, 'birth control': 19, 'especially': 46}\n"
     ]
    }
   ],
   "source": [
    "print(X_abortion_balanced.shape)\n",
    "print(vectorizer.vocabulary_)"
   ]
  },
  {
   "cell_type": "markdown",
   "metadata": {},
   "source": [
    "### EXTRA: Word Embeddings"
   ]
  },
  {
   "cell_type": "markdown",
   "metadata": {},
   "source": [
    "Los embeddings de palabras son algo bastante nuevo en el campo del Procesamiento Del Lenguaje Natural (ultimos 10 años) pero fueron algo totalmente revolucionario que cambio absolutamente la disciplina. Desde que aparecieron las primeras versiones de embeddings (word2vec, glove, varias otras) surgieron muchas versiones distintas hechas con diversos algoritmos y técnicas. Pero todos tienen algo en común: tratan de captar la semántica de una palabra representandola con un vector (un número) que se calcula en base a los valores de las palabras que aparecen en el contexto de esa palabra. O sea, para cada palabra se calcula de manera iterativa un valor sobre la base de qué palabras aparecen antes y después en miles y miles de textos que se usan para entrenar los embeddings. Esos valores luego se exportan y se usan como representación de las palabras.\n",
    "\n",
    "No es del alcance de este trabajo práctico meterse en este tema, que correspondería más a un curso introductorio de Procesamiento del Lenguaje Natural y ya no a Machine Learning, pero me pareció interesante comentarselos como una alternativa (muy muy) frecuente frente al problema de decidir como representar texto con números.\n",
    "\n",
    "Si les interesa y quieren leer/investigar más al respecto, aca hay una clase del curso de PLN de Standford:\n",
    "https://www.youtube.com/watch?v=ERibwqs9p38&list=PL3FW7Lu3i5Jsnh1rnUwq_TcylNr7EkRe6&index=2\n",
    "\n",
    "La clase está buena aunque tiene bastante matemática. Es más que nada para que se entienda el concepto igualmente"
   ]
  },
  {
   "cell_type": "markdown",
   "metadata": {},
   "source": [
    "# Clasificadores"
   ]
  },
  {
   "cell_type": "markdown",
   "metadata": {},
   "source": [
    "A continuación van a realizar experimentos con tres clasificadores básicos. Para cada uno van a tener que probar una serie de hiperparámetros. Les incluyo la documentación para que puedan leer qué es cada hiperparámetro que están probando. Luego de cada corrida, evaluan el clasificador con cuatro métricas: Accuracy Score, F1 micro, F1 macro y el promedio del F1 de la clase Favor con el F1 de la clase Against. La idea es que vayan cambiando los valores de un hiperparámetro dejando fijos el resto y vean cómo ese cambio impacta en las métricas. Finalmente, para cada clasificador escriban un pequeño informe planteando cuan sensible es cada parámetro respecto de cada métrica, por qué piensan que es así de sensible y cuales son los mejores valores que encontraron. Finalmente, elijan el clasificador que les parezca más adecuado para esta tarea y justifiquen su elección. Para ese clasificador que hayan elegido van a probar luego, una busqueda más exhaustiva de hiperparámetros usando Grid Search. Este procedimiento deben hacerlo **al menos** para **dos de los cuatro** datasets con los que venimos trabajando (aborto, aborto balanceado, cambio climático y feminismo)"
   ]
  },
  {
   "cell_type": "markdown",
   "metadata": {},
   "source": [
    "### Perceptron"
   ]
  },
  {
   "cell_type": "markdown",
   "metadata": {},
   "source": [
    "https://scikit-learn.org/stable/modules/generated/sklearn.linear_model.Perceptron.html"
   ]
  },
  {
   "cell_type": "code",
   "execution_count": 30,
   "metadata": {},
   "outputs": [
    {
     "data": {
      "text/plain": [
       "Perceptron(alpha=0.001, class_weight=None, early_stopping=False, eta0=1.0,\n",
       "           fit_intercept=True, max_iter=100, n_iter_no_change=5, n_jobs=None,\n",
       "           penalty='l2', random_state=0, shuffle=True, tol=0.1,\n",
       "           validation_fraction=0.1, verbose=0, warm_start=False)"
      ]
     },
     "execution_count": 30,
     "metadata": {},
     "output_type": "execute_result"
    }
   ],
   "source": [
    "y_train = abortion_train_balanced[\"Stance\"]\n",
    "y_test = abortion_test[\"Stance\"]\n",
    "\n",
    "# En principio, pueden utilizar el módulo que sigue, con los parámetros por defecto y los que definan a continuación:\n",
    "penalty = 'l2' # No cambia con las otras opciones (None, l2, y elasticnet)\n",
    "alpha = 0.001   # A medida que aumenta es test da mejor que el train si penalty es l1 o l2, con none no es sensible\n",
    "                # A medida que disminuye overfittea si penalty es l1 o l2, con none no es sensible\n",
    "max_iter = 100  # No cambia con None ni con l2 pero con l1 mientras menos iteraciones menos overfiteo\n",
    "tol = 0.1  # Mientras más chico más overfiteo con el l2 \n",
    "\n",
    "model = Perceptron(penalty = penalty, alpha = alpha, fit_intercept=True, max_iter = max_iter, tol = tol, shuffle=True, random_state=0, class_weight=None, warm_start=False)\n",
    "model.fit(VEC_train_abortion_balanced, y_train)"
   ]
  },
  {
   "cell_type": "code",
   "execution_count": 31,
   "metadata": {},
   "outputs": [
    {
     "name": "stdout",
     "output_type": "stream",
     "text": [
      "Accuracy para conjunto de entrenamiento: 0.71\n",
      "F1 micro para conjunto de entrenamiento: 0.71\n",
      "F1 macro para conjunto de entrenamiento: 0.70\n",
      "F1 average para conjunto de entrenamiento: 0.69\n",
      "Accuracy para conjunto de test: 0.54\n",
      "F1 micro para conjunto de test: 0.54\n",
      "F1 macro para conjunto de test: 0.51\n",
      "F1 average para conjunto de test: 0.54\n"
     ]
    }
   ],
   "source": [
    "y_pred_train =  model.predict(VEC_train_abortion_balanced)\n",
    "accuracy_train = accuracy_score(y_train, y_pred_train)\n",
    "f1_train_micro = f1_score(y_train, y_pred_train, average=\"micro\", labels=[\"NONE\", \"AGAINST\", \"FAVOR\"])\n",
    "f1_train_macro = f1_score(y_train, y_pred_train, average=\"macro\", labels=[\"NONE\", \"AGAINST\", \"FAVOR\"])\n",
    "f1_train = f1_score(y_train, y_pred_train, average=None, labels=[\"NONE\", \"AGAINST\", \"FAVOR\"])\n",
    "f1_train_average = (f1_score(y_train, y_pred_train, average=None, labels=[\"AGAINST\"]) + f1_score(y_train, y_pred_train, average=None, labels= [\"FAVOR\"]))/2\n",
    "\n",
    "print(\"Accuracy para conjunto de entrenamiento: %.2f\" % accuracy_train)\n",
    "print(\"F1 micro para conjunto de entrenamiento: %.2f\" % f1_train_micro)\n",
    "print(\"F1 macro para conjunto de entrenamiento: %.2f\" % f1_train_macro)\n",
    "print(\"F1 average para conjunto de entrenamiento: %.2f\" % f1_train_average)\n",
    "\n",
    "y_pred_test =  model.predict(VEC_test_abortion)\n",
    "accuracy_test = accuracy_score(y_test, y_pred_test)\n",
    "f1_test_micro = f1_score(y_test, y_pred_test, average=\"micro\", labels=[\"NONE\", \"AGAINST\", \"FAVOR\"])\n",
    "f1_test_macro = f1_score(y_test, y_pred_test, average=\"macro\", labels=[\"NONE\", \"AGAINST\", \"FAVOR\"])\n",
    "f1_test = f1_score(y_test, y_pred_test, average=None, labels=[\"NONE\", \"AGAINST\", \"FAVOR\"])\n",
    "f1_test_average = (f1_score(y_test, y_pred_test, average=None, labels=[\"AGAINST\"]) + f1_score(y_test, y_pred_test, average=None, labels= [\"FAVOR\"]))/2\n",
    "\n",
    "print(\"Accuracy para conjunto de test: %.2f\" % accuracy_test)\n",
    "print(\"F1 micro para conjunto de test: %.2f\" % f1_test_micro)\n",
    "print(\"F1 macro para conjunto de test: %.2f\" % f1_test_macro)\n",
    "print(\"F1 average para conjunto de test: %.2f\" % f1_test_average)"
   ]
  },
  {
   "cell_type": "markdown",
   "metadata": {},
   "source": [
    "### K-NN"
   ]
  },
  {
   "cell_type": "markdown",
   "metadata": {},
   "source": [
    "https://scikit-learn.org/stable/modules/generated/sklearn.neighbors.KNeighborsClassifier.html"
   ]
  },
  {
   "cell_type": "code",
   "execution_count": 32,
   "metadata": {},
   "outputs": [],
   "source": [
    "from sklearn.neighbors import KNeighborsClassifier"
   ]
  },
  {
   "cell_type": "code",
   "execution_count": 55,
   "metadata": {},
   "outputs": [
    {
     "data": {
      "text/plain": [
       "KNeighborsClassifier(algorithm='auto', leaf_size=30, metric='cosine',\n",
       "                     metric_params=None, n_jobs=None, n_neighbors=3, p=2,\n",
       "                     weights='uniform')"
      ]
     },
     "execution_count": 55,
     "metadata": {},
     "output_type": "execute_result"
    }
   ],
   "source": [
    "n_neighbors = 3 # Cantidad de vecinos a tener en cuenta\n",
    "                # A medida que disminuye overfittea y a medida que aumenta los scores empeoran\n",
    "metric = 'cosine'     # Medida de distancia. Algunas opciones: cosine, euclidean, manhattan.\n",
    "\n",
    "model = KNeighborsClassifier(n_neighbors=n_neighbors, metric=metric)\n",
    "model.fit(VEC_train_abortion_balanced, y_train)"
   ]
  },
  {
   "cell_type": "code",
   "execution_count": 34,
   "metadata": {},
   "outputs": [
    {
     "name": "stdout",
     "output_type": "stream",
     "text": [
      "Accuracy para conjunto de entrenamiento: 0.72\n",
      "F1 micro para conjunto de entrenamiento: 0.72\n",
      "F1 macro para conjunto de entrenamiento: 0.72\n",
      "F1 average para conjunto de entrenamiento: 0.72\n",
      "Accuracy para conjunto de test: 0.61\n",
      "F1 micro para conjunto de test: 0.61\n",
      "F1 macro para conjunto de test: 0.50\n",
      "F1 average para conjunto de test: 0.60\n"
     ]
    }
   ],
   "source": [
    "y_pred_train =  model.predict(VEC_train_abortion_balanced)\n",
    "accuracy_train = accuracy_score(y_train, y_pred_train)\n",
    "f1_train_micro = f1_score(y_train, y_pred_train, average=\"micro\", labels=[\"NONE\", \"AGAINST\", \"FAVOR\"])\n",
    "f1_train_macro = f1_score(y_train, y_pred_train, average=\"macro\", labels=[\"NONE\", \"AGAINST\", \"FAVOR\"])\n",
    "f1_train = f1_score(y_train, y_pred_train, average=None, labels=[\"NONE\", \"AGAINST\", \"FAVOR\"])\n",
    "f1_train_average = f1_train_average = (f1_score(y_train, y_pred_train, average=None, labels=[\"AGAINST\"]) + f1_score(y_train, y_pred_train, average=None, labels= [\"FAVOR\"]))/2\n",
    "\n",
    "print(\"Accuracy para conjunto de entrenamiento: %.2f\" % accuracy_train)\n",
    "print(\"F1 micro para conjunto de entrenamiento: %.2f\" % f1_train_micro)\n",
    "print(\"F1 macro para conjunto de entrenamiento: %.2f\" % f1_train_macro)\n",
    "print(\"F1 average para conjunto de entrenamiento: %.2f\" % f1_train_average)\n",
    "\n",
    "y_pred_test =  model.predict(VEC_test_abortion)\n",
    "accuracy_test = accuracy_score(y_test, y_pred_test)\n",
    "f1_test_micro = f1_score(y_test, y_pred_test, average=\"micro\", labels=[\"NONE\", \"AGAINST\", \"FAVOR\"])\n",
    "f1_test_macro = f1_score(y_test, y_pred_test, average=\"macro\", labels=[\"NONE\", \"AGAINST\", \"FAVOR\"])\n",
    "f1_test = f1_score(y_test, y_pred_test, average=None, labels=[\"NONE\", \"AGAINST\", \"FAVOR\"])\n",
    "f1_test_average = (f1_score(y_test, y_pred_test, average=None, labels=[\"AGAINST\"]) + f1_score(y_test, y_pred_test, average=None, labels= [\"FAVOR\"]))/2\n",
    "\n",
    "print(\"Accuracy para conjunto de test: %.2f\" % accuracy_test)\n",
    "print(\"F1 micro para conjunto de test: %.2f\" % f1_test_micro)\n",
    "print(\"F1 macro para conjunto de test: %.2f\" % f1_test_macro)\n",
    "print(\"F1 average para conjunto de test: %.2f\" % f1_test_average)"
   ]
  },
  {
   "cell_type": "markdown",
   "metadata": {},
   "source": [
    "### Logistic Regression"
   ]
  },
  {
   "cell_type": "markdown",
   "metadata": {},
   "source": [
    "https://scikit-learn.org/stable/modules/generated/sklearn.linear_model.LogisticRegression.html"
   ]
  },
  {
   "cell_type": "code",
   "execution_count": 35,
   "metadata": {},
   "outputs": [
    {
     "data": {
      "text/plain": [
       "LogisticRegression(C=0.1, class_weight=None, dual=False, fit_intercept=True,\n",
       "                   intercept_scaling=1, l1_ratio=None, max_iter=10,\n",
       "                   multi_class='auto', n_jobs=None, penalty='l2',\n",
       "                   random_state=None, solver='lbfgs', tol=0.0001, verbose=0,\n",
       "                   warm_start=False)"
      ]
     },
     "execution_count": 35,
     "metadata": {},
     "output_type": "execute_result"
    }
   ],
   "source": [
    "penalty =  'l2' # Tipo de regularización: l1 (valor absoluto), l2 (cuadrados).\n",
    "                  # Con none overfitea, l1 y elasticnet no los soporta\n",
    "alpha =  10 # Parámetro de regularización. También denominado como parámetro `lambda`. Debe ser mayor que 0.\n",
    "            # A medida que disminuye overfitea y a medida que aumenta empeora\n",
    "max_iter =  10 # Cantidad máxima de iteraciones del algoritmo.\n",
    "               # No es sensible para valores muy altos y para valores bajos empeora\n",
    "tol =  0.0001 # Precisión del algoritmo (error mínimo entre una iteración y la siguiente).\n",
    "        # Para valores chicos no es sensible y para valores altos empeora\n",
    "model = LogisticRegression(penalty=penalty, C=1./alpha, max_iter=max_iter, tol=tol)\n",
    "model.fit(VEC_train_abortion_balanced, y_train)"
   ]
  },
  {
   "cell_type": "code",
   "execution_count": 36,
   "metadata": {},
   "outputs": [
    {
     "name": "stdout",
     "output_type": "stream",
     "text": [
      "Accuracy para conjunto de entrenamiento: 0.74\n",
      "F1 micro para conjunto de entrenamiento: 0.74\n",
      "F1 macro para conjunto de entrenamiento: 0.73\n",
      "F1 average para conjunto de entrenamiento: 0.69\n",
      "Accuracy para conjunto de test: 0.53\n",
      "F1 micro para conjunto de test: 0.53\n",
      "F1 macro para conjunto de test: 0.52\n",
      "F1 average para conjunto de test: 0.56\n"
     ]
    }
   ],
   "source": [
    "y_pred_train =  model.predict(VEC_train_abortion_balanced)\n",
    "accuracy_train = accuracy_score(y_train, y_pred_train)\n",
    "f1_train_micro = f1_score(y_train, y_pred_train, average=\"micro\", labels=[\"NONE\", \"AGAINST\", \"FAVOR\"])\n",
    "f1_train_macro = f1_score(y_train, y_pred_train, average=\"macro\", labels=[\"NONE\", \"AGAINST\", \"FAVOR\"])\n",
    "f1_train = f1_score(y_train, y_pred_train, average=None, labels=[\"NONE\", \"AGAINST\", \"FAVOR\"])\n",
    "f1_train_average = f1_train_average = (f1_score(y_train, y_pred_train, average=None, labels=[\"AGAINST\"]) + f1_score(y_train, y_pred_train, average=None, labels= [\"FAVOR\"]))/2\n",
    "\n",
    "print(\"Accuracy para conjunto de entrenamiento: %.2f\" % accuracy_train)\n",
    "print(\"F1 micro para conjunto de entrenamiento: %.2f\" % f1_train_micro)\n",
    "print(\"F1 macro para conjunto de entrenamiento: %.2f\" % f1_train_macro)\n",
    "print(\"F1 average para conjunto de entrenamiento: %.2f\" % f1_train_average)\n",
    "\n",
    "y_pred_test =  model.predict(VEC_test_abortion)\n",
    "accuracy_test = accuracy_score(y_test, y_pred_test)\n",
    "f1_test_micro = f1_score(y_test, y_pred_test, average=\"micro\", labels=[\"NONE\", \"AGAINST\", \"FAVOR\"])\n",
    "f1_test_macro = f1_score(y_test, y_pred_test, average=\"macro\", labels=[\"NONE\", \"AGAINST\", \"FAVOR\"])\n",
    "f1_test = f1_score(y_test, y_pred_test, average=None, labels=[\"NONE\", \"AGAINST\", \"FAVOR\"])\n",
    "f1_test_average = (f1_score(y_test, y_pred_test, average=None, labels=[\"AGAINST\"]) + f1_score(y_test, y_pred_test, average=None, labels= [\"FAVOR\"]))/2\n",
    "\n",
    "print(\"Accuracy para conjunto de test: %.2f\" % accuracy_test)\n",
    "print(\"F1 micro para conjunto de test: %.2f\" % f1_test_micro)\n",
    "print(\"F1 macro para conjunto de test: %.2f\" % f1_test_macro)\n",
    "print(\"F1 average para conjunto de test: %.2f\" % f1_test_average)"
   ]
  },
  {
   "cell_type": "markdown",
   "metadata": {},
   "source": [
    "### Grid Search"
   ]
  },
  {
   "cell_type": "markdown",
   "metadata": {},
   "source": [
    "El algoritmo que obtuve mejores métricas es el de los vecinos más cercanos"
   ]
  },
  {
   "cell_type": "code",
   "execution_count": 37,
   "metadata": {},
   "outputs": [
    {
     "data": {
      "text/plain": [
       "GridSearchCV(cv=6, error_score=nan,\n",
       "             estimator=KNeighborsClassifier(algorithm='auto', leaf_size=30,\n",
       "                                            metric='minkowski',\n",
       "                                            metric_params=None, n_jobs=None,\n",
       "                                            n_neighbors=5, p=2,\n",
       "                                            weights='uniform'),\n",
       "             iid='deprecated', n_jobs=None,\n",
       "             param_grid={'metric': ['cosine', 'manhattan', 'euclidean',\n",
       "                                    'minkowvski'],\n",
       "                         'n_neighbors': [1, 2, 3, 4, 5, 10, 20, 100, 200]},\n",
       "             pre_dispatch='2*n_jobs', refit=True, return_train_score=False,\n",
       "             scoring='f1_micro', verbose=0)"
      ]
     },
     "execution_count": 37,
     "metadata": {},
     "output_type": "execute_result"
    },
    {
     "name": "stdout",
     "output_type": "stream",
     "text": [
      "Mejor conjunto de parámetros:\n",
      "{'metric': 'cosine', 'n_neighbors': 20}\n",
      "\n",
      "\n",
      "Puntajes de la grilla:\n",
      "\n",
      "\n",
      "Reporte de clasificación para el mejor clasificador (sobre conjunto de evaluación):\n",
      "\n",
      "              precision    recall  f1-score   support\n",
      "\n",
      "     AGAINST       0.86      0.50      0.64       189\n",
      "       FAVOR       0.36      0.59      0.44        46\n",
      "        NONE       0.31      0.64      0.42        45\n",
      "\n",
      "    accuracy                           0.54       280\n",
      "   macro avg       0.51      0.58      0.50       280\n",
      "weighted avg       0.69      0.54      0.57       280\n",
      "\n",
      "\n",
      "================================================\n",
      "\n"
     ]
    }
   ],
   "source": [
    "# Para la búsqueda de los mejores parámetros, por ejemplo de logistic regression, pueden usar:\n",
    "\n",
    "exploring_params = {\n",
    "        'n_neighbors': [ 1, 2, 3, 4, 5, 10, 20, 100, 200], # Inversa del coeficiente de regularización\n",
    "        'metric': ['cosine', 'manhattan', 'euclidean', 'minkowvski'],  # Cantidad de iteraciones\n",
    "    }\n",
    "\n",
    "m = KNeighborsClassifier()\n",
    "n_cross_val =  6 # Seleccionar folds\n",
    "scoring = \"f1_micro\"\n",
    "model = GridSearchCV(m, exploring_params, cv=n_cross_val, scoring=scoring)\n",
    "    \n",
    "model.fit(VEC_train_abortion_balanced, y_train)\n",
    "\n",
    "print(\"Mejor conjunto de parámetros:\")\n",
    "print(model.best_params_, end=\"\\n\\n\")\n",
    "print()\n",
    "print(\"Puntajes de la grilla:\", end=\"\\n\\n\")\n",
    "means = model.cv_results_['mean_test_score']\n",
    "stds = model.cv_results_['std_test_score']\n",
    "print()\n",
    "print(\"Reporte de clasificación para el mejor clasificador (sobre conjunto de evaluación):\", end=\"\\n\\n\")\n",
    "y_true, y_pred = y_test, model.predict(VEC_test_abortion)\n",
    "print(classification_report(y_true, y_pred), end=\"\\n\\n\")\n",
    "\n",
    "print(\"================================================\", end=\"\\n\\n\")"
   ]
  },
  {
   "cell_type": "markdown",
   "metadata": {},
   "source": [
    "Agregar matriz de confusión"
   ]
  },
  {
   "cell_type": "code",
   "execution_count": null,
   "metadata": {},
   "outputs": [],
   "source": []
  }
 ],
 "metadata": {
  "kernelspec": {
   "display_name": "Python 3",
   "language": "python",
   "name": "python3"
  },
  "language_info": {
   "codemirror_mode": {
    "name": "ipython",
    "version": 3
   },
   "file_extension": ".py",
   "mimetype": "text/x-python",
   "name": "python",
   "nbconvert_exporter": "python",
   "pygments_lexer": "ipython3",
   "version": "3.7.6"
  }
 },
 "nbformat": 4,
 "nbformat_minor": 4
}
