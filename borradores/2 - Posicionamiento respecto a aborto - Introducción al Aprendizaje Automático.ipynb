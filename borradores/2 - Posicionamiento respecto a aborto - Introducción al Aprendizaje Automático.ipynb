{
 "cells": [
  {
   "cell_type": "markdown",
   "metadata": {},
   "source": [
    "# Introducción"
   ]
  },
  {
   "cell_type": "markdown",
   "metadata": {},
   "source": [
    "En la siguiente notebook se presentará la consigna a seguir para el tercer práctico del proyecto, correspondiente a la materia Introducción al Aprendizaje Automático. El objetivo consiste en explorar la aplicación de diferentes métodos de aprendizaje supervisado aprendidos en el curso, a través de experimentos reproducibles, y evaluando a su vez la conveniencia de uno u otro, así como la selección de diferentes hiperparámetros a partir del cálculo de las métricas pertinentes.\n",
    "\n",
    "En este caso, enfrentamos un problema de clasificación binario de posicionamiento respecto de un tópico. Para este práctico vamos a utilizar únicamente los datos etiquetados, que ya vienen divididos en train y test. Buscamos analizar distintos problemas que puedan surgir como el desbalanceo de clases\n",
    "\n",
    "\n",
    "## Organización\n",
    "\n",
    "El trabajo va a estar organizado en dos grandes secciones: preprocesamiento y aplicación de los clasificadores.\n",
    "\n",
    "#### Preprocesamiento\n",
    "En la parte de preprocesamiento lo que vamos a hacer va a ser:\n",
    "\n",
    "1 - Obtener el dataset\n",
    "\n",
    "2 - Tokenizar\n",
    "\n",
    "3 - Aplicar alguna curación\n",
    "\n",
    "4 - Balanceo de clases\n",
    "\n",
    "5 - Representar el texto como vector: CountVectorizer\n",
    "\n",
    "6 - Optativo: se puede representar el texto de otras maneras? Embeddings!\n",
    "\n",
    "#### Clasificadores\n",
    "\n",
    "1 - Perceptron\n",
    "\n",
    "2 - K-NN\n",
    "\n",
    "3 - Regresión Logística\n",
    "\n",
    "4 - Evaluación de los clasificadores\n",
    "\n",
    "5 - Optimización de Hiperparámetros\n",
    "\n",
    "Esto para los tres datasets CON y SIN balanceo de clases\n"
   ]
  },
  {
   "cell_type": "code",
   "execution_count": 1,
   "metadata": {},
   "outputs": [],
   "source": [
    "import pandas as pd\n",
    "from nltk.tokenize import TweetTokenizer\n",
    "from sklearn.feature_extraction.text import CountVectorizer\n",
    "from sklearn.linear_model import LogisticRegression, Perceptron\n",
    "from sklearn.metrics import accuracy_score, f1_score, make_scorer, classification_report\n",
    "from sklearn.model_selection import GridSearchCV"
   ]
  },
  {
   "cell_type": "code",
   "execution_count": 2,
   "metadata": {},
   "outputs": [],
   "source": [
    "pd.set_option('display.max_rows', 10)\n",
    "import warnings\n",
    "warnings.filterwarnings(\"ignore\")"
   ]
  },
  {
   "cell_type": "code",
   "execution_count": 3,
   "metadata": {},
   "outputs": [],
   "source": [
    "from IPython.core.interactiveshell import InteractiveShell\n",
    "InteractiveShell.ast_node_interactivity = 'all'\n",
    "pd.set_option('display.max_rows', 20000)\n",
    "pd.set_option('display.max_columns', 20000)\n",
    "pd.set_option('display.max_colwidth', -1)"
   ]
  },
  {
   "cell_type": "markdown",
   "metadata": {},
   "source": [
    "# Preprocesamiento"
   ]
  },
  {
   "cell_type": "markdown",
   "metadata": {},
   "source": [
    "### Cargamos los datos"
   ]
  },
  {
   "cell_type": "code",
   "execution_count": 4,
   "metadata": {},
   "outputs": [],
   "source": [
    "train = pd.read_csv(\"train.csv\", sep=',', encoding=\"latin1\").fillna(method=\"ffill\")\n",
    "test = pd.read_csv(\"test.csv\", sep=',', encoding=\"latin1\").fillna(method=\"ffill\")"
   ]
  },
  {
   "cell_type": "code",
   "execution_count": 5,
   "metadata": {},
   "outputs": [],
   "source": [
    "abortion_train = train[train[\"Target\"] == \"Legalization of Abortion\"]\n",
    "abortion_test = test[test[\"Target\"] == \"Legalization of Abortion\"]\n",
    "\n",
    "climate_train = train[train[\"Target\"] == \"Climate Change is a Real Concern\"]\n",
    "climate_test = test[test[\"Target\"] == \"Climate Change is a Real Concern\"]\n",
    "\n",
    "feminism_train = train[train[\"Target\"] == \"Feminist Movement\"]\n",
    "feminism_test = test[test[\"Target\"] == \"Feminist Movement\"]"
   ]
  },
  {
   "cell_type": "code",
   "execution_count": 6,
   "metadata": {},
   "outputs": [
    {
     "name": "stdout",
     "output_type": "stream",
     "text": [
      "653\n",
      "280\n",
      "395\n",
      "169\n",
      "664\n",
      "285\n"
     ]
    }
   ],
   "source": [
    "print(abortion_train.shape[0])\n",
    "print(abortion_test.shape[0])\n",
    "print(climate_train.shape[0])\n",
    "print(climate_test.shape[0])\n",
    "print(feminism_train.shape[0])\n",
    "print(feminism_test.shape[0])"
   ]
  },
  {
   "cell_type": "code",
   "execution_count": 7,
   "metadata": {},
   "outputs": [
    {
     "data": {
      "text/html": [
       "<div>\n",
       "<style scoped>\n",
       "    .dataframe tbody tr th:only-of-type {\n",
       "        vertical-align: middle;\n",
       "    }\n",
       "\n",
       "    .dataframe tbody tr th {\n",
       "        vertical-align: top;\n",
       "    }\n",
       "\n",
       "    .dataframe thead th {\n",
       "        text-align: right;\n",
       "    }\n",
       "</style>\n",
       "<table border=\"1\" class=\"dataframe\">\n",
       "  <thead>\n",
       "    <tr style=\"text-align: right;\">\n",
       "      <th></th>\n",
       "      <th>Tweet</th>\n",
       "      <th>Target</th>\n",
       "      <th>Stance</th>\n",
       "      <th>Opinion Towards</th>\n",
       "      <th>Sentiment</th>\n",
       "    </tr>\n",
       "  </thead>\n",
       "  <tbody>\n",
       "    <tr>\n",
       "      <th>919</th>\n",
       "      <td>People at the bar bitching about the heat and drought. No one utters the words #fossilfuel caused #elephantintheroom #denial #SemST</td>\n",
       "      <td>Climate Change is a Real Concern</td>\n",
       "      <td>FAVOR</td>\n",
       "      <td>1.  The tweet explicitly expresses opinion about the target, a part of the target, or an aspect of the target.</td>\n",
       "      <td>neg</td>\n",
       "    </tr>\n",
       "    <tr>\n",
       "      <th>947</th>\n",
       "      <td>BrettGarrot: BrettGarrot: GlblWarmingNews And the tooth fairy might be causing kids to lose teeth! #carbontaxscam #Chemtrails #SemST</td>\n",
       "      <td>Climate Change is a Real Concern</td>\n",
       "      <td>AGAINST</td>\n",
       "      <td>1.  The tweet explicitly expresses opinion about the target, a part of the target, or an aspect of the target.</td>\n",
       "      <td>neg</td>\n",
       "    </tr>\n",
       "    <tr>\n",
       "      <th>616</th>\n",
       "      <td>Delivering good jobs for Albertans, maintaining a stable economy &amp; meeting climate change strategy. Good goals. #abpoli #GHG #SemST</td>\n",
       "      <td>Climate Change is a Real Concern</td>\n",
       "      <td>FAVOR</td>\n",
       "      <td>1.  The tweet explicitly expresses opinion about the target, a part of the target, or an aspect of the target.</td>\n",
       "      <td>pos</td>\n",
       "    </tr>\n",
       "    <tr>\n",
       "      <th>853</th>\n",
       "      <td>@DalydeGagne @2010redmittens Canada alone needs 2 invest $60 billion a year, paid for by efficiency #cdnpoli #environment #SemST</td>\n",
       "      <td>Climate Change is a Real Concern</td>\n",
       "      <td>FAVOR</td>\n",
       "      <td>1.  The tweet explicitly expresses opinion about the target, a part of the target, or an aspect of the target.</td>\n",
       "      <td>other</td>\n",
       "    </tr>\n",
       "    <tr>\n",
       "      <th>805</th>\n",
       "      <td>SA has played an instrumental role in rallying other BASIC countries to strengthen South-South cooperation on matters around #SemST</td>\n",
       "      <td>Climate Change is a Real Concern</td>\n",
       "      <td>NONE</td>\n",
       "      <td>3.  The tweet is not explicitly expressing opinion. (For example, the tweet is simply giving information.)</td>\n",
       "      <td>pos</td>\n",
       "    </tr>\n",
       "    <tr>\n",
       "      <th>646</th>\n",
       "      <td>@CBCNews @nationalpost The human mind is incapable of dealing with that of which it has no experience  #SemST</td>\n",
       "      <td>Climate Change is a Real Concern</td>\n",
       "      <td>NONE</td>\n",
       "      <td>2. The tweet does NOT expresses opinion about the target but it HAS opinion about something or someone other than the target.</td>\n",
       "      <td>other</td>\n",
       "    </tr>\n",
       "    <tr>\n",
       "      <th>679</th>\n",
       "      <td>If it doesn't warm up soon @Number10gov, I want my money back on the panels for misselling. #45Minutes #dodgydata #Drtker #SemST</td>\n",
       "      <td>Climate Change is a Real Concern</td>\n",
       "      <td>NONE</td>\n",
       "      <td>2. The tweet does NOT expresses opinion about the target but it HAS opinion about something or someone other than the target.</td>\n",
       "      <td>neg</td>\n",
       "    </tr>\n",
       "    <tr>\n",
       "      <th>965</th>\n",
       "      <td>Scorching summers for UK by end of the century! Thank Rocks I won't be here to suffer them! :-)  #SemST</td>\n",
       "      <td>Climate Change is a Real Concern</td>\n",
       "      <td>FAVOR</td>\n",
       "      <td>1.  The tweet explicitly expresses opinion about the target, a part of the target, or an aspect of the target.</td>\n",
       "      <td>pos</td>\n",
       "    </tr>\n",
       "    <tr>\n",
       "      <th>969</th>\n",
       "      <td>RT @fadoben60: When the rate of #Utilisation exceeds the rate of #Regeneration then it calls for #DEGRADATION. #michachallen... #SemST</td>\n",
       "      <td>Climate Change is a Real Concern</td>\n",
       "      <td>NONE</td>\n",
       "      <td>2. The tweet does NOT expresses opinion about the target but it HAS opinion about something or someone other than the target.</td>\n",
       "      <td>neg</td>\n",
       "    </tr>\n",
       "    <tr>\n",
       "      <th>630</th>\n",
       "      <td>@RegimeChangeBC @ndnstyl It's sad to be the last generation that could change but does nothing. #Auspol #SemST</td>\n",
       "      <td>Climate Change is a Real Concern</td>\n",
       "      <td>FAVOR</td>\n",
       "      <td>1.  The tweet explicitly expresses opinion about the target, a part of the target, or an aspect of the target.</td>\n",
       "      <td>neg</td>\n",
       "    </tr>\n",
       "  </tbody>\n",
       "</table>\n",
       "</div>"
      ],
      "text/plain": [
       "                                                                                                                                      Tweet  \\\n",
       "919  People at the bar bitching about the heat and drought. No one utters the words #fossilfuel caused #elephantintheroom #denial #SemST      \n",
       "947  BrettGarrot: BrettGarrot: GlblWarmingNews And the tooth fairy might be causing kids to lose teeth! #carbontaxscam #Chemtrails #SemST     \n",
       "616  Delivering good jobs for Albertans, maintaining a stable economy & meeting climate change strategy. Good goals. #abpoli #GHG #SemST      \n",
       "853  @DalydeGagne @2010redmittens Canada alone needs 2 invest $60 billion a year, paid for by efficiency #cdnpoli #environment #SemST         \n",
       "805  SA has played an instrumental role in rallying other BASIC countries to strengthen South-South cooperation on matters around #SemST      \n",
       "646  @CBCNews @nationalpost The human mind is incapable of dealing with that of which it has no experience  #SemST                            \n",
       "679  If it doesn't warm up soon @Number10gov, I want my money back on the panels for misselling. #45Minutes #dodgydata #Drtker #SemST         \n",
       "965  Scorching summers for UK by end of the century! Thank Rocks I won't be here to suffer them! :-)  #SemST                                  \n",
       "969  RT @fadoben60: When the rate of #Utilisation exceeds the rate of #Regeneration then it calls for #DEGRADATION. #michachallen... #SemST   \n",
       "630  @RegimeChangeBC @ndnstyl It's sad to be the last generation that could change but does nothing. #Auspol #SemST                           \n",
       "\n",
       "                               Target   Stance  \\\n",
       "919  Climate Change is a Real Concern  FAVOR     \n",
       "947  Climate Change is a Real Concern  AGAINST   \n",
       "616  Climate Change is a Real Concern  FAVOR     \n",
       "853  Climate Change is a Real Concern  FAVOR     \n",
       "805  Climate Change is a Real Concern  NONE      \n",
       "646  Climate Change is a Real Concern  NONE      \n",
       "679  Climate Change is a Real Concern  NONE      \n",
       "965  Climate Change is a Real Concern  FAVOR     \n",
       "969  Climate Change is a Real Concern  NONE      \n",
       "630  Climate Change is a Real Concern  FAVOR     \n",
       "\n",
       "                                                                                                                   Opinion Towards  \\\n",
       "919  1.  The tweet explicitly expresses opinion about the target, a part of the target, or an aspect of the target.                  \n",
       "947  1.  The tweet explicitly expresses opinion about the target, a part of the target, or an aspect of the target.                  \n",
       "616  1.  The tweet explicitly expresses opinion about the target, a part of the target, or an aspect of the target.                  \n",
       "853  1.  The tweet explicitly expresses opinion about the target, a part of the target, or an aspect of the target.                  \n",
       "805  3.  The tweet is not explicitly expressing opinion. (For example, the tweet is simply giving information.)                      \n",
       "646  2. The tweet does NOT expresses opinion about the target but it HAS opinion about something or someone other than the target.   \n",
       "679  2. The tweet does NOT expresses opinion about the target but it HAS opinion about something or someone other than the target.   \n",
       "965  1.  The tweet explicitly expresses opinion about the target, a part of the target, or an aspect of the target.                  \n",
       "969  2. The tweet does NOT expresses opinion about the target but it HAS opinion about something or someone other than the target.   \n",
       "630  1.  The tweet explicitly expresses opinion about the target, a part of the target, or an aspect of the target.                  \n",
       "\n",
       "    Sentiment  \n",
       "919  neg       \n",
       "947  neg       \n",
       "616  pos       \n",
       "853  other     \n",
       "805  pos       \n",
       "646  other     \n",
       "679  neg       \n",
       "965  pos       \n",
       "969  neg       \n",
       "630  neg       "
      ]
     },
     "execution_count": 7,
     "metadata": {},
     "output_type": "execute_result"
    }
   ],
   "source": [
    "climate_train.sample(10)"
   ]
  },
  {
   "cell_type": "markdown",
   "metadata": {},
   "source": [
    "Sólo vamos a usar el tweet y el stance. Como encima ya tenemos dividido el corpus según el target, vamos a eliminar todas las columnas excepto tweet y stance"
   ]
  },
  {
   "cell_type": "code",
   "execution_count": 8,
   "metadata": {},
   "outputs": [],
   "source": [
    "abortion_train.drop(columns = [\"Target\", \"Opinion Towards\", \"Sentiment\"], inplace=True)\n",
    "abortion_test.drop(columns = [\"Target\", \"Opinion Towards\", \"Sentiment\"], inplace=True)\n",
    "\n",
    "climate_train.drop(columns = [\"Target\", \"Opinion Towards\", \"Sentiment\"], inplace=True)\n",
    "climate_test.drop(columns = [\"Target\", \"Opinion Towards\", \"Sentiment\"], inplace=True)\n",
    "\n",
    "feminism_train.drop(columns = [\"Target\", \"Opinion Towards\", \"Sentiment\"], inplace=True)\n",
    "feminism_test.drop(columns = [\"Target\", \"Opinion Towards\", \"Sentiment\"], inplace=True)"
   ]
  },
  {
   "cell_type": "markdown",
   "metadata": {},
   "source": [
    "### Tokenizamos"
   ]
  },
  {
   "cell_type": "markdown",
   "metadata": {},
   "source": [
    "En principio como mínimo para realizar algún tipo de preprocesamiento y luego transformar nuestros datos en algo que pueda ser tomado como input por los clasificadores que vamos a probar necesitamos dividir nuestro tweet en formato string en una lista de palabras. La división requiere tomar decisiones sobre cómo tratar anomalías. En especial en twitter donde abundan las abreviaciones, errores ortográficos, puntuaciones raras, emojis, lo que se le ocurra al usuario.\n",
    "\n",
    "Hay muchas formas distintas de tokenizar y hay clasificadores que vienen con tokenizadores especiales incorporados al punto tal de que no pueden funcionar con otra tokenización (fastText y BERT por ejemplo separan la raíz de las parabras de sus prefijos y sufijos para poder relacionar palabras similares, como asociar todas las conjugaciones de un verbo a una misma raíz).\n",
    "\n",
    "Nosotros vamos a usar uno bien simple que tiene pocas funciones pero tiene algunas funciones pensadas especialmente para redes sociales, como por ejemplo detectar emojis o separar una palabra de sus signos de puntuación o asociar muchos signos de puntuación iguales y seguidos como si fueran uno solo (por ejemplo, !!!!!).\n",
    "\n",
    "https://www.nltk.org/api/nltk.tokenize.html\n",
    "\n",
    "Hay tres parámetros que pueden explorar leyendo la documentación (los que están escritos). Prueben ver qué pasa cuando cambian cada uno"
   ]
  },
  {
   "cell_type": "code",
   "execution_count": 9,
   "metadata": {},
   "outputs": [],
   "source": [
    "tokenizer = TweetTokenizer(preserve_case=False, reduce_len=False, strip_handles=True)"
   ]
  },
  {
   "cell_type": "markdown",
   "metadata": {},
   "source": [
    "- preserve_case = False ---> pasa a minúscula\n",
    "- reduce_len = False ---> detecta cuando un carácter está repetido más de tres veces y lo corta en a lo sumo 3 repeticiones\n",
    "- strip_handles = True ---> elimina las palabras que comienzan con @"
   ]
  },
  {
   "cell_type": "code",
   "execution_count": 10,
   "metadata": {},
   "outputs": [
    {
     "name": "stdout",
     "output_type": "stream",
     "text": [
      "Tweet: @tooprettyclub Are you OK with #GOP males telling you what you can and can't do with your own body?\n",
      "Tweet tokenizado: \n"
     ]
    },
    {
     "data": {
      "text/plain": [
       "['are',\n",
       " 'you',\n",
       " 'ok',\n",
       " 'with',\n",
       " '#gop',\n",
       " 'males',\n",
       " 'telling',\n",
       " 'you',\n",
       " 'what',\n",
       " 'you',\n",
       " 'can',\n",
       " 'and',\n",
       " \"can't\",\n",
       " 'do',\n",
       " 'with',\n",
       " 'your',\n",
       " 'own',\n",
       " 'body',\n",
       " '?']"
      ]
     },
     "execution_count": 10,
     "metadata": {},
     "output_type": "execute_result"
    }
   ],
   "source": [
    "# Ejemplo\n",
    "print('Tweet: '+ abortion_train[\"Tweet\"].iloc[1])\n",
    "print('Tweet tokenizado: ') \n",
    "tokenizer.tokenize(abortion_train[\"Tweet\"].iloc[1])"
   ]
  },
  {
   "cell_type": "markdown",
   "metadata": {},
   "source": [
    "### Preprocesamiento"
   ]
  },
  {
   "cell_type": "markdown",
   "metadata": {},
   "source": [
    "El preprocesamiento para twitter requiere tomar varias decisiones. Recomiendo que vean un poco el dataset y piensen con qué palabras quieren trabajar y cuales quieren remover. Les dejo el esqueleto de una función de preprocesamiento que sólo tokeniza pero que puede tomar dos parámetros optativos para remover hashtags y números.\n",
    "\n",
    "#### Ejercicio 1\n",
    "\n",
    "Agregarle a la función de preprocesamiento que borre las urls (palabras que empiecen con http). Agregarle código para que agregue o saque texto de acuerdo con al menos un criterio propuesto por ustedes (menciones a los usuarios, caritas/emojis, puntuación)."
   ]
  },
  {
   "cell_type": "code",
   "execution_count": 12,
   "metadata": {},
   "outputs": [
    {
     "name": "stderr",
     "output_type": "stream",
     "text": [
      "[nltk_data] Downloading package stopwords to\n",
      "[nltk_data]     C:\\Users\\Manuela\\AppData\\Roaming\\nltk_data...\n",
      "[nltk_data]   Package stopwords is already up-to-date!\n"
     ]
    },
    {
     "data": {
      "text/plain": [
       "True"
      ]
     },
     "execution_count": 12,
     "metadata": {},
     "output_type": "execute_result"
    }
   ],
   "source": [
    "import emoji\n",
    "import string\n",
    "import nltk\n",
    "from nltk.corpus import stopwords\n",
    "nltk.download('stopwords')"
   ]
  },
  {
   "cell_type": "code",
   "execution_count": 13,
   "metadata": {},
   "outputs": [
    {
     "name": "stdout",
     "output_type": "stream",
     "text": [
      "['i', 'me', 'my', 'myself', 'we', 'our', 'ours', 'ourselves', 'you', \"you're\", \"you've\", \"you'll\", \"you'd\", 'your', 'yours', 'yourself', 'yourselves', 'he', 'him', 'his', 'himself', 'she', \"she's\", 'her', 'hers', 'herself', 'it', \"it's\", 'its', 'itself', 'they', 'them', 'their', 'theirs', 'themselves', 'what', 'which', 'who', 'whom', 'this', 'that', \"that'll\", 'these', 'those', 'am', 'is', 'are', 'was', 'were', 'be', 'been', 'being', 'have', 'has', 'had', 'having', 'do', 'does', 'did', 'doing', 'a', 'an', 'the', 'and', 'but', 'if', 'or', 'because', 'as', 'until', 'while', 'of', 'at', 'by', 'for', 'with', 'about', 'against', 'between', 'into', 'through', 'during', 'before', 'after', 'above', 'below', 'to', 'from', 'up', 'down', 'in', 'out', 'on', 'off', 'over', 'under', 'again', 'further', 'then', 'once', 'here', 'there', 'when', 'where', 'why', 'how', 'all', 'any', 'both', 'each', 'few', 'more', 'most', 'other', 'some', 'such', 'no', 'nor', 'not', 'only', 'own', 'same', 'so', 'than', 'too', 'very', 's', 't', 'can', 'will', 'just', 'don', \"don't\", 'should', \"should've\", 'now', 'd', 'll', 'm', 'o', 're', 've', 'y', 'ain', 'aren', \"aren't\", 'couldn', \"couldn't\", 'didn', \"didn't\", 'doesn', \"doesn't\", 'hadn', \"hadn't\", 'hasn', \"hasn't\", 'haven', \"haven't\", 'isn', \"isn't\", 'ma', 'mightn', \"mightn't\", 'mustn', \"mustn't\", 'needn', \"needn't\", 'shan', \"shan't\", 'shouldn', \"shouldn't\", 'wasn', \"wasn't\", 'weren', \"weren't\", 'won', \"won't\", 'wouldn', \"wouldn't\"]\n"
     ]
    }
   ],
   "source": [
    "print(stopwords.words('english'))"
   ]
  },
  {
   "cell_type": "code",
   "execution_count": 14,
   "metadata": {},
   "outputs": [],
   "source": [
    "stop_words = set(stopwords.words('english')) "
   ]
  },
  {
   "cell_type": "code",
   "execution_count": 15,
   "metadata": {},
   "outputs": [],
   "source": [
    "def preprocesar(text, remove_hashtags=True, remove_numbers=True, remove_http=True, remove_punctuation=True, remove_stopwords=True):\n",
    "    toks = tokenizer.tokenize(text) # Arma lista de palabras\n",
    "    ret = []\n",
    "    for tok in toks:\n",
    "        if tok[0] == \"#\" and remove_hashtags:  # Removemos hashtag si remove_hashtags = True\n",
    "            continue    \n",
    "        if tok.isnumeric() and remove_numbers:   # Removemos los números si remove_numbers = True\n",
    "            continue \n",
    "        if tok[:4] == \"http\" and remove_http:  # Removemos los url si remove_http = True\n",
    "            continue  \n",
    "        if tok in string.punctuation and remove_punctuation: # Removemos !\"#$%&'()*+, -./:;<=>?@[\\]^_`{|}~ si remove_punctuation=True\n",
    "            continue \n",
    "        if tok in stop_words and remove_stopwords:  # Removemos los stopwords si remove_stopwords = True\n",
    "            continue   \n",
    "        ret.append(tok) \n",
    "    return \" \".join(ret)"
   ]
  },
  {
   "cell_type": "code",
   "execution_count": 16,
   "metadata": {},
   "outputs": [
    {
     "data": {
      "text/plain": [
       "'wordl'"
      ]
     },
     "execution_count": 16,
     "metadata": {},
     "output_type": "execute_result"
    }
   ],
   "source": [
    "# Ejemplo\n",
    "w = '@donald are you in the wordl??? #genial;'\n",
    "\n",
    "preprocesar(w, remove_hashtags = True,\n",
    "               remove_numbers=True, \n",
    "               remove_http=True, \n",
    "               remove_punctuation=True,\n",
    "               remove_stopwords=True)"
   ]
  },
  {
   "cell_type": "markdown",
   "metadata": {},
   "source": [
    "Falta eliminar los emoji:\n",
    "- https://towardsdatascience.com/a-beginners-guide-to-preprocessing-text-data-using-nlp-tools-5cb52a8d3cd"
   ]
  },
  {
   "cell_type": "code",
   "execution_count": 17,
   "metadata": {},
   "outputs": [],
   "source": [
    "# Hacer esto para todos los datasets, train y test de los 3 tópicos\n",
    "abortion_train[\"Tweet_procesado\"] = abortion_train[\"Tweet\"].apply(lambda x: preprocesar(x))\n",
    "abortion_test[\"Tweet_procesado\"] = abortion_test[\"Tweet\"].apply(lambda x: preprocesar(x))\n",
    "climate_train[\"Tweet_procesado\"] = climate_train[\"Tweet\"].apply(lambda x: preprocesar(x))\n",
    "climate_test[\"Tweet_procesado\"] = climate_test[\"Tweet\"].apply(lambda x: preprocesar(x))\n",
    "feminism_train[\"Tweet_procesado\"] = feminism_train[\"Tweet\"].apply(lambda x: preprocesar(x))\n",
    "feminism_test[\"Tweet_procesado\"] = feminism_test[\"Tweet\"].apply(lambda x: preprocesar(x))"
   ]
  },
  {
   "cell_type": "code",
   "execution_count": 18,
   "metadata": {},
   "outputs": [
    {
     "data": {
      "text/html": [
       "<div>\n",
       "<style scoped>\n",
       "    .dataframe tbody tr th:only-of-type {\n",
       "        vertical-align: middle;\n",
       "    }\n",
       "\n",
       "    .dataframe tbody tr th {\n",
       "        vertical-align: top;\n",
       "    }\n",
       "\n",
       "    .dataframe thead th {\n",
       "        text-align: right;\n",
       "    }\n",
       "</style>\n",
       "<table border=\"1\" class=\"dataframe\">\n",
       "  <thead>\n",
       "    <tr style=\"text-align: right;\">\n",
       "      <th></th>\n",
       "      <th>Tweet</th>\n",
       "      <th>Stance</th>\n",
       "      <th>Tweet_procesado</th>\n",
       "    </tr>\n",
       "  </thead>\n",
       "  <tbody>\n",
       "    <tr>\n",
       "      <th>613</th>\n",
       "      <td>We cant deny it, its really happening.  #SemST</td>\n",
       "      <td>FAVOR</td>\n",
       "      <td>cant deny really happening</td>\n",
       "    </tr>\n",
       "    <tr>\n",
       "      <th>614</th>\n",
       "      <td>RT @cderworiz: Timelines are short. Strategy must be in place by climate change conference in Paris by December. #ableg #SemST</td>\n",
       "      <td>FAVOR</td>\n",
       "      <td>rt timelines short strategy must place climate change conference paris december</td>\n",
       "    </tr>\n",
       "    <tr>\n",
       "      <th>615</th>\n",
       "      <td>SO EXCITING! Meaningful climate change action is on the way! #abpoli #GHG #SemST</td>\n",
       "      <td>FAVOR</td>\n",
       "      <td>exciting meaningful climate change action way</td>\n",
       "    </tr>\n",
       "    <tr>\n",
       "      <th>616</th>\n",
       "      <td>Delivering good jobs for Albertans, maintaining a stable economy &amp; meeting climate change strategy. Good goals. #abpoli #GHG #SemST</td>\n",
       "      <td>FAVOR</td>\n",
       "      <td>delivering good jobs albertans maintaining stable economy meeting climate change strategy good goals</td>\n",
       "    </tr>\n",
       "    <tr>\n",
       "      <th>617</th>\n",
       "      <td>@davidswann says he wants carbon fund to be spent on public transportation and renewable energy. #ejlive #ableg #SemST</td>\n",
       "      <td>FAVOR</td>\n",
       "      <td>says wants carbon fund spent public transportation renewable energy</td>\n",
       "    </tr>\n",
       "  </tbody>\n",
       "</table>\n",
       "</div>"
      ],
      "text/plain": [
       "                                                                                                                                   Tweet  \\\n",
       "613  We cant deny it, its really happening.  #SemST                                                                                        \n",
       "614  RT @cderworiz: Timelines are short. Strategy must be in place by climate change conference in Paris by December. #ableg #SemST        \n",
       "615  SO EXCITING! Meaningful climate change action is on the way! #abpoli #GHG #SemST                                                      \n",
       "616  Delivering good jobs for Albertans, maintaining a stable economy & meeting climate change strategy. Good goals. #abpoli #GHG #SemST   \n",
       "617  @davidswann says he wants carbon fund to be spent on public transportation and renewable energy. #ejlive #ableg #SemST                \n",
       "\n",
       "    Stance  \\\n",
       "613  FAVOR   \n",
       "614  FAVOR   \n",
       "615  FAVOR   \n",
       "616  FAVOR   \n",
       "617  FAVOR   \n",
       "\n",
       "                                                                                          Tweet_procesado  \n",
       "613  cant deny really happening                                                                            \n",
       "614  rt timelines short strategy must place climate change conference paris december                       \n",
       "615  exciting meaningful climate change action way                                                         \n",
       "616  delivering good jobs albertans maintaining stable economy meeting climate change strategy good goals  \n",
       "617  says wants carbon fund spent public transportation renewable energy                                   "
      ]
     },
     "execution_count": 18,
     "metadata": {},
     "output_type": "execute_result"
    }
   ],
   "source": [
    "climate_train.head()"
   ]
  },
  {
   "cell_type": "code",
   "execution_count": 19,
   "metadata": {},
   "outputs": [
    {
     "data": {
      "text/plain": [
       "<matplotlib.axes._subplots.AxesSubplot at 0x17168a6d788>"
      ]
     },
     "execution_count": 19,
     "metadata": {},
     "output_type": "execute_result"
    },
    {
     "data": {
      "image/png": "[encoded data removed]",
      "text/plain": [
       "<Figure size 432x288 with 1 Axes>"
      ]
     },
     "metadata": {
      "needs_background": "light"
     },
     "output_type": "display_data"
    }
   ],
   "source": [
    "import seaborn as sns\n",
    "sns.countplot(climate_train.Stance)"
   ]
  },
  {
   "cell_type": "code",
   "execution_count": 20,
   "metadata": {},
   "outputs": [
    {
     "data": {
      "text/plain": [
       "<matplotlib.axes._subplots.AxesSubplot at 0x171698576c8>"
      ]
     },
     "execution_count": 20,
     "metadata": {},
     "output_type": "execute_result"
    },
    {
     "data": {
      "image/png": "[encoded data removed]",
      "text/plain": [
       "<Figure size 432x288 with 1 Axes>"
      ]
     },
     "metadata": {
      "needs_background": "light"
     },
     "output_type": "display_data"
    }
   ],
   "source": [
    "sns.countplot(abortion_train.Stance)"
   ]
  },
  {
   "cell_type": "code",
   "execution_count": 21,
   "metadata": {},
   "outputs": [
    {
     "data": {
      "text/plain": [
       "<matplotlib.axes._subplots.AxesSubplot at 0x17169904288>"
      ]
     },
     "execution_count": 21,
     "metadata": {},
     "output_type": "execute_result"
    },
    {
     "data": {
      "image/png": "[encoded data removed]",
      "text/plain": [
       "<Figure size 432x288 with 1 Axes>"
      ]
     },
     "metadata": {
      "needs_background": "light"
     },
     "output_type": "display_data"
    }
   ],
   "source": [
    "sns.countplot(abortion_test.Stance)"
   ]
  },
  {
   "cell_type": "code",
   "execution_count": 22,
   "metadata": {},
   "outputs": [
    {
     "data": {
      "text/plain": [
       "<matplotlib.axes._subplots.AxesSubplot at 0x171698f7948>"
      ]
     },
     "execution_count": 22,
     "metadata": {},
     "output_type": "execute_result"
    },
    {
     "data": {
      "image/png": "[encoded data removed]",
      "text/plain": [
       "<Figure size 432x288 with 1 Axes>"
      ]
     },
     "metadata": {
      "needs_background": "light"
     },
     "output_type": "display_data"
    }
   ],
   "source": [
    "sns.countplot(feminism_train.Stance)"
   ]
  },
  {
   "cell_type": "markdown",
   "metadata": {},
   "source": [
    "### Balanceo de clases"
   ]
  },
  {
   "cell_type": "markdown",
   "metadata": {},
   "source": [
    "En el práctico anterior ya analizaron la distribución de las clases según cada target (tópico) del dataset. Queremos explorar la posibilidad de hacer un balanceo de clases. Para eso, analizamos tópico por tópico si esto es posible y las dificultades que tiene.\n",
    "\n",
    "Para el dataset de feminismo, tenemos dos versiones de train, una con correcciones y otra sin. En la versión con correcciones cambia el balanceo de las clases a algo más equitativo que en su version original. Por este motivo, vamos a descartar hacer un balanceo de clases en este dataset.  ## dónde está la segunda versión???\n",
    "\n",
    "Para el dataset de cambio climático tenemos un desbalanceo tan grande que, por ejemplo, sólo tenemos 11 ejemplos de la clase Against (el 6,5% del corpus). El problema que tiene una distribución tan desigual es que resulta dificil aplicar técnicas como el subsampling porque nos quedaríamos con 33 tweets de entrenamiento, o el oversampling porque para que las clases queden parejas, deberíamos repetir un mismo tweet muchas veces.\n",
    "\n",
    "Por lo tanto, nos queda el corpus de aborto:\n",
    "\n",
    "#### Ejercicio 2\n",
    "\n",
    "Hacer subsampling del corpus de aborto y guardarlo como un nuevo dataset. A partir de ahora, todos los experimentos que corran deberán correrlos además de para los tres corpus respectivos a cada tópico, también para este nuevo corpus de aborto con sus clases balanceadas. Luego vamos a comparar los resultados obtenidos con y sin balanceo de clases"
   ]
  },
  {
   "cell_type": "code",
   "execution_count": 23,
   "metadata": {},
   "outputs": [],
   "source": [
    "df1 = abortion_train[abortion_train.Stance == 'AGAINST'].sample(n=175, random_state=1)"
   ]
  },
  {
   "cell_type": "code",
   "execution_count": 24,
   "metadata": {},
   "outputs": [],
   "source": [
    "df2 = abortion_train[(abortion_train.Stance == 'FAVOR') | (abortion_train.Stance == 'NONE')]"
   ]
  },
  {
   "cell_type": "code",
   "execution_count": 25,
   "metadata": {},
   "outputs": [
    {
     "name": "stdout",
     "output_type": "stream",
     "text": [
      "(175, 3)\n",
      "(298, 3)\n"
     ]
    }
   ],
   "source": [
    "print(df1.shape)\n",
    "print(df2.shape)"
   ]
  },
  {
   "cell_type": "code",
   "execution_count": 26,
   "metadata": {},
   "outputs": [],
   "source": [
    "abortion_train_balanced = pd.concat([df1,df2])"
   ]
  },
  {
   "cell_type": "code",
   "execution_count": 27,
   "metadata": {},
   "outputs": [
    {
     "data": {
      "text/plain": [
       "(473, 3)"
      ]
     },
     "execution_count": 27,
     "metadata": {},
     "output_type": "execute_result"
    }
   ],
   "source": [
    "abortion_train_balanced.shape"
   ]
  },
  {
   "cell_type": "code",
   "execution_count": 28,
   "metadata": {},
   "outputs": [
    {
     "data": {
      "text/plain": [
       "280"
      ]
     },
     "execution_count": 28,
     "metadata": {},
     "output_type": "execute_result"
    }
   ],
   "source": [
    "abortion_test.shape[0]"
   ]
  },
  {
   "cell_type": "code",
   "execution_count": 29,
   "metadata": {},
   "outputs": [
    {
     "data": {
      "text/plain": [
       "<matplotlib.axes._subplots.AxesSubplot at 0x171699e5f88>"
      ]
     },
     "execution_count": 29,
     "metadata": {},
     "output_type": "execute_result"
    },
    {
     "data": {
      "image/png": "[encoded data removed]",
      "text/plain": [
       "<Figure size 432x288 with 1 Axes>"
      ]
     },
     "metadata": {
      "needs_background": "light"
     },
     "output_type": "display_data"
    }
   ],
   "source": [
    "sns.countplot(abortion_train_balanced.Stance)"
   ]
  },
  {
   "cell_type": "code",
   "execution_count": 30,
   "metadata": {},
   "outputs": [],
   "source": [
    "abortion_train_balanced[\"Tweet_procesado\"] = abortion_train_balanced[\"Tweet\"].apply(lambda x: preprocesar(x))"
   ]
  },
  {
   "cell_type": "markdown",
   "metadata": {},
   "source": [
    "### Representación como vector"
   ]
  },
  {
   "cell_type": "markdown",
   "metadata": {},
   "source": [
    "Los algoritmos de Machine Learning trabajan con espacios vectoriales. Entonces siempre que trabajemos con Procesamiento de Lenguaje Natural, como es nuestro caso, se plantea la cuestión de cómo representar texto con números. Hay muchas maneras de hacer esto y es un campo que sigue evolucionando con el tiempo. Una opción muy básica es asignarle a cada palabra que aparece en nuestro dataset un número según el orden en el que aparecen. Luego, una oración es un vector de índices de esas palabras. Pero el problema que tiene esto es que los algoritmos de Machine Learning también requieren que los vectores tengan una longitud fija, con lo cual hay que recortar la oración o agregarle ceros al final. Por eso un enfoque clásico para representar texto es el Bag Of Words: un vector de bits del tamaño de todo nuestro vocabulario que tiene un uno si la palabra está en la oración y un 0 si no está.\n",
    "\n",
    "- https://es.wikipedia.org/wiki/Modelo_bolsa_de_palabras\n",
    "- https://scikit-learn.org/stable/modules/feature_extraction.html#text-feature-extraction\n",
    "\n",
    "En particular, vamos a usar la libreria CountVectorizer que implementa el Bag Of Words de manera esparsa (eficiente) y le agrega varios features que van a sernos muy útiles:\n",
    "\n",
    "https://scikit-learn.org/stable/modules/generated/sklearn.feature_extraction.text.CountVectorizer.html\n",
    "\n",
    "En particular, vamos a usar los parámetros min_df y max_df que se corresponden con min y max document frequency. Ámbos toman valores entre 0 y 1 y estipulan el rango de frecuencia de aparición de una palabra dentro de un documento que vamos a aceptar. Es decir, si min_df es 0.005, todas las palabras que representen menos de un 0,5% de las palabras totales serán descartadas. Por el otro lado, si max_df es 0.35, todas las palabras que representen más de un 35% del total de palabras serán descartadas. Nos interesa descartar las palabras con demasiada frecuencia porque probablemente no tengan valor en términos de la entropía que aportan (es decir, no aportan información: pueden ser conectores, artículos, etc.) y las que tienen muy poca frecuencia porque pueden ser outliers, palabras demasiado específicas que no aportan a la tarea que queremos desarrollar.\n",
    "\n",
    "Las Bag Of Words, sin embargo, tienen un problema importante: no preservan el contexto y la relación semántica de las palabras entre sí. Este problema dio lugar a otros enfoques como los embeddings sobre los cuales les voy a dejar algunas cosas para que lean al final de manera optativa por si les da curiosidad. Incluso, luego de los embeddings, surgieron recientemente los contextualized embeddings que además de considerar la relación semántica, consideran el orden puntual dentro de la oración.\n",
    "\n",
    "Pero volviendo a las Bag Of Words, se puede hacer un pequeño \"truco\" para tener en cuenta, al menos parcialmente, algunas frases o expresiones con el orden en el que aparecen: el parámetro ngram_range calcula la frecuencia de ngramas. Resulta muy útil para descubrir frases o expresiones comunes (además de las palabras comunes). Además, en combinación con el parámetro \"analyzer\" se pueden usar como ngramas de palabras o de caracteres.\n",
    "\n",
    "#### Ejercicio 3\n",
    "\n",
    "Explorar los hiperparámetros de CountVectorizer. Ir modificando los valores de min_df, max_df y ngram-range. Observar cómo cambia el tamaño del vector.\n",
    "\n",
    "NOTA: Como el tamaño del vector (es decir, el vocabulario) debe ser igual para el entrenamiento como para el test, tenemos que vectorizar al mismo tiempo el dataset de train y de test"
   ]
  },
  {
   "cell_type": "code",
   "execution_count": 31,
   "metadata": {},
   "outputs": [],
   "source": [
    "text_train_abortion = abortion_train[\"Tweet_procesado\"]\n",
    "text_test_abortion = abortion_test[\"Tweet_procesado\"]\n",
    "\n",
    "vectorizer = CountVectorizer(\n",
    "    binary=True, min_df=0.0075, max_df=0.75, ngram_range=(1, 10),\n",
    "    #stop_words=stopwords.words('spanish')\n",
    ")\n",
    "\n",
    "X_abortion = vectorizer.fit_transform([*text_train_abortion, *text_test_abortion])"
   ]
  },
  {
   "cell_type": "code",
   "execution_count": 32,
   "metadata": {},
   "outputs": [],
   "source": [
    "VEC_train_abortion = X_abortion[:len(text_train_abortion)]\n",
    "VEC_test_abortion = X_abortion[len(text_train_abortion):]"
   ]
  },
  {
   "cell_type": "code",
   "execution_count": 33,
   "metadata": {},
   "outputs": [
    {
     "name": "stdout",
     "output_type": "stream",
     "text": [
      "(933, 197)\n",
      "{'law': 85, 'abortion': 2, 'ok': 120, 'can': 29, 'body': 26, 'want': 179, 'put': 137, 'born': 27, 'children': 33, 'life': 89, 'human': 74, 'right': 143, 'new': 118, 'day': 42, 'alive': 4, 'thank': 163, 'god': 65, 'another': 9, 'women': 189, 'know': 84, 'choices': 35, 'come': 38, 'one': 121, 'today': 173, 'say': 148, 'believe': 19, 'pray': 130, 'planned': 127, 'need': 116, 'human life': 75, 'rt': 145, 'give': 63, 'wrong': 194, 'live': 92, 'world': 192, 'people': 125, 'care': 30, 'religious': 141, 'rights': 144, 'love': 97, 'mother': 111, 'choice': 34, 'said': 147, 'nothing': 119, 'pregnant': 132, 'safe': 146, 'great': 69, 'pregnant people': 133, 'get': 61, 'we': 182, 'll': 95, 'mean': 106, 'abortions': 3, 'dead': 44, 'would': 193, 'force': 59, 'woman': 187, 'health': 71, 'pregnancy': 131, 'someone': 152, 'wants': 180, 'person': 126, 'marriage': 103, 'pro': 134, 'babies': 16, 'aborted': 1, 'pro life': 136, 'whole': 185, 'choose': 36, 'make': 99, 'kids': 80, 'they': 167, 're': 139, 'they re': 168, 'work': 191, 'unborn': 174, 'child': 32, 'could': 41, 'equal': 51, 'yes': 196, 'freedom': 60, 'rape': 138, 'abort': 0, 'sex': 151, 'there': 166, 'control': 40, 'without': 186, 'stop': 156, 'much': 112, 'illegal': 76, 'kill': 81, 'legal': 87, 'baby': 17, 'let': 88, 'like': 90, 'birth': 21, 'support': 157, 'killing': 83, 'made': 98, 'go': 64, 'help': 72, 'going': 66, 'stand': 154, 'really': 140, 'matter': 104, 'years': 195, 'pro choice': 135, 'see': 150, 'many': 102, 'always': 7, 'issue': 78, 'every': 55, 'we re': 183, 'mom': 110, 'medical': 107, 'men': 108, 'decisions': 47, 'fetus': 58, 'must': 114, 'long': 96, 'use': 178, 'family': 57, 'thanks': 164, 'nation': 115, 'innocent': 77, 'unborn babies': 175, 'dear': 45, 'already': 5, 'back': 18, 'sure': 158, 'texas': 162, 'also': 6, 'death': 46, 'days': 43, 'conception': 39, 'time': 172, 'end': 50, 'making': 100, 'way': 181, 'that': 165, 'best': 20, 'well': 184, 'ur': 176, 'never': 117, 'something': 153, 'anyone': 12, 'anti': 10, 'may': 105, 'ever': 54, 'anything': 13, 'even': 53, 'keep': 79, 'change': 31, 'little': 91, 'good': 67, 'us': 177, 'man': 101, 'tell': 161, 'murder': 113, 'past': 124, 'think': 171, 'ppl': 129, 'lives': 93, 'business': 28, 'still': 155, 'effect': 49, 'away': 15, 'black': 23, 'killed': 82, 'please': 128, 'happy': 70, 'taking': 160, 'take': 159, 'hope': 73, 'says': 149, 'thing': 169, 'birth control': 22, 'responsible': 142, 'government': 68, 'laws': 86, 'clinics': 37, 'millions': 109, 'women rights': 190, 'ones': 122, 'bodily': 24, 'autonomy': 14, 'bodily autonomy': 25, 'getting': 62, 'womb': 188, 'die': 48, 'america': 8, 'things': 170, 'everyone': 56, 'equality': 52, 'anti choice': 11, 'parents': 123, 'living': 94}\n"
     ]
    }
   ],
   "source": [
    "print(X_abortion.shape)  # Tener en cuenta que el número indica el índice, no la frecuencia\n",
    "print(vectorizer.vocabulary_)"
   ]
  },
  {
   "cell_type": "markdown",
   "metadata": {},
   "source": [
    "Hacer esto mismo para los otros tres datasets (Cambio climático, feminismo y el del aborto balanceado)"
   ]
  },
  {
   "cell_type": "markdown",
   "metadata": {},
   "source": [
    "### EXTRA: Word Embeddings"
   ]
  },
  {
   "cell_type": "markdown",
   "metadata": {},
   "source": [
    "Los embeddings de palabras son algo bastante nuevo en el campo del Procesamiento Del Lenguaje Natural (ultimos 10 años) pero fueron algo totalmente revolucionario que cambio absolutamente la disciplina. Desde que aparecieron las primeras versiones de embeddings (word2vec, glove, varias otras) surgieron muchas versiones distintas hechas con diversos algoritmos y técnicas. Pero todos tienen algo en común: tratan de captar la semántica de una palabra representandola con un vector (un número) que se calcula en base a los valores de las palabras que aparecen en el contexto de esa palabra. O sea, para cada palabra se calcula de manera iterativa un valor sobre la base de qué palabras aparecen antes y después en miles y miles de textos que se usan para entrenar los embeddings. Esos valores luego se exportan y se usan como representación de las palabras.\n",
    "\n",
    "No es del alcance de este trabajo práctico meterse en este tema, que correspondería más a un curso introductorio de Procesamiento del Lenguaje Natural y ya no a Machine Learning, pero me pareció interesante comentarselos como una alternativa (muy muy) frecuente frente al problema de decidir como representar texto con números.\n",
    "\n",
    "Si les interesa y quieren leer/investigar más al respecto, aca hay una clase del curso de PLN de Standford:\n",
    "https://www.youtube.com/watch?v=ERibwqs9p38&list=PL3FW7Lu3i5Jsnh1rnUwq_TcylNr7EkRe6&index=2\n",
    "\n",
    "La clase está buena aunque tiene bastante matemática. Es más que nada para que se entienda el concepto igualmente"
   ]
  },
  {
   "cell_type": "markdown",
   "metadata": {},
   "source": [
    "# Clasificadores"
   ]
  },
  {
   "cell_type": "markdown",
   "metadata": {},
   "source": [
    "A continuación van a realizar experimentos con tres clasificadores básicos. Para cada uno van a tener que probar una serie de hiperparámetros. Les incluyo la documentación para que puedan leer qué es cada hiperparámetro que están probando. Luego de cada corrida, evaluan el clasificador con cuatro métricas: Accuracy Score, F1 micro, F1 macro y el promedio del F1 de la clase Favor con el F1 de la clase Against. La idea es que vayan cambiando los valores de un hiperparámetro dejando fijos el resto y vean cómo ese cambio impacta en las métricas. Finalmente, para cada clasificador escriban un pequeño informe planteando cuan sensible es cada parámetro respecto de cada métrica, por qué piensan que es así de sensible y cuales son los mejores valores que encontraron. Finalmente, elijan el clasificador que les parezca más adecuado para esta tarea y justifiquen su elección. Para ese clasificador que hayan elegido van a probar luego, una busqueda más exhaustiva de hiperparámetros usando Grid Search. Este procedimiento deben hacerlo **al menos** para **dos de los cuatro** datasets con los que venimos trabajando (aborto, aborto balanceado, cambio climático y feminismo)"
   ]
  },
  {
   "cell_type": "markdown",
   "metadata": {},
   "source": [
    "### Perceptron"
   ]
  },
  {
   "cell_type": "markdown",
   "metadata": {},
   "source": [
    "https://scikit-learn.org/stable/modules/generated/sklearn.linear_model.Perceptron.html"
   ]
  },
  {
   "cell_type": "code",
   "execution_count": 34,
   "metadata": {},
   "outputs": [
    {
     "data": {
      "text/plain": [
       "Perceptron(alpha=0.001, class_weight=None, early_stopping=False, eta0=1.0,\n",
       "           fit_intercept=True, max_iter=1000, n_iter_no_change=5, n_jobs=None,\n",
       "           penalty='l1', random_state=0, shuffle=True, tol=1,\n",
       "           validation_fraction=0.1, verbose=0, warm_start=False)"
      ]
     },
     "execution_count": 34,
     "metadata": {},
     "output_type": "execute_result"
    }
   ],
   "source": [
    "y_train = abortion_train[\"Stance\"]\n",
    "y_test = abortion_test[\"Stance\"]\n",
    "\n",
    "# En principio, pueden utilizar el módulo que sigue, con los parámetros por defecto y los que definan a continuación:\n",
    "penalty = 'l1'  # No cambia con las otras opciones (None, l2, y elasticnet)\n",
    "alpha = 0.001   # A medida que aumenta es test da mejor que el train\n",
    "                # A medida que disminuye overfittea\n",
    "max_iter = 1000  # No cambia  \n",
    "tol = 1  # No parece ser muy sensible\n",
    "\n",
    "model = Perceptron(penalty = penalty, alpha = alpha, fit_intercept=True, max_iter = max_iter, tol = tol, shuffle=True, random_state=0, class_weight=None, warm_start=False)\n",
    "model.fit(VEC_train_abortion, y_train)"
   ]
  },
  {
   "cell_type": "code",
   "execution_count": 35,
   "metadata": {},
   "outputs": [
    {
     "name": "stdout",
     "output_type": "stream",
     "text": [
      "Accuracy para conjunto de entrenamiento: 0.67\n",
      "F1 micro para conjunto de entrenamiento: 0.67\n",
      "F1 macro para conjunto de entrenamiento: 0.59\n",
      "F1 average para conjunto de entrenamiento: 0.64\n",
      "Accuracy para conjunto de test: 0.60\n",
      "F1 micro para conjunto de test: 0.60\n",
      "F1 macro para conjunto de test: 0.46\n",
      "F1 average para conjunto de test: 0.59\n"
     ]
    }
   ],
   "source": [
    "y_pred_train =  model.predict(VEC_train_abortion)\n",
    "accuracy_train = accuracy_score(y_train, y_pred_train)\n",
    "f1_train_micro = f1_score(y_train, y_pred_train, average=\"micro\", labels=[\"NONE\", \"AGAINST\", \"FAVOR\"])\n",
    "f1_train_macro = f1_score(y_train, y_pred_train, average=\"macro\", labels=[\"NONE\", \"AGAINST\", \"FAVOR\"])\n",
    "f1_train = f1_score(y_train, y_pred_train, average=None, labels=[\"NONE\", \"AGAINST\", \"FAVOR\"])\n",
    "f1_train_average = (f1_score(y_train, y_pred_train, average=None, labels=[\"AGAINST\"]) + f1_score(y_train, y_pred_train, average=None, labels= [\"FAVOR\"]))/2\n",
    "\n",
    "print(\"Accuracy para conjunto de entrenamiento: %.2f\" % accuracy_train)\n",
    "print(\"F1 micro para conjunto de entrenamiento: %.2f\" % f1_train_micro)\n",
    "print(\"F1 macro para conjunto de entrenamiento: %.2f\" % f1_train_macro)\n",
    "print(\"F1 average para conjunto de entrenamiento: %.2f\" % f1_train_average)\n",
    "\n",
    "y_pred_test =  model.predict(VEC_test_abortion)\n",
    "accuracy_test = accuracy_score(y_test, y_pred_test)\n",
    "f1_test_micro = f1_score(y_test, y_pred_test, average=\"micro\", labels=[\"NONE\", \"AGAINST\", \"FAVOR\"])\n",
    "f1_test_macro = f1_score(y_test, y_pred_test, average=\"macro\", labels=[\"NONE\", \"AGAINST\", \"FAVOR\"])\n",
    "f1_test = f1_score(y_test, y_pred_test, average=None, labels=[\"NONE\", \"AGAINST\", \"FAVOR\"])\n",
    "f1_test_average = (f1_score(y_test, y_pred_test, average=None, labels=[\"AGAINST\"]) + f1_score(y_test, y_pred_test, average=None, labels= [\"FAVOR\"]))/2\n",
    "\n",
    "print(\"Accuracy para conjunto de test: %.2f\" % accuracy_test)\n",
    "print(\"F1 micro para conjunto de test: %.2f\" % f1_test_micro)\n",
    "print(\"F1 macro para conjunto de test: %.2f\" % f1_test_macro)\n",
    "print(\"F1 average para conjunto de test: %.2f\" % f1_test_average)"
   ]
  },
  {
   "cell_type": "markdown",
   "metadata": {},
   "source": [
    "### K-NN"
   ]
  },
  {
   "cell_type": "markdown",
   "metadata": {},
   "source": [
    "https://scikit-learn.org/stable/modules/generated/sklearn.neighbors.KNeighborsClassifier.html"
   ]
  },
  {
   "cell_type": "code",
   "execution_count": 36,
   "metadata": {},
   "outputs": [],
   "source": [
    "from sklearn.neighbors import KNeighborsClassifier"
   ]
  },
  {
   "cell_type": "code",
   "execution_count": 37,
   "metadata": {},
   "outputs": [
    {
     "data": {
      "text/plain": [
       "KNeighborsClassifier(algorithm='auto', leaf_size=30, metric='cosine',\n",
       "                     metric_params=None, n_jobs=None, n_neighbors=5, p=2,\n",
       "                     weights='uniform')"
      ]
     },
     "execution_count": 37,
     "metadata": {},
     "output_type": "execute_result"
    }
   ],
   "source": [
    "n_neighbors = 5 # Cantidad de vecinos a tener en cuenta\n",
    "                # A medida que disminuye overfittea y a medida que aumenta los scores empeoran\n",
    "metric = 'cosine'     # Medida de distancia. Algunas opciones: cosine, euclidean, manhattan.\n",
    "\n",
    "model = KNeighborsClassifier(n_neighbors=n_neighbors, metric=metric)\n",
    "model.fit(VEC_train_abortion, y_train)"
   ]
  },
  {
   "cell_type": "code",
   "execution_count": 38,
   "metadata": {},
   "outputs": [
    {
     "name": "stdout",
     "output_type": "stream",
     "text": [
      "Accuracy para conjunto de entrenamiento: 0.73\n",
      "F1 micro para conjunto de entrenamiento: 0.73\n",
      "F1 macro para conjunto de entrenamiento: 0.66\n",
      "F1 average para conjunto de entrenamiento: 0.70\n",
      "Accuracy para conjunto de test: 0.67\n",
      "F1 micro para conjunto de test: 0.67\n",
      "F1 macro para conjunto de test: 0.54\n",
      "F1 average para conjunto de test: 0.63\n"
     ]
    }
   ],
   "source": [
    "y_pred_train =  model.predict(VEC_train_abortion)\n",
    "accuracy_train = accuracy_score(y_train, y_pred_train)\n",
    "f1_train_micro = f1_score(y_train, y_pred_train, average=\"micro\", labels=[\"NONE\", \"AGAINST\", \"FAVOR\"])\n",
    "f1_train_macro = f1_score(y_train, y_pred_train, average=\"macro\", labels=[\"NONE\", \"AGAINST\", \"FAVOR\"])\n",
    "f1_train = f1_score(y_train, y_pred_train, average=None, labels=[\"NONE\", \"AGAINST\", \"FAVOR\"])\n",
    "f1_train_average = f1_train_average = (f1_score(y_train, y_pred_train, average=None, labels=[\"AGAINST\"]) + f1_score(y_train, y_pred_train, average=None, labels= [\"FAVOR\"]))/2\n",
    "\n",
    "print(\"Accuracy para conjunto de entrenamiento: %.2f\" % accuracy_train)\n",
    "print(\"F1 micro para conjunto de entrenamiento: %.2f\" % f1_train_micro)\n",
    "print(\"F1 macro para conjunto de entrenamiento: %.2f\" % f1_train_macro)\n",
    "print(\"F1 average para conjunto de entrenamiento: %.2f\" % f1_train_average)\n",
    "\n",
    "y_pred_test =  model.predict(VEC_test_abortion)\n",
    "accuracy_test = accuracy_score(y_test, y_pred_test)\n",
    "f1_test_micro = f1_score(y_test, y_pred_test, average=\"micro\", labels=[\"NONE\", \"AGAINST\", \"FAVOR\"])\n",
    "f1_test_macro = f1_score(y_test, y_pred_test, average=\"macro\", labels=[\"NONE\", \"AGAINST\", \"FAVOR\"])\n",
    "f1_test = f1_score(y_test, y_pred_test, average=None, labels=[\"NONE\", \"AGAINST\", \"FAVOR\"])\n",
    "f1_test_average = (f1_score(y_test, y_pred_test, average=None, labels=[\"AGAINST\"]) + f1_score(y_test, y_pred_test, average=None, labels= [\"FAVOR\"]))/2\n",
    "\n",
    "print(\"Accuracy para conjunto de test: %.2f\" % accuracy_test)\n",
    "print(\"F1 micro para conjunto de test: %.2f\" % f1_test_micro)\n",
    "print(\"F1 macro para conjunto de test: %.2f\" % f1_test_macro)\n",
    "print(\"F1 average para conjunto de test: %.2f\" % f1_test_average)"
   ]
  },
  {
   "cell_type": "markdown",
   "metadata": {},
   "source": [
    "### Logistic Regression"
   ]
  },
  {
   "cell_type": "markdown",
   "metadata": {},
   "source": [
    "https://scikit-learn.org/stable/modules/generated/sklearn.linear_model.LogisticRegression.html"
   ]
  },
  {
   "cell_type": "code",
   "execution_count": 39,
   "metadata": {},
   "outputs": [
    {
     "data": {
      "text/plain": [
       "LogisticRegression(C=0.1, class_weight=None, dual=False, fit_intercept=True,\n",
       "                   intercept_scaling=1, l1_ratio=None, max_iter=10,\n",
       "                   multi_class='auto', n_jobs=None, penalty='l2',\n",
       "                   random_state=None, solver='lbfgs', tol=0.0001, verbose=0,\n",
       "                   warm_start=False)"
      ]
     },
     "execution_count": 39,
     "metadata": {},
     "output_type": "execute_result"
    }
   ],
   "source": [
    "penalty =  'l2' # Tipo de regularización: l1 (valor absoluto), l2 (cuadrados).\n",
    "                  # Con none overfitea, l1 y elasticnet no los soporta\n",
    "alpha =  10 # Parámetro de regularización. También denominado como parámetro `lambda`. Debe ser mayor que 0.\n",
    "            # A medida que disminuye overfitea y a medida que aumenta empeora\n",
    "max_iter =  10 # Cantidad máxima de iteraciones del algoritmo.\n",
    "               # No es sensible para valores muy altos y para valores bajos empeora\n",
    "tol =  0.0001 # Precisión del algoritmo (error mínimo entre una iteración y la siguiente).\n",
    "        # Para valores chicos no es sensible y para valores altos empeora\n",
    "model = LogisticRegression(penalty=penalty, C=1./alpha, max_iter=max_iter, tol=tol)\n",
    "model.fit(VEC_train_abortion, y_train)"
   ]
  },
  {
   "cell_type": "code",
   "execution_count": 40,
   "metadata": {},
   "outputs": [
    {
     "name": "stdout",
     "output_type": "stream",
     "text": [
      "Accuracy para conjunto de entrenamiento: 0.71\n",
      "F1 micro para conjunto de entrenamiento: 0.71\n",
      "F1 macro para conjunto de entrenamiento: 0.62\n",
      "F1 average para conjunto de entrenamiento: 0.68\n",
      "Accuracy para conjunto de test: 0.66\n",
      "F1 micro para conjunto de test: 0.66\n",
      "F1 macro para conjunto de test: 0.48\n",
      "F1 average para conjunto de test: 0.63\n"
     ]
    }
   ],
   "source": [
    "y_pred_train =  model.predict(VEC_train_abortion)\n",
    "accuracy_train = accuracy_score(y_train, y_pred_train)\n",
    "f1_train_micro = f1_score(y_train, y_pred_train, average=\"micro\", labels=[\"NONE\", \"AGAINST\", \"FAVOR\"])\n",
    "f1_train_macro = f1_score(y_train, y_pred_train, average=\"macro\", labels=[\"NONE\", \"AGAINST\", \"FAVOR\"])\n",
    "f1_train = f1_score(y_train, y_pred_train, average=None, labels=[\"NONE\", \"AGAINST\", \"FAVOR\"])\n",
    "f1_train_average = f1_train_average = (f1_score(y_train, y_pred_train, average=None, labels=[\"AGAINST\"]) + f1_score(y_train, y_pred_train, average=None, labels= [\"FAVOR\"]))/2\n",
    "\n",
    "print(\"Accuracy para conjunto de entrenamiento: %.2f\" % accuracy_train)\n",
    "print(\"F1 micro para conjunto de entrenamiento: %.2f\" % f1_train_micro)\n",
    "print(\"F1 macro para conjunto de entrenamiento: %.2f\" % f1_train_macro)\n",
    "print(\"F1 average para conjunto de entrenamiento: %.2f\" % f1_train_average)\n",
    "\n",
    "y_pred_test =  model.predict(VEC_test_abortion)\n",
    "accuracy_test = accuracy_score(y_test, y_pred_test)\n",
    "f1_test_micro = f1_score(y_test, y_pred_test, average=\"micro\", labels=[\"NONE\", \"AGAINST\", \"FAVOR\"])\n",
    "f1_test_macro = f1_score(y_test, y_pred_test, average=\"macro\", labels=[\"NONE\", \"AGAINST\", \"FAVOR\"])\n",
    "f1_test = f1_score(y_test, y_pred_test, average=None, labels=[\"NONE\", \"AGAINST\", \"FAVOR\"])\n",
    "f1_test_average = (f1_score(y_test, y_pred_test, average=None, labels=[\"AGAINST\"]) + f1_score(y_test, y_pred_test, average=None, labels= [\"FAVOR\"]))/2\n",
    "\n",
    "print(\"Accuracy para conjunto de test: %.2f\" % accuracy_test)\n",
    "print(\"F1 micro para conjunto de test: %.2f\" % f1_test_micro)\n",
    "print(\"F1 macro para conjunto de test: %.2f\" % f1_test_macro)\n",
    "print(\"F1 average para conjunto de test: %.2f\" % f1_test_average)"
   ]
  },
  {
   "cell_type": "markdown",
   "metadata": {},
   "source": [
    "### Grid Search"
   ]
  },
  {
   "cell_type": "markdown",
   "metadata": {},
   "source": [
    "El algoritmo que obtuve mejores métricas es el de los vecinos más cercanos"
   ]
  },
  {
   "cell_type": "code",
   "execution_count": 41,
   "metadata": {},
   "outputs": [
    {
     "data": {
      "text/plain": [
       "GridSearchCV(cv=6, error_score=nan,\n",
       "             estimator=KNeighborsClassifier(algorithm='auto', leaf_size=30,\n",
       "                                            metric='minkowski',\n",
       "                                            metric_params=None, n_jobs=None,\n",
       "                                            n_neighbors=5, p=2,\n",
       "                                            weights='uniform'),\n",
       "             iid='deprecated', n_jobs=None,\n",
       "             param_grid={'metric': ['cosine', 'manhattan', 'euclidean',\n",
       "                                    'minkowvski'],\n",
       "                         'n_neighbors': [1, 2, 3, 4, 5, 10, 20, 100, 200]},\n",
       "             pre_dispatch='2*n_jobs', refit=True, return_train_score=False,\n",
       "             scoring='f1_micro', verbose=0)"
      ]
     },
     "execution_count": 41,
     "metadata": {},
     "output_type": "execute_result"
    },
    {
     "name": "stdout",
     "output_type": "stream",
     "text": [
      "Mejor conjunto de parámetros:\n",
      "{'metric': 'cosine', 'n_neighbors': 20}\n",
      "\n",
      "\n",
      "Puntajes de la grilla:\n",
      "\n",
      "\n",
      "Reporte de clasificación para el mejor clasificador (sobre conjunto de evaluación):\n",
      "\n",
      "              precision    recall  f1-score   support\n",
      "\n",
      "     AGAINST       0.71      0.89      0.79       189\n",
      "       FAVOR       0.39      0.26      0.31        46\n",
      "        NONE       0.36      0.09      0.14        45\n",
      "\n",
      "    accuracy                           0.66       280\n",
      "   macro avg       0.49      0.41      0.41       280\n",
      "weighted avg       0.60      0.66      0.61       280\n",
      "\n",
      "\n",
      "================================================\n",
      "\n"
     ]
    }
   ],
   "source": [
    "# Para la búsqueda de los mejores parámetros, por ejemplo de logistic regression, pueden usar:\n",
    "\n",
    "exploring_params = {\n",
    "        'n_neighbors': [ 1, 2, 3, 4, 5, 10, 20, 100, 200], # Inversa del coeficiente de regularización\n",
    "        'metric': ['cosine', 'manhattan', 'euclidean', 'minkowvski'],  # Cantidad de iteraciones\n",
    "    }\n",
    "\n",
    "m = KNeighborsClassifier()\n",
    "n_cross_val =  6 # Seleccionar folds\n",
    "scoring = \"f1_micro\"\n",
    "model = GridSearchCV(m, exploring_params, cv=n_cross_val, scoring=scoring)\n",
    "    \n",
    "model.fit(VEC_train_abortion, y_train)\n",
    "\n",
    "print(\"Mejor conjunto de parámetros:\")\n",
    "print(model.best_params_, end=\"\\n\\n\")\n",
    "print()\n",
    "print(\"Puntajes de la grilla:\", end=\"\\n\\n\")\n",
    "means = model.cv_results_['mean_test_score']\n",
    "stds = model.cv_results_['std_test_score']\n",
    "print()\n",
    "print(\"Reporte de clasificación para el mejor clasificador (sobre conjunto de evaluación):\", end=\"\\n\\n\")\n",
    "y_true, y_pred = y_test, model.predict(VEC_test_abortion)\n",
    "print(classification_report(y_true, y_pred), end=\"\\n\\n\")\n",
    "\n",
    "print(\"================================================\", end=\"\\n\\n\")"
   ]
  }
 ],
 "metadata": {
  "kernelspec": {
   "display_name": "Python 3",
   "language": "python",
   "name": "python3"
  },
  "language_info": {
   "codemirror_mode": {
    "name": "ipython",
    "version": 3
   },
   "file_extension": ".py",
   "mimetype": "text/x-python",
   "name": "python",
   "nbconvert_exporter": "python",
   "pygments_lexer": "ipython3",
   "version": "3.7.6"
  }
 },
 "nbformat": 4,
 "nbformat_minor": 4
}
